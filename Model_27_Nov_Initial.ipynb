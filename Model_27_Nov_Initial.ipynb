{
  "nbformat": 4,
  "nbformat_minor": 0,
  "metadata": {
    "colab": {
      "name": "Model_24_Nov.ipynb",
      "provenance": [],
      "collapsed_sections": []
    },
    "kernelspec": {
      "display_name": "Python 3",
      "language": "python",
      "name": "python3"
    },
    "language_info": {
      "codemirror_mode": {
        "name": "ipython",
        "version": 3
      },
      "file_extension": ".py",
      "mimetype": "text/x-python",
      "name": "python",
      "nbconvert_exporter": "python",
      "pygments_lexer": "ipython3",
      "version": "3.8.5"
    },
    "accelerator": "GPU"
  },
  "cells": [
    {
      "cell_type": "markdown",
      "metadata": {
        "id": "2guthgOz-Ssm"
      },
      "source": [
        "# Coursework for Cardiac MR Image Segmentation (2021-2022)\n",
        "\n",
        "After you have gone through the coursework description, this tutorial is designed to further helps you understand the problem and therefore enable you to propose a good solution for this coursework. You will learn:\n",
        "\n",
        "* how to load and save images with OpenCV\n",
        "* how to train a segmentation model with Pytorch\n",
        "* how to evaluate the trained model"
      ]
    },
    {
      "cell_type": "markdown",
      "metadata": {
        "id": "gsnVbP35-Sso"
      },
      "source": [
        "## 1. Load, show, and save images with OpenCV\n",
        "\n",
        "OpenCV is an open-source computer vision library which helps us to manipulate image data. In this section, we will cover:\n",
        "* Loading an image from file with imread()\n",
        "* Displaying the image with matplotlib plt.imshow()\n",
        "* Saving an image with imwrite()\n",
        "\n",
        "For a more comprehensive study of OpenCV, we encourage you to check the official [OpenCV documentation](https://docs.opencv.org/master/index.html)."
      ]
    },
    {
      "cell_type": "code",
      "metadata": {
        "colab": {
          "base_uri": "https://localhost:8080/"
        },
        "id": "sB-PYVl-SOkm",
        "outputId": "385b06d4-6b89-49ec-c996-da830862215a"
      },
      "source": [
        "from google.colab import drive\n",
        "drive.mount('/content/drive')"
      ],
      "execution_count": null,
      "outputs": [
        {
          "output_type": "stream",
          "name": "stdout",
          "text": [
            "Drive already mounted at /content/drive; to attempt to forcibly remount, call drive.mount(\"/content/drive\", force_remount=True).\n"
          ]
        }
      ]
    },
    {
      "cell_type": "code",
      "metadata": {
        "colab": {
          "base_uri": "https://localhost:8080/"
        },
        "id": "uwKOtbVsc8C8",
        "outputId": "679a1bbe-ec93-4833-b584-a1a1c22f16f5"
      },
      "source": [
        "import torch\n",
        "device = torch.device('cuda' if torch.cuda.is_available() else 'cpu')\n",
        "print('device  :',device)"
      ],
      "execution_count": null,
      "outputs": [
        {
          "output_type": "stream",
          "name": "stdout",
          "text": [
            "device  : cuda\n"
          ]
        }
      ]
    },
    {
      "cell_type": "code",
      "metadata": {
        "id": "C7ZvSiY3qW_U"
      },
      "source": [
        ""
      ],
      "execution_count": null,
      "outputs": []
    },
    {
      "cell_type": "code",
      "metadata": {
        "id": "EN5WJ_XG-Sso",
        "colab": {
          "base_uri": "https://localhost:8080/",
          "height": 175
        },
        "outputId": "e2caff02-6bec-482a-9540-8af8e8bdef6d"
      },
      "source": [
        "\n",
        "import os\n",
        "import cv2 #import OpenCVfrom matplotlib import pyplot as plt\n",
        "import matplotlib.pyplot as plt\n",
        "\n",
        "\n",
        "def show_image_mask(img, mask, cmap='gray'): # visualisation\n",
        "    fig = plt.figure(figsize=(5,5))\n",
        "    plt.subplot(1, 2, 1)\n",
        "    plt.imshow(img, cmap=cmap)\n",
        "    plt.axis('off')\n",
        "    plt.subplot(1, 2, 2)\n",
        "    plt.imshow(mask, cmap=cmap)\n",
        "    plt.axis('off')\n",
        "\n",
        "data_dir = '/content/drive/MyDrive/data/train/'\n",
        "image = cv2.imread(os.path.join(data_dir,'image','cmr1.png'), cv2.IMREAD_UNCHANGED)\n",
        "mask = cv2.imread(os.path.join(data_dir,'mask','cmr1_mask.png'), cv2.IMREAD_UNCHANGED)\n",
        "show_image_mask(image, mask, cmap='gray')\n",
        "plt.pause(1)\n",
        "cv2.imwrite(os.path.join('./','cmr1.png'), mask*85)\n",
        "print(image.shape)\n"
      ],
      "execution_count": null,
      "outputs": [
        {
          "output_type": "display_data",
          "data": {
            "image/png": "[encoded data removed]",
            "text/plain": [
              "<Figure size 360x360 with 2 Axes>"
            ]
          },
          "metadata": {
            "needs_background": "light"
          }
        },
        {
          "output_type": "stream",
          "name": "stdout",
          "text": [
            "(96, 96)\n"
          ]
        }
      ]
    },
    {
      "cell_type": "markdown",
      "metadata": {
        "id": "7UDvsGZnYfHS"
      },
      "source": [
        "Note: You will no doubt notice that the mask images appear to be completely black with no sign of any segmentations. This is because the max intensity of pixels in an 8-bit png image is 255 and your image viewer software only sees 255 as white. For those values close to zero, you will only see dark values. This is the case for our masks as the background, the right ventricle, the myocardium, and the left ventricle in each image are 0, 1, 2, and 3, respectively. All of which are close to zero. If we multiply the original mask by 85 and save the result to the directory where this code is, we can see the heart indeed shows up. "
      ]
    },
    {
      "cell_type": "markdown",
      "metadata": {
        "id": "hULAX3WH-Sss"
      },
      "source": [
        "## 2 Define a segmentation model with Pytorch\n",
        "\n",
        "In this section, we expect you to learn how to:\n",
        "* Define a Segmentation Model\n",
        "* Define a DataLoader that inputs images to the Model\n",
        "* Define training parameters and train the model\n",
        "* Test the trained model with a new input image"
      ]
    },
    {
      "cell_type": "markdown",
      "metadata": {
        "id": "IrKFgoZvUbeg"
      },
      "source": [
        "### 2.1 Define a DataLoader"
      ]
    },
    {
      "cell_type": "markdown",
      "metadata": {
        "id": "kC9s43MqqW_U"
      },
      "source": [
        "Below we provide you with a dataloader to use in your assigment. You will only need to focus on the development of your model and loss function.\n",
        "\n"
      ]
    },
    {
      "cell_type": "code",
      "metadata": {
        "id": "XYrD95T8qz8T"
      },
      "source": [
        "\n",
        "import torch\n",
        "import torch.utils.data as data\n",
        "import cv2\n",
        "import os\n",
        "from glob import glob\n",
        "path = '/content/drive/MyDrive/data/train'\n",
        "\n",
        "\n",
        "class TrainDataset(data.Dataset):\n",
        "    def __init__(self, root=path):\n",
        "        super(TrainDataset, self).__init__()\n",
        "        self.img_files = glob(os.path.join(root,'image','*.png'))\n",
        "        #print(self.img_files)\n",
        "        self.mask_files = []\n",
        "        #print(self.img_files)\n",
        "        for img_path in self.img_files:\n",
        "            basename = os.path.basename(img_path)\n",
        "            self.mask_files.append(os.path.join(root,'mask',basename[:-4]+'_mask.png'))\n",
        "            \n",
        "\n",
        "    def __getitem__(self, index):\n",
        "            img_path = self.img_files[index]\n",
        "            mask_path = self.mask_files[index]\n",
        "            data = cv2.imread(img_path, cv2.IMREAD_UNCHANGED)\n",
        "            label = cv2.imread(mask_path, cv2.IMREAD_UNCHANGED)\n",
        "            return torch.from_numpy(data).float(), torch.from_numpy(label).float()    #tensor vlaues for data( image) and label( mask) is returned.\n",
        "\n",
        "    def __len__(self):\n",
        "        return len(self.img_files)\n",
        "\n",
        "class TestDataset(data.Dataset):\n",
        "    def __init__(self, root=''):\n",
        "        super(TestDataset, self).__init__()\n",
        "        self.img_files = glob(os.path.join(root,'image','*.png'))\n",
        "\n",
        "    def __getitem__(self, index):\n",
        "            img_path = self.img_files[index]\n",
        "            data = cv2.imread(img_path, cv2.IMREAD_UNCHANGED)\n",
        "            return torch.from_numpy(data).float(),img_path\n",
        "\n",
        "    def __len__(self):\n",
        "        return len(self.img_files)\n"
      ],
      "execution_count": null,
      "outputs": []
    },
    {
      "cell_type": "markdown",
      "metadata": {
        "id": "82UAfnwSUgc_"
      },
      "source": [
        "### 2.2 Define a Segmenatation Model"
      ]
    },
    {
      "cell_type": "markdown",
      "metadata": {
        "id": "gEIkCqdfYnIn"
      },
      "source": [
        "You will need to define your CNN model for segmentation below\n",
        "\n",
        "The model used is UNEt with modifications"
      ]
    },
    {
      "cell_type": "code",
      "metadata": {
        "id": "-W6532hFXa_g"
      },
      "source": [
        "import torch\n",
        "import torch.nn as nn\n",
        "import torch.nn.functional as F\n",
        "\n",
        "def double_conv(in_channels, out_channels, mid_channels = None):\n",
        "    if not mid_channels:\n",
        "            mid_channels = out_channels\n",
        "    return nn.Sequential(\n",
        "            nn.Conv2d(in_channels, mid_channels, kernel_size=3, padding=1),\n",
        "            nn.BatchNorm2d(mid_channels),\n",
        "            nn.ReLU(inplace=True),\n",
        "            nn.Conv2d(mid_channels, out_channels, kernel_size=3, padding=1),\n",
        "            nn.BatchNorm2d(out_channels),\n",
        "            nn.ReLU(inplace=True)\n",
        "    )   \n",
        "\n",
        "class UNet(nn.Module):\n",
        "\n",
        "    def __init__(self, n_class=4):\n",
        "        super().__init__()\n",
        "\n",
        "        self.dconv_pre = double_conv(1,3)       \n",
        "        self.dconv_down1 = double_conv(3, 64)\n",
        "        self.dconv_down2 = double_conv(64, 128)\n",
        "        self.dconv_down3 = double_conv(128, 256)\n",
        "        self.dconv_down4 = double_conv(256, 512) \n",
        "       #self.dconv_down5 = double_conv(512, 1024)       \n",
        "\n",
        "        self.maxpool = nn.MaxPool2d(2)\n",
        "        self.upsample = nn.Upsample(scale_factor=2, mode='bilinear', align_corners=True)        \n",
        "        \n",
        "        self.dconv_up3 = double_conv(256 + 512, 256)\n",
        "        self.dconv_up2 = double_conv(128 + 256, 128)\n",
        "        self.dconv_up1 = double_conv(128 + 64, 64)\n",
        "        \n",
        "        self.conv_last = nn.Conv2d(64, n_class, 1)\n",
        "        \n",
        "        \n",
        "    def forward(self, x):\n",
        "\n",
        "        convpre = self.dconv_pre(x) #not maxpooling here\n",
        "        conv1 = self.dconv_down1(convpre)\n",
        "        x = self.maxpool(conv1)\n",
        "\n",
        "        conv2 = self.dconv_down2(x)\n",
        "        x = self.maxpool(conv2)\n",
        "        \n",
        "        conv3 = self.dconv_down3(x)\n",
        "        x = self.maxpool(conv3)   \n",
        "        \n",
        "        x = self.dconv_down4(x)\n",
        "        \n",
        "        x = self.upsample(x)        \n",
        "        x = torch.cat([x, conv3], dim=1)\n",
        "        \n",
        "        x = self.dconv_up3(x)\n",
        "        x = self.upsample(x)        \n",
        "        x = torch.cat([x, conv2], dim=1)       \n",
        "\n",
        "        x = self.dconv_up2(x)\n",
        "        x = self.upsample(x)        \n",
        "        x = torch.cat([x, conv1], dim=1)   \n",
        "        \n",
        "        x = self.dconv_up1(x)\n",
        "        \n",
        "        out = self.conv_last(x)\n",
        "        \n",
        "        return out\n",
        "\"\"\"\n",
        "class CNNSEG(nn.Module):\n",
        "\n",
        "    def __init__(self, n_class=4):\n",
        "        super().__init__()\n",
        "                \n",
        "        self.dconv_down1 = double_conv(1, 3)\n",
        "        self.dconv_down2 = double_conv(3, 64)\n",
        "        self.dconv_down3 = double_conv(64, 128)\n",
        "        self.dconv_down4 = double_conv(128, 256)\n",
        "        self.dconv_down5 = double_conv(256, 512)          \n",
        "\n",
        "        self.maxpool = nn.MaxPool2d(2) #kernel size two..stride = none\n",
        "\n",
        "        self.upsample = nn.Upsample(scale_factor=2, mode='bilinear', align_corners=True)        \n",
        "        \n",
        "        \n",
        "       # self.dconv_up3 = double_conv(256 + 512, 256)\n",
        "        #self.dconv_up2 = double_conv(128 + 256, 128)\n",
        "        #self.dconv_up1 = double_conv(128 + 64, 64)\n",
        "        self.dconv_up4 = double_conv(512+512, 512)\n",
        "        self.dconv_up3 = double_conv()\n",
        "        self.dconv_up2 = double_conv(512+512, 512)\n",
        "        self.dconv_up1 = double_conv(512+512, 512)\n",
        "        \n",
        "        self.conv_last = nn.Conv2d(64, n_class, 1)\n",
        "        \n",
        "        \n",
        "    def forward(self, x):\n",
        "        conv1 = self.dconv_down1(x)\n",
        "        x = self.maxpool(conv1)\n",
        "\n",
        "        conv2 = self.dconv_down2(x)\n",
        "        x = self.maxpool(conv2)\n",
        "        \n",
        "        conv3 = self.dconv_down3(x)\n",
        "        x = self.maxpool(conv3)   \n",
        "        \n",
        "        conv4 = self.dconv_down4(x)\n",
        "        x = self.maxpool(conv4) \n",
        "\n",
        "        conv5 = self.dconv_down5(x)\n",
        "\n",
        "        x = self.upsample(conv5)        #left with 512 channels and ..becomes 12 * 12\n",
        "        x = torch.cat([x, conv4], dim=1)\n",
        "        \n",
        "        x = self.dconv_up3(x)\n",
        "        x = self.upsample(x)        \n",
        "        x = torch.cat([x, conv3], dim=1)       \n",
        "\n",
        "        x = self.dconv_up2(x)\n",
        "        x = self.upsample(x)        \n",
        "        x = torch.cat([x, conv2], dim=1)   \n",
        "        \n",
        "        x = self.dconv_up1(x)\n",
        "        \n",
        "        out = self.conv_last(x)\n",
        "        \n",
        "        return out\n",
        "\"\"\"\n",
        "\n",
        "#https://github.com/usuyama/pytorch-unet/blob/master/pytorch_unet.py\n",
        "\n",
        "model = UNet() # We can now create a model using your defined segmentation model"
      ],
      "execution_count": null,
      "outputs": []
    },
    {
      "cell_type": "code",
      "metadata": {
        "id": "tUryRrRpTJpq"
      },
      "source": [
        "import torch\n",
        "import torch.nn as nn\n",
        "import torch.nn.functional as F\n",
        "\n",
        "def double_conv(in_channels, out_channels, mid_channels = None):\n",
        "    if not mid_channels:\n",
        "            mid_channels = out_channels\n",
        "    return nn.Sequential(\n",
        "            nn.Conv2d(in_channels, mid_channels, kernel_size=3, padding=1),\n",
        "            nn.BatchNorm2d(mid_channels),\n",
        "            nn.ReLU(inplace=True),\n",
        "            nn.Conv2d(mid_channels, out_channels, kernel_size=3, padding=1),\n",
        "            nn.BatchNorm2d(out_channels),\n",
        "            nn.ReLU(inplace=True)\n",
        "    )   \n",
        "\n",
        "class UNet(nn.Module):\n",
        "\n",
        "    def __init__(self, n_class=4):\n",
        "        super().__init__()\n",
        "\n",
        "        self.dconv_pre = nn.Sequential(nn.Conv2d(1, 3, kernel_size=3, padding=1),\n",
        "                                       nn.BatchNorm2d(3),\n",
        "                                       nn.ReLU(inplace=True))      \n",
        "        self.dconv_down1 = double_conv(3, 64)\n",
        "        self.dconv_down2 = double_conv(64, 128)\n",
        "        self.dconv_down3 = double_conv(128, 256)\n",
        "        self.dconv_down4 = double_conv(256, 512) \n",
        "       #self.dconv_down5 = double_conv(512, 1024)       \n",
        "\n",
        "        self.maxpool = nn.MaxPool2d(2)\n",
        "        self.upsample = nn.Upsample(scale_factor=2, mode='bilinear', align_corners=True)        \n",
        "        \n",
        "        self.dconv_up3 = double_conv(256 + 512, 256)\n",
        "        self.dconv_up2 = double_conv(128 + 256, 128)\n",
        "        self.dconv_up1 = double_conv(128 + 64, 64)\n",
        "        \n",
        "        self.conv_last = nn.Conv2d(64, n_class, 1)\n",
        "        \n",
        "        \n",
        "    def forward(self, x):\n",
        "\n",
        "        convpre = self.dconv_pre(x) #not maxpooling here\n",
        "        conv1 = self.dconv_down1(convpre)\n",
        "        x = self.maxpool(conv1)\n",
        "\n",
        "        conv2 = self.dconv_down2(x)\n",
        "        x = self.maxpool(conv2)\n",
        "        \n",
        "        conv3 = self.dconv_down3(x)\n",
        "        x = self.maxpool(conv3)   \n",
        "        \n",
        "        x = self.dconv_down4(x)\n",
        "        \n",
        "        x = self.upsample(x)        \n",
        "        x = torch.cat([x, conv3], dim=1)\n",
        "        \n",
        "        x = self.dconv_up3(x)\n",
        "        x = self.upsample(x)        \n",
        "        x = torch.cat([x, conv2], dim=1)       \n",
        "\n",
        "        x = self.dconv_up2(x)\n",
        "        x = self.upsample(x)        \n",
        "        x = torch.cat([x, conv1], dim=1)   \n",
        "        \n",
        "        x = self.dconv_up1(x)\n",
        "        \n",
        "        out = self.conv_last(x)\n",
        "        \n",
        "        return out\n",
        "\n",
        "model = UNet()"
      ],
      "execution_count": null,
      "outputs": []
    },
    {
      "cell_type": "code",
      "metadata": {
        "colab": {
          "base_uri": "https://localhost:8080/"
        },
        "id": "N8JgA8I1VxIJ",
        "outputId": "b97cc343-0194-4a26-bd9d-777cb35ae254"
      },
      "source": [
        "\n",
        "\n",
        "\n",
        "model = model.to(device)\n",
        "\n",
        "model"
      ],
      "execution_count": null,
      "outputs": [
        {
          "output_type": "execute_result",
          "data": {
            "text/plain": [
              "UNet(\n",
              "  (dconv_pre): Sequential(\n",
              "    (0): Conv2d(1, 3, kernel_size=(3, 3), stride=(1, 1), padding=(1, 1))\n",
              "    (1): BatchNorm2d(3, eps=1e-05, momentum=0.1, affine=True, track_running_stats=True)\n",
              "    (2): ReLU(inplace=True)\n",
              "  )\n",
              "  (dconv_down1): Sequential(\n",
              "    (0): Conv2d(3, 64, kernel_size=(3, 3), stride=(1, 1), padding=(1, 1))\n",
              "    (1): BatchNorm2d(64, eps=1e-05, momentum=0.1, affine=True, track_running_stats=True)\n",
              "    (2): ReLU(inplace=True)\n",
              "    (3): Conv2d(64, 64, kernel_size=(3, 3), stride=(1, 1), padding=(1, 1))\n",
              "    (4): BatchNorm2d(64, eps=1e-05, momentum=0.1, affine=True, track_running_stats=True)\n",
              "    (5): ReLU(inplace=True)\n",
              "  )\n",
              "  (dconv_down2): Sequential(\n",
              "    (0): Conv2d(64, 128, kernel_size=(3, 3), stride=(1, 1), padding=(1, 1))\n",
              "    (1): BatchNorm2d(128, eps=1e-05, momentum=0.1, affine=True, track_running_stats=True)\n",
              "    (2): ReLU(inplace=True)\n",
              "    (3): Conv2d(128, 128, kernel_size=(3, 3), stride=(1, 1), padding=(1, 1))\n",
              "    (4): BatchNorm2d(128, eps=1e-05, momentum=0.1, affine=True, track_running_stats=True)\n",
              "    (5): ReLU(inplace=True)\n",
              "  )\n",
              "  (dconv_down3): Sequential(\n",
              "    (0): Conv2d(128, 256, kernel_size=(3, 3), stride=(1, 1), padding=(1, 1))\n",
              "    (1): BatchNorm2d(256, eps=1e-05, momentum=0.1, affine=True, track_running_stats=True)\n",
              "    (2): ReLU(inplace=True)\n",
              "    (3): Conv2d(256, 256, kernel_size=(3, 3), stride=(1, 1), padding=(1, 1))\n",
              "    (4): BatchNorm2d(256, eps=1e-05, momentum=0.1, affine=True, track_running_stats=True)\n",
              "    (5): ReLU(inplace=True)\n",
              "  )\n",
              "  (dconv_down4): Sequential(\n",
              "    (0): Conv2d(256, 512, kernel_size=(3, 3), stride=(1, 1), padding=(1, 1))\n",
              "    (1): BatchNorm2d(512, eps=1e-05, momentum=0.1, affine=True, track_running_stats=True)\n",
              "    (2): ReLU(inplace=True)\n",
              "    (3): Conv2d(512, 512, kernel_size=(3, 3), stride=(1, 1), padding=(1, 1))\n",
              "    (4): BatchNorm2d(512, eps=1e-05, momentum=0.1, affine=True, track_running_stats=True)\n",
              "    (5): ReLU(inplace=True)\n",
              "  )\n",
              "  (maxpool): MaxPool2d(kernel_size=2, stride=2, padding=0, dilation=1, ceil_mode=False)\n",
              "  (upsample): Upsample(scale_factor=2.0, mode=bilinear)\n",
              "  (dconv_up3): Sequential(\n",
              "    (0): Conv2d(768, 256, kernel_size=(3, 3), stride=(1, 1), padding=(1, 1))\n",
              "    (1): BatchNorm2d(256, eps=1e-05, momentum=0.1, affine=True, track_running_stats=True)\n",
              "    (2): ReLU(inplace=True)\n",
              "    (3): Conv2d(256, 256, kernel_size=(3, 3), stride=(1, 1), padding=(1, 1))\n",
              "    (4): BatchNorm2d(256, eps=1e-05, momentum=0.1, affine=True, track_running_stats=True)\n",
              "    (5): ReLU(inplace=True)\n",
              "  )\n",
              "  (dconv_up2): Sequential(\n",
              "    (0): Conv2d(384, 128, kernel_size=(3, 3), stride=(1, 1), padding=(1, 1))\n",
              "    (1): BatchNorm2d(128, eps=1e-05, momentum=0.1, affine=True, track_running_stats=True)\n",
              "    (2): ReLU(inplace=True)\n",
              "    (3): Conv2d(128, 128, kernel_size=(3, 3), stride=(1, 1), padding=(1, 1))\n",
              "    (4): BatchNorm2d(128, eps=1e-05, momentum=0.1, affine=True, track_running_stats=True)\n",
              "    (5): ReLU(inplace=True)\n",
              "  )\n",
              "  (dconv_up1): Sequential(\n",
              "    (0): Conv2d(192, 64, kernel_size=(3, 3), stride=(1, 1), padding=(1, 1))\n",
              "    (1): BatchNorm2d(64, eps=1e-05, momentum=0.1, affine=True, track_running_stats=True)\n",
              "    (2): ReLU(inplace=True)\n",
              "    (3): Conv2d(64, 64, kernel_size=(3, 3), stride=(1, 1), padding=(1, 1))\n",
              "    (4): BatchNorm2d(64, eps=1e-05, momentum=0.1, affine=True, track_running_stats=True)\n",
              "    (5): ReLU(inplace=True)\n",
              "  )\n",
              "  (conv_last): Conv2d(64, 4, kernel_size=(1, 1), stride=(1, 1))\n",
              ")"
            ]
          },
          "metadata": {},
          "execution_count": 7
        }
      ]
    },
    {
      "cell_type": "code",
      "metadata": {
        "colab": {
          "base_uri": "https://localhost:8080/"
        },
        "id": "NXfeO8wDWV6S",
        "outputId": "0916fcfe-d644-4063-c6db-975b8c853f2b"
      },
      "source": [
        "from torchsummary import  summary\n",
        "#help to view the visualisation of the model\n",
        "\n",
        "summary(model,input_size=(1,96,96))"
      ],
      "execution_count": null,
      "outputs": [
        {
          "output_type": "stream",
          "name": "stdout",
          "text": [
            "----------------------------------------------------------------\n",
            "        Layer (type)               Output Shape         Param #\n",
            "================================================================\n",
            "            Conv2d-1            [-1, 3, 96, 96]              30\n",
            "       BatchNorm2d-2            [-1, 3, 96, 96]               6\n",
            "              ReLU-3            [-1, 3, 96, 96]               0\n",
            "            Conv2d-4           [-1, 64, 96, 96]           1,792\n",
            "       BatchNorm2d-5           [-1, 64, 96, 96]             128\n",
            "              ReLU-6           [-1, 64, 96, 96]               0\n",
            "            Conv2d-7           [-1, 64, 96, 96]          36,928\n",
            "       BatchNorm2d-8           [-1, 64, 96, 96]             128\n",
            "              ReLU-9           [-1, 64, 96, 96]               0\n",
            "        MaxPool2d-10           [-1, 64, 48, 48]               0\n",
            "           Conv2d-11          [-1, 128, 48, 48]          73,856\n",
            "      BatchNorm2d-12          [-1, 128, 48, 48]             256\n",
            "             ReLU-13          [-1, 128, 48, 48]               0\n",
            "           Conv2d-14          [-1, 128, 48, 48]         147,584\n",
            "      BatchNorm2d-15          [-1, 128, 48, 48]             256\n",
            "             ReLU-16          [-1, 128, 48, 48]               0\n",
            "        MaxPool2d-17          [-1, 128, 24, 24]               0\n",
            "           Conv2d-18          [-1, 256, 24, 24]         295,168\n",
            "      BatchNorm2d-19          [-1, 256, 24, 24]             512\n",
            "             ReLU-20          [-1, 256, 24, 24]               0\n",
            "           Conv2d-21          [-1, 256, 24, 24]         590,080\n",
            "      BatchNorm2d-22          [-1, 256, 24, 24]             512\n",
            "             ReLU-23          [-1, 256, 24, 24]               0\n",
            "        MaxPool2d-24          [-1, 256, 12, 12]               0\n",
            "           Conv2d-25          [-1, 512, 12, 12]       1,180,160\n",
            "      BatchNorm2d-26          [-1, 512, 12, 12]           1,024\n",
            "             ReLU-27          [-1, 512, 12, 12]               0\n",
            "           Conv2d-28          [-1, 512, 12, 12]       2,359,808\n",
            "      BatchNorm2d-29          [-1, 512, 12, 12]           1,024\n",
            "             ReLU-30          [-1, 512, 12, 12]               0\n",
            "         Upsample-31          [-1, 512, 24, 24]               0\n",
            "           Conv2d-32          [-1, 256, 24, 24]       1,769,728\n",
            "      BatchNorm2d-33          [-1, 256, 24, 24]             512\n",
            "             ReLU-34          [-1, 256, 24, 24]               0\n",
            "           Conv2d-35          [-1, 256, 24, 24]         590,080\n",
            "      BatchNorm2d-36          [-1, 256, 24, 24]             512\n",
            "             ReLU-37          [-1, 256, 24, 24]               0\n",
            "         Upsample-38          [-1, 256, 48, 48]               0\n",
            "           Conv2d-39          [-1, 128, 48, 48]         442,496\n",
            "      BatchNorm2d-40          [-1, 128, 48, 48]             256\n",
            "             ReLU-41          [-1, 128, 48, 48]               0\n",
            "           Conv2d-42          [-1, 128, 48, 48]         147,584\n",
            "      BatchNorm2d-43          [-1, 128, 48, 48]             256\n",
            "             ReLU-44          [-1, 128, 48, 48]               0\n",
            "         Upsample-45          [-1, 128, 96, 96]               0\n",
            "           Conv2d-46           [-1, 64, 96, 96]         110,656\n",
            "      BatchNorm2d-47           [-1, 64, 96, 96]             128\n",
            "             ReLU-48           [-1, 64, 96, 96]               0\n",
            "           Conv2d-49           [-1, 64, 96, 96]          36,928\n",
            "      BatchNorm2d-50           [-1, 64, 96, 96]             128\n",
            "             ReLU-51           [-1, 64, 96, 96]               0\n",
            "           Conv2d-52            [-1, 4, 96, 96]             260\n",
            "================================================================\n",
            "Total params: 7,788,776\n",
            "Trainable params: 7,788,776\n",
            "Non-trainable params: 0\n",
            "----------------------------------------------------------------\n",
            "Input size (MB): 0.04\n",
            "Forward/backward pass size (MB): 116.51\n",
            "Params size (MB): 29.71\n",
            "Estimated Total Size (MB): 146.25\n",
            "----------------------------------------------------------------\n"
          ]
        }
      ]
    },
    {
      "cell_type": "markdown",
      "metadata": {
        "id": "nRdPFTa9a34J"
      },
      "source": [
        "### 2.3 Define a Loss function and optimizer\n",
        "\n",
        "You will need to define a loss function and an optimizer. torch.nn has a variety of readymade loss functions, although you may wish to create your own instead. torch.optim has a variety of optimizers, it is advised that you use one of these."
      ]
    },
    {
      "cell_type": "code",
      "metadata": {
        "id": "QRjOZGXRbUFT",
        "colab": {
          "base_uri": "https://localhost:8080/",
          "height": 122
        },
        "outputId": "ee8af236-d89b-4cdb-9e28-f9f29523263c"
      },
      "source": [
        "\n",
        "import torch.optim as optim\n",
        "from torch.optim import lr_scheduler\n",
        "\n",
        "\"\"\"\n",
        "def dice_loss(pred,target, smooth = 1.):\n",
        "\n",
        "    pred = pred.contiguous()\n",
        "    target = target.contiguous()    \n",
        "    \n",
        "    #When you call contiguous(), it actually makes a copy of the tensor such that the order of its elements in memory is the same as if it had been created from scratch with the same data.\n",
        "\n",
        "    #Normally you don't need to worry about this. You're generally safe to assume everything will work, and wait until you get a RuntimeError: input is not contiguous where PyTorch expects a contiguous tensor to add a call to contiguous().\n",
        "\n",
        "    \n",
        "\n",
        "    intersection = (pred * target).sum(dim=2).sum(dim=2)\n",
        "    \n",
        "    loss = (1 - ((2. * intersection + smooth) / (pred.sum(dim=2).sum(dim=2) + target.sum(dim=2).sum(dim=2) + smooth)))\n",
        "    \n",
        "    return loss.mean()\n",
        "\n",
        "\n",
        "criterion = nn.CrossEntropyLoss()\n",
        "\n",
        "# so we have two types of loss the dice loss and cross entropy loss\n",
        "\n",
        "def optimizer():\n",
        "  return optim.Adam(filter( lambda p:p.requires_grad,model.parameters()),lr=1e-4)\n",
        "\n",
        "optimizer_ft = optimizer()\n",
        "def exp_lr_scheduler():\n",
        "  return lr_scheduler.StepLR(optimizer_ft,step_size=30,gamma=0.1)\n",
        "\"\"\"\n"
      ],
      "execution_count": null,
      "outputs": [
        {
          "output_type": "execute_result",
          "data": {
            "application/vnd.google.colaboratory.intrinsic+json": {
              "type": "string"
            },
            "text/plain": [
              "\"\\ndef dice_loss(pred,target, smooth = 1.):\\n\\n    pred = pred.contiguous()\\n    target = target.contiguous()    \\n    \\n    #When you call contiguous(), it actually makes a copy of the tensor such that the order of its elements in memory is the same as if it had been created from scratch with the same data.\\n\\n    #Normally you don't need to worry about this. You're generally safe to assume everything will work, and wait until you get a RuntimeError: input is not contiguous where PyTorch expects a contiguous tensor to add a call to contiguous().\\n\\n    \\n\\n    intersection = (pred * target).sum(dim=2).sum(dim=2)\\n    \\n    loss = (1 - ((2. * intersection + smooth) / (pred.sum(dim=2).sum(dim=2) + target.sum(dim=2).sum(dim=2) + smooth)))\\n    \\n    return loss.mean()\\n\\n\\ncriterion = nn.CrossEntropyLoss()\\n\\n# so we have two types of loss the dice loss and cross entropy loss\\n\\ndef optimizer():\\n  return optim.Adam(filter( lambda p:p.requires_grad,model.parameters()),lr=1e-4)\\n\\noptimizer_ft = optimizer()\\ndef exp_lr_scheduler():\\n  return lr_scheduler.StepLR(optimizer_ft,step_size=30,gamma=0.1)\\n\""
            ]
          },
          "metadata": {},
          "execution_count": 11
        }
      ]
    },
    {
      "cell_type": "markdown",
      "metadata": {
        "id": "grDz3fR1qW_V"
      },
      "source": [
        "### 2.4 Training\n",
        "\n",
        "As most of you will use CPUs to train the model, expect your models to take **30 minutes to train if not longer depending on network architecture**. To save time, you should not be using all training data until your model is well developed. If you are running your model on a GPU training should be significantly faster. During the training process, you may want to save the checkpoints as follows:\n",
        "\n",
        "```\n",
        "# Saving checkpoints for validation/testing\n",
        "torch.save(model.state_dict(), path)\n",
        "```\n",
        "The saved checkpoints can be used to load at a later date for validation and testing. Here we give some example code for training a model. Note that you need to specify the max iterations you want to train the model."
      ]
    },
    {
      "cell_type": "code",
      "metadata": {
        "id": "GrFNs1t6PjNR"
      },
      "source": [
        "# https://github.com/milesial/Pytorch-UNet/blob/master/utils/dice_score.py\n",
        "\n",
        "import torch\n",
        "from torch import Tensor\n",
        "\n",
        "\n",
        "def dice_coeff(input: Tensor, target: Tensor, reduce_batch_first: bool = False, epsilon=1e-6):\n",
        "    # Average of Dice coefficient for all batches, or for a single mask\n",
        "    assert input.size() == target.size()\n",
        "    if input.dim() == 2 and reduce_batch_first:\n",
        "        raise ValueError(f'Dice: asked to reduce batch but got tensor without batch dimension (shape {input.shape})')\n",
        "\n",
        "    if input.dim() == 2 or reduce_batch_first:\n",
        "        inter = torch.dot(input.reshape(-1), target.reshape(-1))\n",
        "        sets_sum = torch.sum(input) + torch.sum(target)\n",
        "        if sets_sum.item() == 0:\n",
        "            sets_sum = 2 * inter\n",
        "\n",
        "        return (2 * inter + epsilon) / (sets_sum + epsilon)\n",
        "    else:\n",
        "        # compute and average metric for each batch element\n",
        "        dice = 0\n",
        "        for i in range(input.shape[0]):\n",
        "            dice += dice_coeff(input[i, ...], target[i, ...])\n",
        "        return dice / input.shape[0]\n",
        "\n",
        "\n",
        "def multiclass_dice_coeff(input: Tensor, target: Tensor, reduce_batch_first: bool = False, epsilon=1e-6):\n",
        "    # Average of Dice coefficient for all classes\n",
        "    assert input.size() == target.size()\n",
        "    dice = 0\n",
        "    for channel in range(input.shape[1]):\n",
        "        dice += dice_coeff(input[:, channel, ...], target[:, channel, ...], reduce_batch_first, epsilon)\n",
        "\n",
        "    return dice / input.shape[1]\n",
        "\n",
        "\n",
        "def dice_loss(input: Tensor, target: Tensor, multiclass: bool = False):\n",
        "    # Dice loss (objective to minimize) between 0 and 1\n",
        "    assert input.size() == target.size()\n",
        "    fn = multiclass_dice_coeff if multiclass else dice_coeff\n",
        "    return 1 - fn(input, target, reduce_batch_first=True)\n"
      ],
      "execution_count": null,
      "outputs": []
    },
    {
      "cell_type": "code",
      "metadata": {
        "id": "CalId4BChXvD"
      },
      "source": [
        "model = UNet()"
      ],
      "execution_count": null,
      "outputs": []
    },
    {
      "cell_type": "code",
      "metadata": {
        "id": "iCb4bxVVchxf"
      },
      "source": [
        "from torch.utils.data import DataLoader\n",
        "from collections import defaultdict\n",
        "import time\n",
        "import argparse\n",
        "from tqdm import tqdm\n",
        "import torch.nn.functional as F\n",
        "\n",
        "import torch.optim as optim\n",
        "from torch.optim import lr_scheduler\n",
        "\"\"\"\n",
        "def print_metrics(metrics, epoch_samples, phase='train'):\n",
        "    outputs = []\n",
        "    for k in metrics.keys():\n",
        "        outputs.append(\"{}: {:4f}\".format(k, metrics[k] / epoch_samples))\n",
        "\n",
        "    print(\"{}: {}\".format(phase, \", \".join(outputs)))\n",
        "\n",
        "def calc_loss(pred,target,metrics,bce_weight=0.5) :\n",
        "    #bce = F.binary_cross_entropy_with_logits(pred,target)\n",
        "\n",
        "    pred = torch.sigmoid(pred)\n",
        "    dice = dice_loss(pred,target) \n",
        "\n",
        "    #loss = bce * bce_weight + dice * (1 - bce_weight)\n",
        "    \n",
        "\n",
        "    metrics['bce'] += 1#bce.data.cpu().numpy() * target.size(0)\n",
        "    metrics['dice'] += dice.data.cpu().numpy() * target.size(0)\n",
        "    metrics['loss'] += 1#loss.data.cpu().numpy() * target.size(0)\n",
        "\n",
        "    return metrics['loss']\n",
        "\"\"\"\n",
        "\"\"\"\n",
        "def dice_coef_binary_4cat(y_true, y_pred, smooth=1e-7):\n",
        "    '''\n",
        "    Dice coefficient for 4 categories. Ignores background pixel label 0\n",
        "    Pass to model as metric during compile statement\n",
        "    '''\n",
        "    y_true_f = torch.flatten(F.one_hot(torch.cast(y_true, 'int32'), num_classes=4)[...,1:])\n",
        "    y_pred_f = torch.flatten(y_pred[...,1:])\n",
        "    intersect = F.sum(y_true_f * y_pred_f, axis=-1)\n",
        "    denom = F.sum(y_true_f + y_pred_f, axis=-1)\n",
        "    return F.mean((2. * intersect / (denom + smooth)))\n",
        "\n",
        "\n",
        "def dice_coef_binary_loss(y_true, y_pred):\n",
        "    '''\n",
        "    Dice loss to minimize. Pass to model as loss during compile statement\n",
        "    '''\n",
        "    return 1 - dice_coef_binary_4cat(y_true, y_pred)\n",
        "\n",
        "\"\"\"\n",
        "checkpoint_path = \"checkpoint.pth\"\n",
        "data_path = '/content/drive/MyDrive/data/train/'\n",
        "num_workers = 4\n",
        "batch_size = 4\n",
        "\"\"\"\n",
        "#what does data loader do?\n",
        "Dataset stores the samples and their corresponding labels, and \n",
        "DataLoader wraps an iterable around the Dataset to enable easy access to the samples.\n",
        "\n",
        "\"\"\"\n",
        "#optimizer = optim.RMSprop(model.parameters(), lr=learning_rate, weight_decay=1e-8, momentum=0.9)\n",
        "optimizer_fn = optim.Adam(model.parameters(),lr = 3e-4)\n",
        "#scheduler = optim.lr_scheduler.ReduceLROnPlateau(optimizer, 'max', patience=2)  # goal: maximize Dice score\n",
        "scheduler_fn = lr_scheduler.StepLR(optimizer_fn,step_size=30,gamma=0.1)\n",
        "\n",
        "loss_fn = nn.CrossEntropyLoss()\n",
        "if isinstance(loss_fn,torch.nn.Module): ##just to be sure that criterion is on the correct device.\n",
        "  loss_fn.to(device)\n",
        "\n",
        "def train_net(model,\n",
        "              device,\n",
        "              epochs: int =10,\n",
        "              batch_size: int = 1,\n",
        "              learning_rate: float = 3e-4,\n",
        "              optimizer = optimizer_fn,\n",
        "              scheduler = scheduler_fn,\n",
        "              criterion = loss_fn,\n",
        "              #val_percent: float = 0.1,\n",
        "              #save_checkpoint: bool = True,\n",
        "             # img_scale: float = 0.5,\n",
        "              amp: bool = False\n",
        "):\n",
        "#print(\"training the network...\")\n",
        "# Fetch images and labels.\n",
        "  model.train()  #funciton of the module superclass ..sets the model to train.\n",
        "  train_set = TrainDataset(data_path)\n",
        "  training_data_loader = DataLoader(dataset=train_set, num_workers=num_workers, batch_size=batch_size, shuffle=True)\n",
        " # https://github.com/milesial/Pytorch-UNet/blob/master/train.py \n",
        "\n",
        "\n",
        "  global_step = 0\n",
        "  steps =[]\n",
        "  losses=[]\n",
        "  for epoch in range(epochs) :\n",
        "    #torch.set_grad_enabled(True)\n",
        "    epoch_samples = 0\n",
        "    epoch_loss=0\n",
        "    metrics = defaultdict(float)\n",
        "    since = time.time()\n",
        "  \n",
        "    with tqdm(len(train_set), desc=f'Epoch {epoch + 1}/{epochs}', unit='img') as pbar:     \n",
        "      for iteration, sample in enumerate(training_data_loader):\n",
        "      #for batch in training_data_loader:\n",
        "          img, mask = sample\n",
        "\n",
        "          #print('\\nimage size :', img.shape)\n",
        "          print('mask size :',mask.shape)\n",
        "          img=img.unsqueeze(1)\n",
        "          print('\\nimage size :', img.shape)\n",
        "          img  = img.to(device = device)\n",
        "          #https://discuss.pytorch.org/t/only-batches-of-spatial-targets-supported-non-empty-3d-tensors-but-got-targets-of-size-1-1-256-256/49134/18 \n",
        "          mask = mask.squeeze(1)\n",
        "          mask = mask.to(device,dtype = torch.long)\n",
        "\n",
        "      \n",
        "          #mask = F.one_hot(mask,4).permute(0,3,1,2).float()\n",
        "          #print(mask.shape)\n",
        "          \"\"\"\n",
        "          torch.cuda.amp and torch provide convenience methods for mixed precision,\n",
        "          where some operations use the torch.float32 (float) datatype and other operations use torch.float16 (half).\n",
        "          Some ops, like linear layers and convolutions, are much faster in float16. \n",
        "          Other ops, like reductions, often require the dynamic range of float32. \n",
        "          Mixed precision tries to match each op to its appropriate datatype.\n",
        "          \"\"\"\n",
        "          #with torch.cuda.amp.autocast(enabled = amp)\n",
        "          out  = model(img)\n",
        "          #print(out.shape)\n",
        "          optimizer.zero_grad()\n",
        "          cross_entropy_loss = criterion (out,mask) \n",
        "          #dice_loss = dice_coef_binary_loss(mask,out)\n",
        "          dice= dice_loss(F.softmax(out, dim=1).float(), F.one_hot(mask, 4).permute(0, 3, 1, 2).float(),multiclass=True)\n",
        "          loss = dice\n",
        "          #loss = cross_entropy_loss\n",
        "    \n",
        "    # Then write your BACKWARD & OPTIMIZE below\n",
        "    # Note: Compute Loss and Optimize\n",
        "    #loss = criterion(out,mask)\n",
        "    #loss_value = loss.item()\n",
        "    #train_losses.append(loss_value)\n",
        "    #loss.backward()\n",
        "          \n",
        "\n",
        "         # optimizer.zero_grad(set_to_none=True)\n",
        "         # grad_scaler.scale(loss).backward()\n",
        "         # grad_scaler.step(optimizer)\n",
        "         # grad_scaler.update()\n",
        "\n",
        "          pbar.update(img.shape[0])\n",
        "          global_step += 1\n",
        "          epoch_loss += loss.item()\n",
        "          losses.append(loss.item())\n",
        "          steps.append(global_step)\n",
        "          loss.backward()\n",
        "          optimizer.step()\n",
        "          #experiment.log({\n",
        "           #         'train loss': loss.item(),\n",
        "            #        'step': global_step,\n",
        "             #       'epoch': epoch\n",
        "               # })\n",
        "          print('train loss',loss.item(),' step :',global_step,' epoch :',epoch)\n",
        "          pbar.set_postfix(**{'loss (batch)': loss.item()})\n",
        "  plt.plot(steps[1::2],losses[1::2],'.r-')\n",
        "  plt.xlabel(\"step\")\n",
        "  plt.ylabel(\"loss\")\n",
        "  x1,x2,y1,y2 = plt.axis()  \n",
        "  plt.axis((x1,x2,0,1))\n",
        "  fig = plt.gcf()\n",
        "  fig.set_size_inches(18.5, 10.5, forward=True)\n",
        "  fig.set_dpi(100)\n",
        "  plt.show()\n",
        "  return model, losses\n",
        "model, losses = train_net(model,device)\n",
        "torch.save(model.state_dict(), checkpoint_path)\n",
        "\n",
        "    "
      ],
      "execution_count": null,
      "outputs": []
    },
    {
      "cell_type": "markdown",
      "metadata": {
        "id": "ghl4sMHbALUP"
      },
      "source": [
        "# Validation"
      ]
    },
    {
      "cell_type": "code",
      "metadata": {
        "colab": {
          "base_uri": "https://localhost:8080/"
        },
        "id": "Li4hMIa7AQnR",
        "outputId": "87bdaea1-6dda-410c-e8c6-ba0363774277"
      },
      "source": [
        "import numpy as np\n",
        "from torch.autograd import Variable\n",
        "print(os.getcwd())"
      ],
      "execution_count": null,
      "outputs": [
        {
          "output_type": "stream",
          "name": "stdout",
          "text": [
            "/content\n"
          ]
        }
      ]
    },
    {
      "cell_type": "code",
      "metadata": {
        "id": "lykP0dIoATA3"
      },
      "source": [
        "# In this block you are expected to write code to load saved model and deploy it to all data in test set to \n",
        "# produce segmentation masks in png images valued 0,1,2,3, which will be used for the submission to Kaggle.\n",
        "Learned_model = model\n",
        "\n",
        "num_workers = 4\n",
        "batch_size = 2\n",
        "loss_list = []\n",
        "Learned_model.to(device)  #Change\n",
        "val_set = TrainDataset(data_path)  #Change\n",
        "data_path = '/content/drive/MyDrive/data/train/'\n",
        "#criterion = nn.CrossEntropyLoss()\n",
        "\n",
        "Learned_model.eval()  #Change\n",
        "\n",
        "for image,mask in test_data_loader:\n",
        "        #print(image.shape,mask.shape)\n",
        "        image = image.to(device)\n",
        "        image = image.unsqueeze(1)\n",
        "        \n",
        "        mask = mask.to(device,dtype = torch.long)\n",
        "        #####PLEASE COMPLETE THE FOLLOWING CODE#####\n",
        "        #insert the neccessary lines of code to complete the training loop here \n",
        "        #(approx 5 lines of code)\n",
        "        ############################################\n",
        "        out = Learned_model(image)\n",
        "       # loss = criterion(out,mask.long())\n",
        "        loss = dice_loss(F.softmax(out, dim=1).float(), F.one_hot(mask, 4).permute(0, 3, 1, 2).float(),multiclass=True)\n",
        "        print('loss score for image : ',loss.item())\n",
        "        loss_list.append(loss.item())\n",
        "        out_np = torch.max(out,1).indices.cpu().detach().numpy()\n",
        "        mask_np = mask.cpu().detach().numpy()\n",
        "        image_np = image.cpu().detach().numpy()\n",
        "        print(out_np[0].shape,mask_np.shape)\n",
        "        print(image_np[0].shape,mask_np.shape)\n",
        "        for i in range(1):\n",
        "            show_image_mask(image_np[i,0], out_np[i], cmap='gray')\n",
        "            plt.pause(1)\n",
        "print(loss_list)\n",
        "#for iteration, sample in enumerate(test_data_loader):\n",
        "#   img = sample\n",
        "#   print(img.shape)\n",
        "    \n",
        "#    plt.imshow(img[0,...].squeeze(), cmap='gray') #visualise all images in test set\n",
        "#    plt.pause(1)\n",
        "#model.eval()"
      ],
      "execution_count": null,
      "outputs": []
    },
    {
      "cell_type": "markdown",
      "metadata": {
        "id": "u8ZH_D_oCGxT"
      },
      "source": [
        "# Main code Test + Val"
      ]
    },
    {
      "cell_type": "code",
      "metadata": {
        "colab": {
          "base_uri": "https://localhost:8080/"
        },
        "id": "Qpvb2a1CkA2R",
        "outputId": "af7098a9-fccf-4007-d76d-2885b5d08a0f"
      },
      "source": [
        "from torch.utils.data import DataLoader\n",
        "from collections import defaultdict\n",
        "import time\n",
        "import argparse\n",
        "import torch.nn.functional as F\n",
        "\n",
        "import torch.optim as optim\n",
        "from torch.optim import lr_scheduler\n",
        "\n",
        "val_data_path = '/content/drive/MyDrive/data/val'\n",
        "data_path = '/content/drive/MyDrive/data/val'\n",
        "\n",
        "num_workers = 4\n",
        "batch_size = 2\n",
        "epoch_train_losses=[]\n",
        "epoch_val_losses = []\n",
        "\n",
        "val_set = TrainDataset(val_data_path)  #Change\n",
        "val_data_loader = DataLoader(dataset=val_set, num_workers=num_workers,batch_size=batch_size, shuffle=False)\n",
        "train_set = TrainDataset(data_path)\n",
        "training_data_loader = DataLoader(dataset=train_set, num_workers=num_workers, batch_size=batch_size, shuffle=True)\n",
        "#optimizer = optim.RMSprop(model.parameters(), lr=learning_rate, weight_decay=1e-8, momentum=0.9)\n",
        "optimizer_fn = optim.Adam(model.parameters(),lr = 3e-4)\n",
        "#scheduler = optim.lr_scheduler.ReduceLROnPlateau(optimizer, 'max', patience=2)  # goal: maximize Dice score\n",
        "scheduler_fn = lr_scheduler.StepLR(optimizer_fn,step_size=30,gamma=0.1)\n",
        "\n",
        "loss_fn = nn.CrossEntropyLoss()\n",
        "if isinstance(loss_fn,torch.nn.Module): ##just to be sure that criterion is on the correct device.\n",
        "  loss_fn.to(device)\n",
        "\n",
        "def train_and_validate(model,\n",
        "              device,\n",
        "              epochs: int =10,\n",
        "              batch_size: int = 1,\n",
        "              learning_rate: float = 3e-4,\n",
        "              optimizer = optimizer_fn,\n",
        "              scheduler = scheduler_fn,\n",
        "              criterion = loss_fn,\n",
        "              #val_percent: float = 0.1,\n",
        "              #save_checkpoint: bool = True,\n",
        "             # img_scale: float = 0.5,\n",
        "              amp: bool = False\n",
        "):\n",
        "  \n",
        "  for epoch in range(epochs) :\n",
        "    #torch.set_grad_enabled(True)\n",
        "\n",
        "    since = time.time()\n",
        "     #with tqdm(len(train_set), desc=f'Epoch {epoch + 1}/{epochs}', unit='img') as pbar:     \n",
        "    train_loss = 0.0\n",
        "    model.train()\n",
        "    for iteration, sample in enumerate(training_data_loader):\n",
        "    #for batch in training_data_loader:\n",
        "        img, mask = sample\n",
        "\n",
        "  \n",
        "        \n",
        "        img=img.unsqueeze(1)\n",
        "        img  = img.to(device = device)\n",
        "        #https://discuss.pytorch.org/t/only-batches-of-spatial-targets-supported-non-empty-3d-tensors-but-got-targets-of-size-1-1-256-256/49134/18 \n",
        "        mask = mask.squeeze(1)\n",
        "        mask = mask.to(device,dtype = torch.long)\n",
        "\n",
        "      \n",
        "         \n",
        "        out  = model(img)\n",
        "          #print(out.shape)\n",
        "        optimizer.zero_grad()\n",
        "        cross_entropy_loss = criterion (out,mask) \n",
        "          #dice_loss = dice_coef_binary_loss(mask,out)\n",
        "        dice= dice_loss(F.softmax(out, dim=1).float(), F.one_hot(mask, 4).permute(0, 3, 1, 2).float(),multiclass=True)\n",
        "        #loss = dice\n",
        "        loss = cross_entropy_loss\n",
        "    \n",
        "    # Then write your BACKWARD & OPTIMIZE below\n",
        "    # Note: Compute Loss and Optimize\n",
        "    #loss = criterion(out,mask)\n",
        "    #loss_value = loss.item()\n",
        "    #train_losses.append(loss_value)\n",
        "    #loss.backward()\n",
        "          \n",
        "\n",
        "         # optimizer.zero_grad(set_to_none=True)\n",
        "         # grad_scaler.scale(loss).backward()\n",
        "         # grad_scaler.step(optimizer)\n",
        "         # grad_scaler.update()\n",
        "\n",
        "          #pbar.update(img.shape[0])\n",
        "       \n",
        "        \n",
        "        \n",
        "        loss.backward()\n",
        "        optimizer.step()\n",
        "        train_loss += loss.item()\n",
        "\n",
        "     #   print('train loss',loss.item(),' step :',global_step,' epoch :',epoch)\n",
        "    \n",
        "    val_loss =0.0\n",
        "    model.eval()\n",
        "    for image,mask in val_data_loader:\n",
        "      #print(image.shape,mask.shape)\n",
        "      image = image.to(device)\n",
        "      image = image.unsqueeze(1)\n",
        "        \n",
        "      mask = mask.to(device,dtype = torch.long)\n",
        "        #####PLEASE COMPLETE THE FOLLOWING CODE#####\n",
        "        #insert the neccessary lines of code to complete the training loop here \n",
        "        #(approx 5 lines of code)\n",
        "        ############################################\n",
        "      out = model(image)\n",
        "      loss = criterion(out,mask.long())\n",
        "      #loss = dice_loss(F.softmax(out, dim=1).float(), F.one_hot(mask, 4).permute(0, 3, 1, 2).float(),multiclass=True)\n",
        "      val_loss += loss.item() * image.size(0)\n",
        "      out_np = torch.max(out,1).indices.cpu().detach().numpy()\n",
        "      #mask_np = mask.cpu().detach().numpy()\n",
        "      #image_np = image.cpu().detach().numpy()\n",
        "      #print(out_np[0].shape,mask_np.shape)\n",
        "      #print(image_np[0].shape,mask_np.shape)\n",
        "      #print('Val loss',loss_list.item(),' step :',global_step,' epoch :',epoch)\n",
        "      #for i in range(1):\n",
        "          #show_image_mask(image_np[i,0], out_np[i], cmap='gray')\n",
        "          #plt.pause(1)\n",
        "    epoch_train_losses.append(train_loss / len(train_set))\n",
        "    epoch_val_losses.append(val_loss/len(val_set))\n",
        "    print(f'Epoch {epoch+1} \\t\\t Training Loss: {train_loss / len(train_set)} \\t\\t Validation Loss: {val_loss / len(val_set)}')\n",
        "    \n",
        "  return model\n",
        "\n",
        "model =  train_and_validate(model,device,30)"
      ],
      "execution_count": null,
      "outputs": [
        {
          "output_type": "stream",
          "name": "stderr",
          "text": [
            "/usr/local/lib/python3.7/dist-packages/torch/utils/data/dataloader.py:481: UserWarning: This DataLoader will create 4 worker processes in total. Our suggested max number of worker in current system is 2, which is smaller than what this DataLoader is going to create. Please be aware that excessive worker creation might get DataLoader running slow or even freeze, lower the worker number to avoid potential slowness/freeze if necessary.\n",
            "  cpuset_checked))\n"
          ]
        },
        {
          "output_type": "stream",
          "name": "stdout",
          "text": [
            "Epoch 1 \t\t Training Loss: 0.5308473914861679 \t\t Validation Loss: 1.2195829033851624\n",
            "Epoch 2 \t\t Training Loss: 0.3484025627374649 \t\t Validation Loss: 1.0112667798995971\n",
            "Epoch 3 \t\t Training Loss: 0.2926463097333908 \t\t Validation Loss: 0.7242559671401978\n",
            "Epoch 4 \t\t Training Loss: 0.25780790746212007 \t\t Validation Loss: 0.6995344400405884\n",
            "Epoch 5 \t\t Training Loss: 0.22858039885759354 \t\t Validation Loss: 0.49097307324409484\n",
            "Epoch 6 \t\t Training Loss: 0.19432607889175416 \t\t Validation Loss: 0.39546737968921664\n",
            "Epoch 7 \t\t Training Loss: 0.1725316122174263 \t\t Validation Loss: 0.3514880478382111\n",
            "Epoch 8 \t\t Training Loss: 0.15596081763505937 \t\t Validation Loss: 0.29465358555316923\n",
            "Epoch 9 \t\t Training Loss: 0.14165190756320953 \t\t Validation Loss: 0.3004500806331635\n",
            "Epoch 10 \t\t Training Loss: 0.13103242218494415 \t\t Validation Loss: 0.25059657990932466\n",
            "Epoch 11 \t\t Training Loss: 0.11879841163754463 \t\t Validation Loss: 0.21621857285499574\n",
            "Epoch 12 \t\t Training Loss: 0.10698643326759338 \t\t Validation Loss: 0.19643683433532716\n",
            "Epoch 13 \t\t Training Loss: 0.0971677415072918 \t\t Validation Loss: 0.1807894304394722\n",
            "Epoch 14 \t\t Training Loss: 0.0891661748290062 \t\t Validation Loss: 0.1643799662590027\n",
            "Epoch 15 \t\t Training Loss: 0.08434978350996972 \t\t Validation Loss: 0.15708985626697541\n",
            "Epoch 16 \t\t Training Loss: 0.0776341587305069 \t\t Validation Loss: 0.14300709068775178\n",
            "Epoch 17 \t\t Training Loss: 0.07461138889193535 \t\t Validation Loss: 0.1353789821267128\n",
            "Epoch 18 \t\t Training Loss: 0.07046831473708152 \t\t Validation Loss: 0.12437106817960739\n",
            "Epoch 19 \t\t Training Loss: 0.06337199881672859 \t\t Validation Loss: 0.1258505716919899\n",
            "Epoch 20 \t\t Training Loss: 0.061272118240594864 \t\t Validation Loss: 0.1151270791888237\n",
            "Epoch 21 \t\t Training Loss: 0.056499289348721504 \t\t Validation Loss: 0.11072256267070771\n",
            "Epoch 22 \t\t Training Loss: 0.05388153046369552 \t\t Validation Loss: 0.0987833134829998\n",
            "Epoch 23 \t\t Training Loss: 0.05074327141046524 \t\t Validation Loss: 0.09164592698216438\n",
            "Epoch 24 \t\t Training Loss: 0.047250131890177724 \t\t Validation Loss: 0.08978659361600876\n",
            "Epoch 25 \t\t Training Loss: 0.04582459405064583 \t\t Validation Loss: 0.08726694732904434\n",
            "Epoch 26 \t\t Training Loss: 0.045248443633317946 \t\t Validation Loss: 0.08314919620752334\n",
            "Epoch 27 \t\t Training Loss: 0.04259488396346569 \t\t Validation Loss: 0.07895732671022415\n",
            "Epoch 28 \t\t Training Loss: 0.04044999852776528 \t\t Validation Loss: 0.08020432963967324\n",
            "Epoch 29 \t\t Training Loss: 0.04013413302600384 \t\t Validation Loss: 0.07396891191601754\n",
            "Epoch 30 \t\t Training Loss: 0.038492539152503016 \t\t Validation Loss: 0.0779114693403244\n"
          ]
        }
      ]
    },
    {
      "cell_type": "code",
      "metadata": {
        "colab": {
          "base_uri": "https://localhost:8080/",
          "height": 282
        },
        "id": "1xx7yXwchdMP",
        "outputId": "4285481b-8d22-4066-b36d-f9c5def99056"
      },
      "source": [
        "\n",
        "plt.plot(epoch_train_losses)\n",
        "plt.plot(epoch_val_losses)"
      ],
      "execution_count": null,
      "outputs": [
        {
          "output_type": "execute_result",
          "data": {
            "text/plain": [
              "[<matplotlib.lines.Line2D at 0x7fa631538850>]"
            ]
          },
          "metadata": {},
          "execution_count": 23
        },
        {
          "output_type": "display_data",
          "data": {
            "image/png": "[encoded data removed]",
            "text/plain": [
              "<Figure size 432x288 with 1 Axes>"
            ]
          },
          "metadata": {
            "needs_background": "light"
          }
        }
      ]
    },
    {
      "cell_type": "markdown",
      "metadata": {
        "id": "tCZP-xof-Sst"
      },
      "source": [
        "### 2.5 Testing\n",
        "\n",
        "When validating the trained checkpoints (models), remember to change the model status as **Evaluation Mode**"
      ]
    },
    {
      "cell_type": "code",
      "metadata": {
        "id": "lGmhTdkciDt0",
        "colab": {
          "base_uri": "https://localhost:8080/"
        },
        "outputId": "784aae1f-741a-420a-83fb-8df767d8f370"
      },
      "source": [
        "import numpy as np\n",
        "from torch.autograd import Variable\n",
        "print(os.getcwd())"
      ],
      "execution_count": null,
      "outputs": [
        {
          "output_type": "stream",
          "name": "stdout",
          "text": [
            "/content\n"
          ]
        }
      ]
    },
    {
      "cell_type": "code",
      "metadata": {
        "id": "LVS22lrjqW_V",
        "colab": {
          "base_uri": "https://localhost:8080/",
          "height": 321
        },
        "outputId": "811ae80e-b37d-488b-e59e-7062a018cdc4"
      },
      "source": [
        "# In this block you are expected to write code to load saved model and deploy it to all data in test set to \n",
        "# produce segmentation masks in png images valued 0,1,2,3, which will be used for the submission to Kaggle.\n",
        "import re\n",
        "data_path = '/content/drive/MyDrive/data/test/'\n",
        "num_workers = 2\n",
        "batch_size = 1\n",
        "Learned_model= model\n",
        "test_set = TestDataset(data_path)\n",
        "test_data_loader = DataLoader(dataset=test_set, num_workers=num_workers,batch_size=batch_size, shuffle=False)\n",
        "Learned_model.eval()\n",
        "for iteration, sample in enumerate(test_data_loader):\n",
        "    img,img_pth = sample\n",
        "    #print(img.shape)\n",
        "    print(img.size())\n",
        "    img = img.unsqueeze(1)\n",
        "    print(img.size())\n",
        "    \n",
        "    #img = x(img)\n",
        "\n",
        "    img = img.to(device)\n",
        "    out = Learned_model(img)\n",
        "    out_np = torch.max(out,1).indices.cpu().detach().numpy()\n",
        "    image_np = img.cpu().detach().numpy()\n",
        "    print(img_pth[0])\n",
        "   # print(re.split(r'\\/',img_pth[0]))\n",
        "    img_pth = re.split(r'\\/',img_pth[0])\n",
        "    print(img_pth)\n",
        "    path = os.path.join('',img_pth[-1])\n",
        "    print(path)\n",
        "    cv2.imwrite(np.float32(path),out*85)   #\n",
        "    for i in range(1):\n",
        "            show_image_mask(image_np[i,0], out_np[i], cmap='gray')\n",
        "            plt.pause(1)"
      ],
      "execution_count": null,
      "outputs": [
        {
          "output_type": "stream",
          "name": "stdout",
          "text": [
            "torch.Size([1, 96, 96])\n",
            "torch.Size([1, 1, 96, 96])\n",
            "/content/drive/MyDrive/data/test/image/cmr161.png\n",
            "['', 'content', 'drive', 'MyDrive', 'data', 'test', 'image', 'cmr161.png']\n",
            "cmr161.png\n"
          ]
        },
        {
          "output_type": "error",
          "ename": "ValueError",
          "evalue": "ignored",
          "traceback": [
            "\u001b[0;31m---------------------------------------------------------------------------\u001b[0m",
            "\u001b[0;31mValueError\u001b[0m                                Traceback (most recent call last)",
            "\u001b[0;32m<ipython-input-120-2b9a4bc6cbe4>\u001b[0m in \u001b[0;36m<module>\u001b[0;34m()\u001b[0m\n\u001b[1;32m     28\u001b[0m     \u001b[0mpath\u001b[0m \u001b[0;34m=\u001b[0m \u001b[0mos\u001b[0m\u001b[0;34m.\u001b[0m\u001b[0mpath\u001b[0m\u001b[0;34m.\u001b[0m\u001b[0mjoin\u001b[0m\u001b[0;34m(\u001b[0m\u001b[0;34m''\u001b[0m\u001b[0;34m,\u001b[0m\u001b[0mimg_pth\u001b[0m\u001b[0;34m[\u001b[0m\u001b[0;34m-\u001b[0m\u001b[0;36m1\u001b[0m\u001b[0;34m]\u001b[0m\u001b[0;34m)\u001b[0m\u001b[0;34m\u001b[0m\u001b[0;34m\u001b[0m\u001b[0m\n\u001b[1;32m     29\u001b[0m     \u001b[0mprint\u001b[0m\u001b[0;34m(\u001b[0m\u001b[0mpath\u001b[0m\u001b[0;34m)\u001b[0m\u001b[0;34m\u001b[0m\u001b[0;34m\u001b[0m\u001b[0m\n\u001b[0;32m---> 30\u001b[0;31m     \u001b[0mcv2\u001b[0m\u001b[0;34m.\u001b[0m\u001b[0mimwrite\u001b[0m\u001b[0;34m(\u001b[0m\u001b[0mnp\u001b[0m\u001b[0;34m.\u001b[0m\u001b[0mfloat32\u001b[0m\u001b[0;34m(\u001b[0m\u001b[0mpath\u001b[0m\u001b[0;34m)\u001b[0m\u001b[0;34m,\u001b[0m\u001b[0mout\u001b[0m\u001b[0;34m*\u001b[0m\u001b[0;36m85\u001b[0m\u001b[0;34m)\u001b[0m\u001b[0;34m\u001b[0m\u001b[0;34m\u001b[0m\u001b[0m\n\u001b[0m\u001b[1;32m     31\u001b[0m     \u001b[0;32mfor\u001b[0m \u001b[0mi\u001b[0m \u001b[0;32min\u001b[0m \u001b[0mrange\u001b[0m\u001b[0;34m(\u001b[0m\u001b[0;36m1\u001b[0m\u001b[0;34m)\u001b[0m\u001b[0;34m:\u001b[0m\u001b[0;34m\u001b[0m\u001b[0;34m\u001b[0m\u001b[0m\n\u001b[1;32m     32\u001b[0m             \u001b[0mshow_image_mask\u001b[0m\u001b[0;34m(\u001b[0m\u001b[0mimage_np\u001b[0m\u001b[0;34m[\u001b[0m\u001b[0mi\u001b[0m\u001b[0;34m,\u001b[0m\u001b[0;36m0\u001b[0m\u001b[0;34m]\u001b[0m\u001b[0;34m,\u001b[0m \u001b[0mout_np\u001b[0m\u001b[0;34m[\u001b[0m\u001b[0mi\u001b[0m\u001b[0;34m]\u001b[0m\u001b[0;34m,\u001b[0m \u001b[0mcmap\u001b[0m\u001b[0;34m=\u001b[0m\u001b[0;34m'gray'\u001b[0m\u001b[0;34m)\u001b[0m\u001b[0;34m\u001b[0m\u001b[0;34m\u001b[0m\u001b[0m\n",
            "\u001b[0;31mValueError\u001b[0m: could not convert string to float: 'cmr161.png'"
          ]
        }
      ]
    },
    {
      "cell_type": "markdown",
      "metadata": {
        "id": "wsycVbIuUov3"
      },
      "source": [
        "## 3 Evaluation\n",
        "\n",
        "As we will automatically evaluate your predicted test makes on Kaggle, in this section we expect you to learn:\n",
        "* what is the Dice score used on Kaggle to measure your models performance\n",
        "* how to submit your predicted masks to Kaggle"
      ]
    },
    {
      "cell_type": "markdown",
      "metadata": {
        "id": "NicQyj47jsD1"
      },
      "source": [
        "### 3.1 Dice Score\n",
        "\n",
        "To evaluate the quality of the predicted masks, the Dice score is adopted. Dice score on two masks A and B is defined as the intersection ratio between the overlap area and the average area of two masks. A higher Dice suggests a better registration.\n",
        "\n",
        "$Dice (A, B)= \\frac{2|A \\cap B|}{|A| + |B|} $\n",
        "\n",
        "However, in our coursework, we have three labels in each mask, we will compute the Dice score for each label and then average the three of them as the final score. Below we have given you `categorical_dice` for free so you can test your results before submission to Kaggle."
      ]
    },
    {
      "cell_type": "code",
      "metadata": {
        "id": "RzOY4GROqW_V"
      },
      "source": [
        "def categorical_dice(mask1, mask2, label_class=1):\n",
        "    \"\"\"\n",
        "    Dice score of a specified class between two volumes of label masks.\n",
        "    (classes are encoded but by label class number not one-hot )\n",
        "    Note: stacks of 2D slices are considered volumes.\n",
        "\n",
        "    Args:\n",
        "        mask1: N label masks, numpy array shaped (H, W, N)\n",
        "        mask2: N label masks, numpy array shaped (H, W, N)\n",
        "        label_class: the class over which to calculate dice scores\n",
        "\n",
        "    Returns:\n",
        "        volume_dice\n",
        "    \"\"\"\n",
        "    mask1_pos = (mask1 == label_class).astype(np.float32)\n",
        "    mask2_pos = (mask2 == label_class).astype(np.float32)\n",
        "    dice = 2 * np.sum(mask1_pos * mask2_pos) / (np.sum(mask1_pos) + np.sum(mask2_pos))\n",
        "    return dice"
      ],
      "execution_count": null,
      "outputs": []
    },
    {
      "cell_type": "markdown",
      "metadata": {
        "id": "JZcsrwmVjy5k"
      },
      "source": [
        "### 3.2 Submission\n",
        "\n",
        "Kaggle requires your submission to be in a specific CSV format. To help ensure your submissions are in the correct format, we have provided some helper functions to do this for you. For those interested, the png images are run-length encoded and saved in a CSV to the specifications required by our competition.\n",
        "\n",
        "It is sufficient to use this helper function. To do so, save your 80 predicted masks into a directory. ONLY the 80 predicted masks should be in this directory. Call the submission_converter function with the first argument as the directory containing your masks, and the second the directory in which you wish to save your submission."
      ]
    },
    {
      "cell_type": "code",
      "metadata": {
        "id": "uHDVbgu0qW_V"
      },
      "source": [
        "import numpy as np\n",
        "import os\n",
        "import cv2\n",
        "\n",
        "def rle_encoding(x):\n",
        "    '''\n",
        "    *** Credit to https://www.kaggle.com/rakhlin/fast-run-length-encoding-python ***\n",
        "    x: numpy array of shape (height, width), 1 - mask, 0 - background\n",
        "    Returns run length as list\n",
        "    '''\n",
        "    dots = np.where(x.T.flatten() == 1)[0]\n",
        "    run_lengths = []\n",
        "    prev = -2\n",
        "    for b in dots:\n",
        "        if (b > prev + 1): run_lengths.extend((b + 1, 0))\n",
        "        run_lengths[-1] += 1\n",
        "        prev = b\n",
        "    return run_lengths\n",
        "\n",
        "\n",
        "def submission_converter(mask_directory, path_to_save):\n",
        "    writer = open(os.path.join(path_to_save, \"submission.csv\"), 'w')\n",
        "    writer.write('id,encoding\\n')\n",
        "\n",
        "    files = os.listdir(mask_directory)\n",
        "\n",
        "    for file in files:\n",
        "        name = file[:-4]\n",
        "        mask = cv2.imread(os.path.join(mask_directory, file), cv2.IMREAD_UNCHANGED)\n",
        "\n",
        "        mask1 = (mask == 1)\n",
        "        mask2 = (mask == 2)\n",
        "        mask3 = (mask == 3)\n",
        "\n",
        "        encoded_mask1 = rle_encoding(mask1)\n",
        "        encoded_mask1 = ' '.join(str(e) for e in encoded_mask1)\n",
        "        encoded_mask2 = rle_encoding(mask2)\n",
        "        encoded_mask2 = ' '.join(str(e) for e in encoded_mask2)\n",
        "        encoded_mask3 = rle_encoding(mask3)\n",
        "        encoded_mask3 = ' '.join(str(e) for e in encoded_mask3)\n",
        "\n",
        "        writer.write(name + '1,' + encoded_mask1 + \"\\n\")\n",
        "        writer.write(name + '2,' + encoded_mask2 + \"\\n\")\n",
        "        writer.write(name + '3,' + encoded_mask3 + \"\\n\")\n",
        "\n",
        "    writer.close()"
      ],
      "execution_count": null,
      "outputs": []
    },
    {
      "cell_type": "code",
      "metadata": {
        "id": "-bOn_j_FqW_V",
        "colab": {
          "base_uri": "https://localhost:8080/"
        },
        "outputId": "46cc8a32-f176-469e-b63b-e86ecaf319ff"
      },
      "source": [
        "well = \"Well Boy\"\n",
        "print(well)"
      ],
      "execution_count": null,
      "outputs": [
        {
          "output_type": "stream",
          "name": "stdout",
          "text": [
            "Well Boy\n"
          ]
        }
      ]
    },
    {
      "cell_type": "code",
      "metadata": {
        "id": "1g_jvJUntGwh"
      },
      "source": [
        ""
      ],
      "execution_count": null,
      "outputs": []
    }
  ]
}