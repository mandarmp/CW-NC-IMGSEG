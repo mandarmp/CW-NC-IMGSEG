{
  "nbformat": 4,
  "nbformat_minor": 0,
  "metadata": {
    "colab": {
      "name": "mandar_model_try_UNET.ipynb",
      "provenance": [],
      "collapsed_sections": []
    },
    "kernelspec": {
      "display_name": "Python 3",
      "language": "python",
      "name": "python3"
    },
    "language_info": {
      "codemirror_mode": {
        "name": "ipython",
        "version": 3
      },
      "file_extension": ".py",
      "mimetype": "text/x-python",
      "name": "python",
      "nbconvert_exporter": "python",
      "pygments_lexer": "ipython3",
      "version": "3.8.5"
    },
    "accelerator": "GPU"
  },
  "cells": [
    {
      "cell_type": "markdown",
      "metadata": {
        "id": "2guthgOz-Ssm"
      },
      "source": [
        "# Coursework for Cardiac MR Image Segmentation (2021-2022)\n",
        "\n",
        "After you have gone through the coursework description, this tutorial is designed to further helps you understand the problem and therefore enable you to propose a good solution for this coursework. You will learn:\n",
        "\n",
        "* how to load and save images with OpenCV\n",
        "* how to train a segmentation model with Pytorch\n",
        "* how to evaluate the trained model"
      ]
    },
    {
      "cell_type": "markdown",
      "metadata": {
        "id": "gsnVbP35-Sso"
      },
      "source": [
        "## 1. Load, show, and save images with OpenCV\n",
        "\n",
        "OpenCV is an open-source computer vision library which helps us to manipulate image data. In this section, we will cover:\n",
        "* Loading an image from file with imread()\n",
        "* Displaying the image with matplotlib plt.imshow()\n",
        "* Saving an image with imwrite()\n",
        "\n",
        "For a more comprehensive study of OpenCV, we encourage you to check the official [OpenCV documentation](https://docs.opencv.org/master/index.html)."
      ]
    },
    {
      "cell_type": "code",
      "metadata": {
        "colab": {
          "base_uri": "https://localhost:8080/"
        },
        "id": "sB-PYVl-SOkm",
        "outputId": "0d4e2c0e-8956-48f8-90c3-f42e9edc9969"
      },
      "source": [
        "from google.colab import drive\n",
        "drive.mount('/content/drive')"
      ],
      "execution_count": 1,
      "outputs": [
        {
          "output_type": "stream",
          "name": "stdout",
          "text": [
            "Mounted at /content/drive\n"
          ]
        }
      ]
    },
    {
      "cell_type": "code",
      "metadata": {
        "colab": {
          "base_uri": "https://localhost:8080/"
        },
        "id": "uwKOtbVsc8C8",
        "outputId": "97f1058a-14d4-4860-d430-35b09c88ae77"
      },
      "source": [
        "import torch\n",
        "device = torch.device('cuda' if torch.cuda.is_available() else 'cpu')\n",
        "print('device  :',device)"
      ],
      "execution_count": 2,
      "outputs": [
        {
          "output_type": "stream",
          "name": "stdout",
          "text": [
            "device  : cuda\n"
          ]
        }
      ]
    },
    {
      "cell_type": "code",
      "metadata": {
        "id": "C7ZvSiY3qW_U"
      },
      "source": [
        "from matplotlib import pyplot as plt\n",
        "def show_image_mask(img, mask, cmap='gray'): # visualisation\n",
        "    fig = plt.figure(figsize=(5,5))\n",
        "    plt.subplot(1, 2, 1)\n",
        "    plt.imshow(img, cmap=cmap)\n",
        "    plt.axis('off')\n",
        "    plt.subplot(1, 2, 2)\n",
        "    plt.imshow(mask, cmap=cmap)\n",
        "    plt.axis('off')"
      ],
      "execution_count": 3,
      "outputs": []
    },
    {
      "cell_type": "code",
      "metadata": {
        "id": "EN5WJ_XG-Sso",
        "colab": {
          "base_uri": "https://localhost:8080/",
          "height": 175
        },
        "outputId": "9e411715-6b4a-42e2-b86e-bcc3b85fc072"
      },
      "source": [
        "\n",
        "import os\n",
        "import cv2 #import OpenCV\n",
        "\n",
        "data_dir = '/content/drive/MyDrive/data/train/'\n",
        "image = cv2.imread(os.path.join(data_dir,'image','cmr1.png'), cv2.IMREAD_UNCHANGED)\n",
        "mask = cv2.imread(os.path.join(data_dir,'mask','cmr1_mask.png'), cv2.IMREAD_UNCHANGED)\n",
        "show_image_mask(image, mask, cmap='gray')\n",
        "plt.pause(1)\n",
        "cv2.imwrite(os.path.join('./','cmr1.png'), mask*85)\n",
        "print(image.shape)"
      ],
      "execution_count": 4,
      "outputs": [
        {
          "output_type": "display_data",
          "data": {
            "image/png": "[encoded data removed]",
            "text/plain": [
              "<Figure size 360x360 with 2 Axes>"
            ]
          },
          "metadata": {
            "needs_background": "light"
          }
        },
        {
          "output_type": "stream",
          "name": "stdout",
          "text": [
            "(96, 96)\n"
          ]
        }
      ]
    },
    {
      "cell_type": "markdown",
      "metadata": {
        "id": "7UDvsGZnYfHS"
      },
      "source": [
        "Note: You will no doubt notice that the mask images appear to be completely black with no sign of any segmentations. This is because the max intensity of pixels in an 8-bit png image is 255 and your image viewer software only sees 255 as white. For those values close to zero, you will only see dark values. This is the case for our masks as the background, the right ventricle, the myocardium, and the left ventricle in each image are 0, 1, 2, and 3, respectively. All of which are close to zero. If we multiply the original mask by 85 and save the result to the directory where this code is, we can see the heart indeed shows up. "
      ]
    },
    {
      "cell_type": "markdown",
      "metadata": {
        "id": "hULAX3WH-Sss"
      },
      "source": [
        "## 2 Define a segmentation model with Pytorch\n",
        "\n",
        "In this section, we expect you to learn how to:\n",
        "* Define a Segmentation Model\n",
        "* Define a DataLoader that inputs images to the Model\n",
        "* Define training parameters and train the model\n",
        "* Test the trained model with a new input image"
      ]
    },
    {
      "cell_type": "markdown",
      "metadata": {
        "id": "IrKFgoZvUbeg"
      },
      "source": [
        "### 2.1 Define a DataLoader"
      ]
    },
    {
      "cell_type": "markdown",
      "metadata": {
        "id": "kC9s43MqqW_U"
      },
      "source": [
        "Below we provide you with a dataloader to use in your assigment. You will only need to focus on the development of your model and loss function.\n",
        "\n"
      ]
    },
    {
      "cell_type": "code",
      "metadata": {
        "id": "XYrD95T8qz8T"
      },
      "source": [
        "\n",
        "import torch\n",
        "import torch.utils.data as data\n",
        "import cv2\n",
        "import os\n",
        "from glob import glob\n",
        "path = '/content/drive/MyDrive/data/train'\n",
        "\n",
        "\n",
        "class TrainDataset(data.Dataset):\n",
        "    def __init__(self, root=path):\n",
        "        super(TrainDataset, self).__init__()\n",
        "        self.img_files = glob(os.path.join(root,'image','*.png'))\n",
        "        #print(self.img_files)\n",
        "        self.mask_files = []\n",
        "        #print(self.img_files)\n",
        "        for img_path in self.img_files:\n",
        "            basename = os.path.basename(img_path)\n",
        "            self.mask_files.append(os.path.join(root,'mask',basename[:-4]+'_mask.png'))\n",
        "            \n",
        "\n",
        "    def __getitem__(self, index):\n",
        "            img_path = self.img_files[index]\n",
        "            mask_path = self.mask_files[index]\n",
        "            data = cv2.imread(img_path, cv2.IMREAD_UNCHANGED)\n",
        "            label = cv2.imread(mask_path, cv2.IMREAD_UNCHANGED)\n",
        "            return torch.from_numpy(data).float(), torch.from_numpy(label).float()    #tensor vlaues for data( image) and label( mask) is returned.\n",
        "\n",
        "    def __len__(self):\n",
        "        return len(self.img_files)\n",
        "\n",
        "class TestDataset(data.Dataset):\n",
        "    def __init__(self, root=''):\n",
        "        super(TestDataset, self).__init__()\n",
        "        self.img_files = glob(os.path.join(root,'image','*.png'))\n",
        "\n",
        "    def __getitem__(self, index):\n",
        "            img_path = self.img_files[index]\n",
        "            data = cv2.imread(img_path, cv2.IMREAD_UNCHANGED)\n",
        "            return torch.from_numpy(data).float()\n",
        "\n",
        "    def __len__(self):\n",
        "        return len(self.img_files)\n"
      ],
      "execution_count": 5,
      "outputs": []
    },
    {
      "cell_type": "markdown",
      "metadata": {
        "id": "82UAfnwSUgc_"
      },
      "source": [
        "### 2.2 Define a Segmenatation Model"
      ]
    },
    {
      "cell_type": "markdown",
      "metadata": {
        "id": "gEIkCqdfYnIn"
      },
      "source": [
        "You will need to define your CNN model for segmentation below"
      ]
    },
    {
      "cell_type": "code",
      "metadata": {
        "id": "-W6532hFXa_g"
      },
      "source": [
        "import torch\n",
        "import torch.nn as nn\n",
        "import torch.nn.functional as F\n",
        "\n",
        "def double_conv(in_channels, out_channels, mid_channels = None):\n",
        "    if not mid_channels:\n",
        "            mid_channels = out_channels\n",
        "    return nn.Sequential(\n",
        "            nn.Conv2d(in_channels, mid_channels, kernel_size=3, padding=1),\n",
        "            nn.BatchNorm2d(mid_channels),\n",
        "            nn.ReLU(inplace=True),\n",
        "            nn.Conv2d(mid_channels, out_channels, kernel_size=3, padding=1),\n",
        "            nn.BatchNorm2d(out_channels),\n",
        "            nn.ReLU(inplace=True)\n",
        "    )   \n",
        "\n",
        "class UNet(nn.Module):\n",
        "\n",
        "    def __init__(self, n_class=4):\n",
        "        super().__init__()\n",
        "\n",
        "        self.dconv_pre = double_conv(1,3)       \n",
        "        self.dconv_down1 = double_conv(3, 64)\n",
        "        self.dconv_down2 = double_conv(64, 128)\n",
        "        self.dconv_down3 = double_conv(128, 256)\n",
        "        self.dconv_down4 = double_conv(256, 512) \n",
        "       # self.dconv_down5 = double_conv(512, 1024)       \n",
        "\n",
        "        self.maxpool = nn.MaxPool2d(2)\n",
        "        self.upsample = nn.Upsample(scale_factor=2, mode='bilinear', align_corners=True)        \n",
        "        \n",
        "        self.dconv_up3 = double_conv(256 + 512, 256)\n",
        "        self.dconv_up2 = double_conv(128 + 256, 128)\n",
        "        self.dconv_up1 = double_conv(128 + 64, 64)\n",
        "        \n",
        "        self.conv_last = nn.Conv2d(64, n_class, 1)\n",
        "        \n",
        "        \n",
        "    def forward(self, x):\n",
        "\n",
        "        convpre = self.dconv_pre(x) #not maxpooling here\n",
        "        conv1 = self.dconv_down1(convpre)\n",
        "        x = self.maxpool(conv1)\n",
        "\n",
        "        conv2 = self.dconv_down2(x)\n",
        "        x = self.maxpool(conv2)\n",
        "        \n",
        "        conv3 = self.dconv_down3(x)\n",
        "        x = self.maxpool(conv3)   \n",
        "        \n",
        "        x = self.dconv_down4(x)\n",
        "        \n",
        "        x = self.upsample(x)        \n",
        "        x = torch.cat([x, conv3], dim=1)\n",
        "        \n",
        "        x = self.dconv_up3(x)\n",
        "        x = self.upsample(x)        \n",
        "        x = torch.cat([x, conv2], dim=1)       \n",
        "\n",
        "        x = self.dconv_up2(x)\n",
        "        x = self.upsample(x)        \n",
        "        x = torch.cat([x, conv1], dim=1)   \n",
        "        \n",
        "        x = self.dconv_up1(x)\n",
        "        \n",
        "        out = self.conv_last(x)\n",
        "        \n",
        "        return out\n",
        "\n",
        "class CNNSEG(nn.Module):\n",
        "\n",
        "    def __init__(self, n_class=4):\n",
        "        super().__init__()\n",
        "                \n",
        "        self.dconv_down1 = double_conv(1, 3)\n",
        "        self.dconv_down2 = double_conv(3, 64)\n",
        "        self.dconv_down3 = double_conv(64, 128)\n",
        "        self.dconv_down4 = double_conv(128, 256)\n",
        "        self.dconv_down5 = double_conv(256, 512)          \n",
        "\n",
        "        self.maxpool = nn.MaxPool2d(2) #kernel size two..stride = none\n",
        "\n",
        "        self.upsample = nn.Upsample(scale_factor=2, mode='bilinear', align_corners=True)        \n",
        "        \n",
        "        \n",
        "       # self.dconv_up3 = double_conv(256 + 512, 256)\n",
        "        #self.dconv_up2 = double_conv(128 + 256, 128)\n",
        "        #self.dconv_up1 = double_conv(128 + 64, 64)\n",
        "        self.dconv_up4 = double_conv(512+512, 512)\n",
        "        self.dconv_up3 = double_conv()\n",
        "        self.dconv_up2 = double_conv(512+512, 512)\n",
        "        self.dconv_up1 = double_conv(512+512, 512)\n",
        "        \n",
        "        self.conv_last = nn.Conv2d(64, n_class, 1)\n",
        "        \n",
        "        \n",
        "    def forward(self, x):\n",
        "        conv1 = self.dconv_down1(x)\n",
        "        x = self.maxpool(conv1)\n",
        "\n",
        "        conv2 = self.dconv_down2(x)\n",
        "        x = self.maxpool(conv2)\n",
        "        \n",
        "        conv3 = self.dconv_down3(x)\n",
        "        x = self.maxpool(conv3)   \n",
        "        \n",
        "        conv4 = self.dconv_down4(x)\n",
        "        x = self.maxpool(conv4) \n",
        "\n",
        "        conv5 = self.dconv_down5(x)\n",
        "\n",
        "        x = self.upsample(conv5)        #left with 512 channels and ..becomes 12 * 12\n",
        "        x = torch.cat([x, conv4], dim=1)\n",
        "        \n",
        "        x = self.dconv_up3(x)\n",
        "        x = self.upsample(x)        \n",
        "        x = torch.cat([x, conv3], dim=1)       \n",
        "\n",
        "        x = self.dconv_up2(x)\n",
        "        x = self.upsample(x)        \n",
        "        x = torch.cat([x, conv2], dim=1)   \n",
        "        \n",
        "        x = self.dconv_up1(x)\n",
        "        \n",
        "        out = self.conv_last(x)\n",
        "        \n",
        "        return out\n",
        "\n",
        "\n",
        "#https://github.com/usuyama/pytorch-unet/blob/master/pytorch_unet.py\n",
        "\n",
        "model = UNet() # We can now create a model using your defined segmentation model"
      ],
      "execution_count": 16,
      "outputs": []
    },
    {
      "cell_type": "code",
      "metadata": {
        "colab": {
          "base_uri": "https://localhost:8080/"
        },
        "id": "N8JgA8I1VxIJ",
        "outputId": "fe3884c6-c867-465f-fcaa-41143c3ed9e6"
      },
      "source": [
        "\n",
        "\n",
        "\n",
        "model = model.to(device)\n",
        "\n",
        "model"
      ],
      "execution_count": 17,
      "outputs": [
        {
          "output_type": "execute_result",
          "data": {
            "text/plain": [
              "UNet(\n",
              "  (dconv_pre): Sequential(\n",
              "    (0): Conv2d(1, 3, kernel_size=(3, 3), stride=(1, 1), padding=(1, 1))\n",
              "    (1): BatchNorm2d(3, eps=1e-05, momentum=0.1, affine=True, track_running_stats=True)\n",
              "    (2): ReLU(inplace=True)\n",
              "    (3): Conv2d(3, 3, kernel_size=(3, 3), stride=(1, 1), padding=(1, 1))\n",
              "    (4): BatchNorm2d(3, eps=1e-05, momentum=0.1, affine=True, track_running_stats=True)\n",
              "    (5): ReLU(inplace=True)\n",
              "  )\n",
              "  (dconv_down1): Sequential(\n",
              "    (0): Conv2d(3, 64, kernel_size=(3, 3), stride=(1, 1), padding=(1, 1))\n",
              "    (1): BatchNorm2d(64, eps=1e-05, momentum=0.1, affine=True, track_running_stats=True)\n",
              "    (2): ReLU(inplace=True)\n",
              "    (3): Conv2d(64, 64, kernel_size=(3, 3), stride=(1, 1), padding=(1, 1))\n",
              "    (4): BatchNorm2d(64, eps=1e-05, momentum=0.1, affine=True, track_running_stats=True)\n",
              "    (5): ReLU(inplace=True)\n",
              "  )\n",
              "  (dconv_down2): Sequential(\n",
              "    (0): Conv2d(64, 128, kernel_size=(3, 3), stride=(1, 1), padding=(1, 1))\n",
              "    (1): BatchNorm2d(128, eps=1e-05, momentum=0.1, affine=True, track_running_stats=True)\n",
              "    (2): ReLU(inplace=True)\n",
              "    (3): Conv2d(128, 128, kernel_size=(3, 3), stride=(1, 1), padding=(1, 1))\n",
              "    (4): BatchNorm2d(128, eps=1e-05, momentum=0.1, affine=True, track_running_stats=True)\n",
              "    (5): ReLU(inplace=True)\n",
              "  )\n",
              "  (dconv_down3): Sequential(\n",
              "    (0): Conv2d(128, 256, kernel_size=(3, 3), stride=(1, 1), padding=(1, 1))\n",
              "    (1): BatchNorm2d(256, eps=1e-05, momentum=0.1, affine=True, track_running_stats=True)\n",
              "    (2): ReLU(inplace=True)\n",
              "    (3): Conv2d(256, 256, kernel_size=(3, 3), stride=(1, 1), padding=(1, 1))\n",
              "    (4): BatchNorm2d(256, eps=1e-05, momentum=0.1, affine=True, track_running_stats=True)\n",
              "    (5): ReLU(inplace=True)\n",
              "  )\n",
              "  (dconv_down4): Sequential(\n",
              "    (0): Conv2d(256, 512, kernel_size=(3, 3), stride=(1, 1), padding=(1, 1))\n",
              "    (1): BatchNorm2d(512, eps=1e-05, momentum=0.1, affine=True, track_running_stats=True)\n",
              "    (2): ReLU(inplace=True)\n",
              "    (3): Conv2d(512, 512, kernel_size=(3, 3), stride=(1, 1), padding=(1, 1))\n",
              "    (4): BatchNorm2d(512, eps=1e-05, momentum=0.1, affine=True, track_running_stats=True)\n",
              "    (5): ReLU(inplace=True)\n",
              "  )\n",
              "  (maxpool): MaxPool2d(kernel_size=2, stride=2, padding=0, dilation=1, ceil_mode=False)\n",
              "  (upsample): Upsample(scale_factor=2.0, mode=bilinear)\n",
              "  (dconv_up3): Sequential(\n",
              "    (0): Conv2d(768, 256, kernel_size=(3, 3), stride=(1, 1), padding=(1, 1))\n",
              "    (1): BatchNorm2d(256, eps=1e-05, momentum=0.1, affine=True, track_running_stats=True)\n",
              "    (2): ReLU(inplace=True)\n",
              "    (3): Conv2d(256, 256, kernel_size=(3, 3), stride=(1, 1), padding=(1, 1))\n",
              "    (4): BatchNorm2d(256, eps=1e-05, momentum=0.1, affine=True, track_running_stats=True)\n",
              "    (5): ReLU(inplace=True)\n",
              "  )\n",
              "  (dconv_up2): Sequential(\n",
              "    (0): Conv2d(384, 128, kernel_size=(3, 3), stride=(1, 1), padding=(1, 1))\n",
              "    (1): BatchNorm2d(128, eps=1e-05, momentum=0.1, affine=True, track_running_stats=True)\n",
              "    (2): ReLU(inplace=True)\n",
              "    (3): Conv2d(128, 128, kernel_size=(3, 3), stride=(1, 1), padding=(1, 1))\n",
              "    (4): BatchNorm2d(128, eps=1e-05, momentum=0.1, affine=True, track_running_stats=True)\n",
              "    (5): ReLU(inplace=True)\n",
              "  )\n",
              "  (dconv_up1): Sequential(\n",
              "    (0): Conv2d(192, 64, kernel_size=(3, 3), stride=(1, 1), padding=(1, 1))\n",
              "    (1): BatchNorm2d(64, eps=1e-05, momentum=0.1, affine=True, track_running_stats=True)\n",
              "    (2): ReLU(inplace=True)\n",
              "    (3): Conv2d(64, 64, kernel_size=(3, 3), stride=(1, 1), padding=(1, 1))\n",
              "    (4): BatchNorm2d(64, eps=1e-05, momentum=0.1, affine=True, track_running_stats=True)\n",
              "    (5): ReLU(inplace=True)\n",
              "  )\n",
              "  (conv_last): Conv2d(64, 4, kernel_size=(1, 1), stride=(1, 1))\n",
              ")"
            ]
          },
          "metadata": {},
          "execution_count": 17
        }
      ]
    },
    {
      "cell_type": "code",
      "metadata": {
        "colab": {
          "base_uri": "https://localhost:8080/",
          "height": 346
        },
        "id": "NXfeO8wDWV6S",
        "outputId": "63e40f72-0166-4a47-84af-908a4a26f4a8"
      },
      "source": [
        "from torchsummary import  summary\n",
        "#help to view the visualisation of the model\n",
        "\n",
        "summary(model,input_size=(4,1,96,96))"
      ],
      "execution_count": 28,
      "outputs": [
        {
          "output_type": "error",
          "ename": "RuntimeError",
          "evalue": "ignored",
          "traceback": [
            "\u001b[0;31m---------------------------------------------------------------------------\u001b[0m",
            "\u001b[0;31mRuntimeError\u001b[0m                              Traceback (most recent call last)",
            "\u001b[0;32m<ipython-input-28-9f54053d541b>\u001b[0m in \u001b[0;36m<module>\u001b[0;34m()\u001b[0m\n\u001b[1;32m      2\u001b[0m \u001b[0;31m#help to view the visualisation of the model\u001b[0m\u001b[0;34m\u001b[0m\u001b[0;34m\u001b[0m\u001b[0;34m\u001b[0m\u001b[0m\n\u001b[1;32m      3\u001b[0m \u001b[0;34m\u001b[0m\u001b[0m\n\u001b[0;32m----> 4\u001b[0;31m \u001b[0msummary\u001b[0m\u001b[0;34m(\u001b[0m\u001b[0mmodel\u001b[0m\u001b[0;34m,\u001b[0m\u001b[0minput_size\u001b[0m\u001b[0;34m=\u001b[0m\u001b[0;34m(\u001b[0m\u001b[0;36m4\u001b[0m\u001b[0;34m,\u001b[0m\u001b[0;36m1\u001b[0m\u001b[0;34m,\u001b[0m\u001b[0;36m96\u001b[0m\u001b[0;34m,\u001b[0m\u001b[0;36m96\u001b[0m\u001b[0;34m)\u001b[0m\u001b[0;34m)\u001b[0m\u001b[0;34m\u001b[0m\u001b[0;34m\u001b[0m\u001b[0m\n\u001b[0m",
            "\u001b[0;32m/usr/local/lib/python3.7/dist-packages/torchsummary/torchsummary.py\u001b[0m in \u001b[0;36msummary\u001b[0;34m(model, input_size, batch_size, device)\u001b[0m\n\u001b[1;32m     70\u001b[0m     \u001b[0;31m# make a forward pass\u001b[0m\u001b[0;34m\u001b[0m\u001b[0;34m\u001b[0m\u001b[0;34m\u001b[0m\u001b[0m\n\u001b[1;32m     71\u001b[0m     \u001b[0;31m# print(x.shape)\u001b[0m\u001b[0;34m\u001b[0m\u001b[0;34m\u001b[0m\u001b[0;34m\u001b[0m\u001b[0m\n\u001b[0;32m---> 72\u001b[0;31m     \u001b[0mmodel\u001b[0m\u001b[0;34m(\u001b[0m\u001b[0;34m*\u001b[0m\u001b[0mx\u001b[0m\u001b[0;34m)\u001b[0m\u001b[0;34m\u001b[0m\u001b[0;34m\u001b[0m\u001b[0m\n\u001b[0m\u001b[1;32m     73\u001b[0m \u001b[0;34m\u001b[0m\u001b[0m\n\u001b[1;32m     74\u001b[0m     \u001b[0;31m# remove these hooks\u001b[0m\u001b[0;34m\u001b[0m\u001b[0;34m\u001b[0m\u001b[0;34m\u001b[0m\u001b[0m\n",
            "\u001b[0;32m/usr/local/lib/python3.7/dist-packages/torch/nn/modules/module.py\u001b[0m in \u001b[0;36m_call_impl\u001b[0;34m(self, *input, **kwargs)\u001b[0m\n\u001b[1;32m   1100\u001b[0m         if not (self._backward_hooks or self._forward_hooks or self._forward_pre_hooks or _global_backward_hooks\n\u001b[1;32m   1101\u001b[0m                 or _global_forward_hooks or _global_forward_pre_hooks):\n\u001b[0;32m-> 1102\u001b[0;31m             \u001b[0;32mreturn\u001b[0m \u001b[0mforward_call\u001b[0m\u001b[0;34m(\u001b[0m\u001b[0;34m*\u001b[0m\u001b[0minput\u001b[0m\u001b[0;34m,\u001b[0m \u001b[0;34m**\u001b[0m\u001b[0mkwargs\u001b[0m\u001b[0;34m)\u001b[0m\u001b[0;34m\u001b[0m\u001b[0;34m\u001b[0m\u001b[0m\n\u001b[0m\u001b[1;32m   1103\u001b[0m         \u001b[0;31m# Do not call functions when jit is used\u001b[0m\u001b[0;34m\u001b[0m\u001b[0;34m\u001b[0m\u001b[0;34m\u001b[0m\u001b[0m\n\u001b[1;32m   1104\u001b[0m         \u001b[0mfull_backward_hooks\u001b[0m\u001b[0;34m,\u001b[0m \u001b[0mnon_full_backward_hooks\u001b[0m \u001b[0;34m=\u001b[0m \u001b[0;34m[\u001b[0m\u001b[0;34m]\u001b[0m\u001b[0;34m,\u001b[0m \u001b[0;34m[\u001b[0m\u001b[0;34m]\u001b[0m\u001b[0;34m\u001b[0m\u001b[0;34m\u001b[0m\u001b[0m\n",
            "\u001b[0;32m<ipython-input-16-b8f77d78bdb2>\u001b[0m in \u001b[0;36mforward\u001b[0;34m(self, x)\u001b[0m\n\u001b[1;32m     39\u001b[0m     \u001b[0;32mdef\u001b[0m \u001b[0mforward\u001b[0m\u001b[0;34m(\u001b[0m\u001b[0mself\u001b[0m\u001b[0;34m,\u001b[0m \u001b[0mx\u001b[0m\u001b[0;34m)\u001b[0m\u001b[0;34m:\u001b[0m\u001b[0;34m\u001b[0m\u001b[0;34m\u001b[0m\u001b[0m\n\u001b[1;32m     40\u001b[0m \u001b[0;34m\u001b[0m\u001b[0m\n\u001b[0;32m---> 41\u001b[0;31m         \u001b[0mconvpre\u001b[0m \u001b[0;34m=\u001b[0m \u001b[0mself\u001b[0m\u001b[0;34m.\u001b[0m\u001b[0mdconv_pre\u001b[0m\u001b[0;34m(\u001b[0m\u001b[0mx\u001b[0m\u001b[0;34m)\u001b[0m \u001b[0;31m#not maxpooling here\u001b[0m\u001b[0;34m\u001b[0m\u001b[0;34m\u001b[0m\u001b[0m\n\u001b[0m\u001b[1;32m     42\u001b[0m         \u001b[0mconv1\u001b[0m \u001b[0;34m=\u001b[0m \u001b[0mself\u001b[0m\u001b[0;34m.\u001b[0m\u001b[0mdconv_down1\u001b[0m\u001b[0;34m(\u001b[0m\u001b[0mconvpre\u001b[0m\u001b[0;34m)\u001b[0m\u001b[0;34m\u001b[0m\u001b[0;34m\u001b[0m\u001b[0m\n\u001b[1;32m     43\u001b[0m         \u001b[0mx\u001b[0m \u001b[0;34m=\u001b[0m \u001b[0mself\u001b[0m\u001b[0;34m.\u001b[0m\u001b[0mmaxpool\u001b[0m\u001b[0;34m(\u001b[0m\u001b[0mconv1\u001b[0m\u001b[0;34m)\u001b[0m\u001b[0;34m\u001b[0m\u001b[0;34m\u001b[0m\u001b[0m\n",
            "\u001b[0;32m/usr/local/lib/python3.7/dist-packages/torch/nn/modules/module.py\u001b[0m in \u001b[0;36m_call_impl\u001b[0;34m(self, *input, **kwargs)\u001b[0m\n\u001b[1;32m   1100\u001b[0m         if not (self._backward_hooks or self._forward_hooks or self._forward_pre_hooks or _global_backward_hooks\n\u001b[1;32m   1101\u001b[0m                 or _global_forward_hooks or _global_forward_pre_hooks):\n\u001b[0;32m-> 1102\u001b[0;31m             \u001b[0;32mreturn\u001b[0m \u001b[0mforward_call\u001b[0m\u001b[0;34m(\u001b[0m\u001b[0;34m*\u001b[0m\u001b[0minput\u001b[0m\u001b[0;34m,\u001b[0m \u001b[0;34m**\u001b[0m\u001b[0mkwargs\u001b[0m\u001b[0;34m)\u001b[0m\u001b[0;34m\u001b[0m\u001b[0;34m\u001b[0m\u001b[0m\n\u001b[0m\u001b[1;32m   1103\u001b[0m         \u001b[0;31m# Do not call functions when jit is used\u001b[0m\u001b[0;34m\u001b[0m\u001b[0;34m\u001b[0m\u001b[0;34m\u001b[0m\u001b[0m\n\u001b[1;32m   1104\u001b[0m         \u001b[0mfull_backward_hooks\u001b[0m\u001b[0;34m,\u001b[0m \u001b[0mnon_full_backward_hooks\u001b[0m \u001b[0;34m=\u001b[0m \u001b[0;34m[\u001b[0m\u001b[0;34m]\u001b[0m\u001b[0;34m,\u001b[0m \u001b[0;34m[\u001b[0m\u001b[0;34m]\u001b[0m\u001b[0;34m\u001b[0m\u001b[0;34m\u001b[0m\u001b[0m\n",
            "\u001b[0;32m/usr/local/lib/python3.7/dist-packages/torch/nn/modules/container.py\u001b[0m in \u001b[0;36mforward\u001b[0;34m(self, input)\u001b[0m\n\u001b[1;32m    139\u001b[0m     \u001b[0;32mdef\u001b[0m \u001b[0mforward\u001b[0m\u001b[0;34m(\u001b[0m\u001b[0mself\u001b[0m\u001b[0;34m,\u001b[0m \u001b[0minput\u001b[0m\u001b[0;34m)\u001b[0m\u001b[0;34m:\u001b[0m\u001b[0;34m\u001b[0m\u001b[0;34m\u001b[0m\u001b[0m\n\u001b[1;32m    140\u001b[0m         \u001b[0;32mfor\u001b[0m \u001b[0mmodule\u001b[0m \u001b[0;32min\u001b[0m \u001b[0mself\u001b[0m\u001b[0;34m:\u001b[0m\u001b[0;34m\u001b[0m\u001b[0;34m\u001b[0m\u001b[0m\n\u001b[0;32m--> 141\u001b[0;31m             \u001b[0minput\u001b[0m \u001b[0;34m=\u001b[0m \u001b[0mmodule\u001b[0m\u001b[0;34m(\u001b[0m\u001b[0minput\u001b[0m\u001b[0;34m)\u001b[0m\u001b[0;34m\u001b[0m\u001b[0;34m\u001b[0m\u001b[0m\n\u001b[0m\u001b[1;32m    142\u001b[0m         \u001b[0;32mreturn\u001b[0m \u001b[0minput\u001b[0m\u001b[0;34m\u001b[0m\u001b[0;34m\u001b[0m\u001b[0m\n\u001b[1;32m    143\u001b[0m \u001b[0;34m\u001b[0m\u001b[0m\n",
            "\u001b[0;32m/usr/local/lib/python3.7/dist-packages/torch/nn/modules/module.py\u001b[0m in \u001b[0;36m_call_impl\u001b[0;34m(self, *input, **kwargs)\u001b[0m\n\u001b[1;32m   1118\u001b[0m             \u001b[0minput\u001b[0m \u001b[0;34m=\u001b[0m \u001b[0mbw_hook\u001b[0m\u001b[0;34m.\u001b[0m\u001b[0msetup_input_hook\u001b[0m\u001b[0;34m(\u001b[0m\u001b[0minput\u001b[0m\u001b[0;34m)\u001b[0m\u001b[0;34m\u001b[0m\u001b[0;34m\u001b[0m\u001b[0m\n\u001b[1;32m   1119\u001b[0m \u001b[0;34m\u001b[0m\u001b[0m\n\u001b[0;32m-> 1120\u001b[0;31m         \u001b[0mresult\u001b[0m \u001b[0;34m=\u001b[0m \u001b[0mforward_call\u001b[0m\u001b[0;34m(\u001b[0m\u001b[0;34m*\u001b[0m\u001b[0minput\u001b[0m\u001b[0;34m,\u001b[0m \u001b[0;34m**\u001b[0m\u001b[0mkwargs\u001b[0m\u001b[0;34m)\u001b[0m\u001b[0;34m\u001b[0m\u001b[0;34m\u001b[0m\u001b[0m\n\u001b[0m\u001b[1;32m   1121\u001b[0m         \u001b[0;32mif\u001b[0m \u001b[0m_global_forward_hooks\u001b[0m \u001b[0;32mor\u001b[0m \u001b[0mself\u001b[0m\u001b[0;34m.\u001b[0m\u001b[0m_forward_hooks\u001b[0m\u001b[0;34m:\u001b[0m\u001b[0;34m\u001b[0m\u001b[0;34m\u001b[0m\u001b[0m\n\u001b[1;32m   1122\u001b[0m             \u001b[0;32mfor\u001b[0m \u001b[0mhook\u001b[0m \u001b[0;32min\u001b[0m \u001b[0;34m(\u001b[0m\u001b[0;34m*\u001b[0m\u001b[0m_global_forward_hooks\u001b[0m\u001b[0;34m.\u001b[0m\u001b[0mvalues\u001b[0m\u001b[0;34m(\u001b[0m\u001b[0;34m)\u001b[0m\u001b[0;34m,\u001b[0m \u001b[0;34m*\u001b[0m\u001b[0mself\u001b[0m\u001b[0;34m.\u001b[0m\u001b[0m_forward_hooks\u001b[0m\u001b[0;34m.\u001b[0m\u001b[0mvalues\u001b[0m\u001b[0;34m(\u001b[0m\u001b[0;34m)\u001b[0m\u001b[0;34m)\u001b[0m\u001b[0;34m:\u001b[0m\u001b[0;34m\u001b[0m\u001b[0;34m\u001b[0m\u001b[0m\n",
            "\u001b[0;32m/usr/local/lib/python3.7/dist-packages/torch/nn/modules/conv.py\u001b[0m in \u001b[0;36mforward\u001b[0;34m(self, input)\u001b[0m\n\u001b[1;32m    444\u001b[0m \u001b[0;34m\u001b[0m\u001b[0m\n\u001b[1;32m    445\u001b[0m     \u001b[0;32mdef\u001b[0m \u001b[0mforward\u001b[0m\u001b[0;34m(\u001b[0m\u001b[0mself\u001b[0m\u001b[0;34m,\u001b[0m \u001b[0minput\u001b[0m\u001b[0;34m:\u001b[0m \u001b[0mTensor\u001b[0m\u001b[0;34m)\u001b[0m \u001b[0;34m->\u001b[0m \u001b[0mTensor\u001b[0m\u001b[0;34m:\u001b[0m\u001b[0;34m\u001b[0m\u001b[0;34m\u001b[0m\u001b[0m\n\u001b[0;32m--> 446\u001b[0;31m         \u001b[0;32mreturn\u001b[0m \u001b[0mself\u001b[0m\u001b[0;34m.\u001b[0m\u001b[0m_conv_forward\u001b[0m\u001b[0;34m(\u001b[0m\u001b[0minput\u001b[0m\u001b[0;34m,\u001b[0m \u001b[0mself\u001b[0m\u001b[0;34m.\u001b[0m\u001b[0mweight\u001b[0m\u001b[0;34m,\u001b[0m \u001b[0mself\u001b[0m\u001b[0;34m.\u001b[0m\u001b[0mbias\u001b[0m\u001b[0;34m)\u001b[0m\u001b[0;34m\u001b[0m\u001b[0;34m\u001b[0m\u001b[0m\n\u001b[0m\u001b[1;32m    447\u001b[0m \u001b[0;34m\u001b[0m\u001b[0m\n\u001b[1;32m    448\u001b[0m \u001b[0;32mclass\u001b[0m \u001b[0mConv3d\u001b[0m\u001b[0;34m(\u001b[0m\u001b[0m_ConvNd\u001b[0m\u001b[0;34m)\u001b[0m\u001b[0;34m:\u001b[0m\u001b[0;34m\u001b[0m\u001b[0;34m\u001b[0m\u001b[0m\n",
            "\u001b[0;32m/usr/local/lib/python3.7/dist-packages/torch/nn/modules/conv.py\u001b[0m in \u001b[0;36m_conv_forward\u001b[0;34m(self, input, weight, bias)\u001b[0m\n\u001b[1;32m    441\u001b[0m                             _pair(0), self.dilation, self.groups)\n\u001b[1;32m    442\u001b[0m         return F.conv2d(input, weight, bias, self.stride,\n\u001b[0;32m--> 443\u001b[0;31m                         self.padding, self.dilation, self.groups)\n\u001b[0m\u001b[1;32m    444\u001b[0m \u001b[0;34m\u001b[0m\u001b[0m\n\u001b[1;32m    445\u001b[0m     \u001b[0;32mdef\u001b[0m \u001b[0mforward\u001b[0m\u001b[0;34m(\u001b[0m\u001b[0mself\u001b[0m\u001b[0;34m,\u001b[0m \u001b[0minput\u001b[0m\u001b[0;34m:\u001b[0m \u001b[0mTensor\u001b[0m\u001b[0;34m)\u001b[0m \u001b[0;34m->\u001b[0m \u001b[0mTensor\u001b[0m\u001b[0;34m:\u001b[0m\u001b[0;34m\u001b[0m\u001b[0;34m\u001b[0m\u001b[0m\n",
            "\u001b[0;31mRuntimeError\u001b[0m: Expected 4-dimensional input for 4-dimensional weight [3, 1, 3, 3], but got 5-dimensional input of size [2, 4, 1, 96, 96] instead"
          ]
        }
      ]
    },
    {
      "cell_type": "markdown",
      "metadata": {
        "id": "nRdPFTa9a34J"
      },
      "source": [
        "### 2.3 Define a Loss function and optimizer\n",
        "\n",
        "You will need to define a loss function and an optimizer. torch.nn has a variety of readymade loss functions, although you may wish to create your own instead. torch.optim has a variety of optimizers, it is advised that you use one of these."
      ]
    },
    {
      "cell_type": "code",
      "metadata": {
        "id": "QRjOZGXRbUFT",
        "colab": {
          "base_uri": "https://localhost:8080/",
          "height": 139
        },
        "outputId": "9aa2fed6-b341-47c9-d523-f941eac8a781"
      },
      "source": [
        "\n",
        "import torch.optim as optim\n",
        "from torch.optim import lr_scheduler\n",
        "\n",
        "\"\"\"\n",
        "def dice_loss(pred,target, smooth = 1.):\n",
        "\n",
        "    pred = pred.contiguous()\n",
        "    target = target.contiguous()    \n",
        "    \n",
        "    #When you call contiguous(), it actually makes a copy of the tensor such that the order of its elements in memory is the same as if it had been created from scratch with the same data.\n",
        "\n",
        "    #Normally you don't need to worry about this. You're generally safe to assume everything will work, and wait until you get a RuntimeError: input is not contiguous where PyTorch expects a contiguous tensor to add a call to contiguous().\n",
        "\n",
        "    \n",
        "\n",
        "    intersection = (pred * target).sum(dim=2).sum(dim=2)\n",
        "    \n",
        "    loss = (1 - ((2. * intersection + smooth) / (pred.sum(dim=2).sum(dim=2) + target.sum(dim=2).sum(dim=2) + smooth)))\n",
        "    \n",
        "    return loss.mean()\n",
        "\n",
        "\n",
        "criterion = nn.CrossEntropyLoss()\n",
        "\n",
        "# so we have two types of loss the dice loss and cross entropy loss\n",
        "\n",
        "def optimizer():\n",
        "  return optim.Adam(filter( lambda p:p.requires_grad,model.parameters()),lr=1e-4)\n",
        "\n",
        "optimizer_ft = optimizer()\n",
        "def exp_lr_scheduler():\n",
        "  return lr_scheduler.StepLR(optimizer_ft,step_size=30,gamma=0.1)\n",
        "\"\"\"\n"
      ],
      "execution_count": 9,
      "outputs": [
        {
          "output_type": "execute_result",
          "data": {
            "application/vnd.google.colaboratory.intrinsic+json": {
              "type": "string"
            },
            "text/plain": [
              "\"\\ndef dice_loss(pred,target, smooth = 1.):\\n\\n    pred = pred.contiguous()\\n    target = target.contiguous()    \\n    \\n    #When you call contiguous(), it actually makes a copy of the tensor such that the order of its elements in memory is the same as if it had been created from scratch with the same data.\\n\\n    #Normally you don't need to worry about this. You're generally safe to assume everything will work, and wait until you get a RuntimeError: input is not contiguous where PyTorch expects a contiguous tensor to add a call to contiguous().\\n\\n    \\n\\n    intersection = (pred * target).sum(dim=2).sum(dim=2)\\n    \\n    loss = (1 - ((2. * intersection + smooth) / (pred.sum(dim=2).sum(dim=2) + target.sum(dim=2).sum(dim=2) + smooth)))\\n    \\n    return loss.mean()\\n\\n\\ncriterion = nn.CrossEntropyLoss()\\n\\n# so we have two types of loss the dice loss and cross entropy loss\\n\\ndef optimizer():\\n  return optim.Adam(filter( lambda p:p.requires_grad,model.parameters()),lr=1e-4)\\n\\noptimizer_ft = optimizer()\\ndef exp_lr_scheduler():\\n  return lr_scheduler.StepLR(optimizer_ft,step_size=30,gamma=0.1)\\n\""
            ]
          },
          "metadata": {},
          "execution_count": 9
        }
      ]
    },
    {
      "cell_type": "markdown",
      "metadata": {
        "id": "grDz3fR1qW_V"
      },
      "source": [
        "### 2.4 Training\n",
        "\n",
        "As most of you will use CPUs to train the model, expect your models to take **30 minutes to train if not longer depending on network architecture**. To save time, you should not be using all training data until your model is well developed. If you are running your model on a GPU training should be significantly faster. During the training process, you may want to save the checkpoints as follows:\n",
        "\n",
        "```\n",
        "# Saving checkpoints for validation/testing\n",
        "torch.save(model.state_dict(), path)\n",
        "```\n",
        "The saved checkpoints can be used to load at a later date for validation and testing. Here we give some example code for training a model. Note that you need to specify the max iterations you want to train the model."
      ]
    },
    {
      "cell_type": "code",
      "metadata": {
        "id": "GrFNs1t6PjNR"
      },
      "source": [
        "# https://github.com/milesial/Pytorch-UNet/blob/master/utils/dice_score.py\n",
        "\n",
        "import torch\n",
        "from torch import Tensor\n",
        "\n",
        "\n",
        "def dice_coeff(input: Tensor, target: Tensor, reduce_batch_first: bool = False, epsilon=1e-6):\n",
        "    # Average of Dice coefficient for all batches, or for a single mask\n",
        "    assert input.size() == target.size()\n",
        "    if input.dim() == 2 and reduce_batch_first:\n",
        "        raise ValueError(f'Dice: asked to reduce batch but got tensor without batch dimension (shape {input.shape})')\n",
        "\n",
        "    if input.dim() == 2 or reduce_batch_first:\n",
        "        inter = torch.dot(input.reshape(-1), target.reshape(-1))\n",
        "        sets_sum = torch.sum(input) + torch.sum(target)\n",
        "        if sets_sum.item() == 0:\n",
        "            sets_sum = 2 * inter\n",
        "\n",
        "        return (2 * inter + epsilon) / (sets_sum + epsilon)\n",
        "    else:\n",
        "        # compute and average metric for each batch element\n",
        "        dice = 0\n",
        "        for i in range(input.shape[0]):\n",
        "            dice += dice_coeff(input[i, ...], target[i, ...])\n",
        "        return dice / input.shape[0]\n",
        "\n",
        "\n",
        "def multiclass_dice_coeff(input: Tensor, target: Tensor, reduce_batch_first: bool = False, epsilon=1e-6):\n",
        "    # Average of Dice coefficient for all classes\n",
        "    assert input.size() == target.size()\n",
        "    dice = 0\n",
        "    for channel in range(input.shape[1]):\n",
        "        dice += dice_coeff(input[:, channel, ...], target[:, channel, ...], reduce_batch_first, epsilon)\n",
        "\n",
        "    return dice / input.shape[1]\n",
        "\n",
        "\n",
        "def dice_loss(input: Tensor, target: Tensor, multiclass: bool = False):\n",
        "    # Dice loss (objective to minimize) between 0 and 1\n",
        "    assert input.size() == target.size()\n",
        "    fn = multiclass_dice_coeff if multiclass else dice_coeff\n",
        "    return 1 - fn(input, target, reduce_batch_first=True)\n"
      ],
      "execution_count": 14,
      "outputs": []
    },
    {
      "cell_type": "code",
      "metadata": {
        "id": "iCb4bxVVchxf",
        "colab": {
          "base_uri": "https://localhost:8080/",
          "height": 1000
        },
        "outputId": "7c86bc54-6b1e-4730-ba66-611f3e4721ff"
      },
      "source": [
        "from torch.utils.data import DataLoader\n",
        "from collections import defaultdict\n",
        "import time\n",
        "import argparse\n",
        "from tqdm import tqdm\n",
        "import torch.nn.functional as F\n",
        "\n",
        "import torch.optim as optim\n",
        "from torch.optim import lr_scheduler\n",
        "\"\"\"\n",
        "def print_metrics(metrics, epoch_samples, phase='train'):\n",
        "    outputs = []\n",
        "    for k in metrics.keys():\n",
        "        outputs.append(\"{}: {:4f}\".format(k, metrics[k] / epoch_samples))\n",
        "\n",
        "    print(\"{}: {}\".format(phase, \", \".join(outputs)))\n",
        "\n",
        "def calc_loss(pred,target,metrics,bce_weight=0.5) :\n",
        "    #bce = F.binary_cross_entropy_with_logits(pred,target)\n",
        "\n",
        "    pred = torch.sigmoid(pred)\n",
        "    dice = dice_loss(pred,target) \n",
        "\n",
        "    #loss = bce * bce_weight + dice * (1 - bce_weight)\n",
        "    \n",
        "\n",
        "    metrics['bce'] += 1#bce.data.cpu().numpy() * target.size(0)\n",
        "    metrics['dice'] += dice.data.cpu().numpy() * target.size(0)\n",
        "    metrics['loss'] += 1#loss.data.cpu().numpy() * target.size(0)\n",
        "\n",
        "    return metrics['loss']\n",
        "\"\"\"\n",
        "\"\"\"\n",
        "def dice_coef_binary_4cat(y_true, y_pred, smooth=1e-7):\n",
        "    '''\n",
        "    Dice coefficient for 4 categories. Ignores background pixel label 0\n",
        "    Pass to model as metric during compile statement\n",
        "    '''\n",
        "    y_true_f = torch.flatten(F.one_hot(torch.cast(y_true, 'int32'), num_classes=4)[...,1:])\n",
        "    y_pred_f = torch.flatten(y_pred[...,1:])\n",
        "    intersect = F.sum(y_true_f * y_pred_f, axis=-1)\n",
        "    denom = F.sum(y_true_f + y_pred_f, axis=-1)\n",
        "    return F.mean((2. * intersect / (denom + smooth)))\n",
        "\n",
        "\n",
        "def dice_coef_binary_loss(y_true, y_pred):\n",
        "    '''\n",
        "    Dice loss to minimize. Pass to model as loss during compile statement\n",
        "    '''\n",
        "    return 1 - dice_coef_binary_4cat(y_true, y_pred)\n",
        "\n",
        "\"\"\"\n",
        "checkpoint_path = \"checkpoint.pth\"\n",
        "data_path = '/content/drive/MyDrive/data/train/'\n",
        "num_workers = 4\n",
        "batch_size = 4\n",
        "\"\"\"\n",
        "#what does data loader do?\n",
        "Dataset stores the samples and their corresponding labels, and \n",
        "DataLoader wraps an iterable around the Dataset to enable easy access to the samples.\n",
        "\n",
        "\"\"\"\n",
        "#optimizer = optim.RMSprop(model.parameters(), lr=learning_rate, weight_decay=1e-8, momentum=0.9)\n",
        "optimizer_fn = optim.Adam(model.parameters(),lr = 0.001)\n",
        "#scheduler = optim.lr_scheduler.ReduceLROnPlateau(optimizer, 'max', patience=2)  # goal: maximize Dice score\n",
        "scheduler_fn = lr_scheduler.StepLR(optimizer_fn,step_size=30,gamma=0.1)\n",
        "\n",
        "loss_fn = nn.CrossEntropyLoss()\n",
        "if isinstance(loss_fn,torch.nn.Module): ##just to be sure that criterion is on the correct device.\n",
        "  loss_fn.to(device)\n",
        "\n",
        "def train_net(model,\n",
        "              device,\n",
        "              epochs: int =10,\n",
        "              batch_size: int = 1,\n",
        "              learning_rate: float = 0.00001,\n",
        "              optimizer = optimizer_fn,\n",
        "              scheduler = scheduler_fn,\n",
        "              criterion = loss_fn,\n",
        "              #val_percent: float = 0.1,\n",
        "              #save_checkpoint: bool = True,\n",
        "             # img_scale: float = 0.5,\n",
        "              amp: bool = False\n",
        "):\n",
        "#print(\"training the network...\")\n",
        "# Fetch images and labels.\n",
        "  model.train()  #funciton of the module superclass ..sets the model to train.\n",
        "  train_set = TrainDataset(data_path)\n",
        "  training_data_loader = DataLoader(dataset=train_set, num_workers=num_workers, batch_size=batch_size, shuffle=True)\n",
        " # https://github.com/milesial/Pytorch-UNet/blob/master/train.py \n",
        "\n",
        "\n",
        "  global_step = 0\n",
        "  steps =[]\n",
        "  losses=[]\n",
        "  for epoch in range(epochs) :\n",
        "    #torch.set_grad_enabled(True)\n",
        "    epoch_samples = 0\n",
        "    epoch_loss=0\n",
        "    metrics = defaultdict(float)\n",
        "    since = time.time()\n",
        "  \n",
        "    with tqdm(len(train_set), desc=f'Epoch {epoch + 1}/{epochs}', unit='img') as pbar:     \n",
        "      for iteration, sample in enumerate(training_data_loader):\n",
        "      #for batch in training_data_loader:\n",
        "          img, mask = sample\n",
        "\n",
        "          #print('\\nimage size :', img.shape)\n",
        "          print('mask size :',mask.shape)\n",
        "          img=img.unsqueeze(1)\n",
        "          print('\\nimage size :', img.shape)\n",
        "          img  = img.to(device = device)\n",
        "          #https://discuss.pytorch.org/t/only-batches-of-spatial-targets-supported-non-empty-3d-tensors-but-got-targets-of-size-1-1-256-256/49134/18 \n",
        "          mask = mask.squeeze(1)\n",
        "          mask = mask.to(device,dtype = torch.long)\n",
        "\n",
        "      \n",
        "          #mask = F.one_hot(mask,4).permute(0,3,1,2).float()\n",
        "          #print(mask.shape)\n",
        "          \"\"\"\n",
        "          torch.cuda.amp and torch provide convenience methods for mixed precision,\n",
        "          where some operations use the torch.float32 (float) datatype and other operations use torch.float16 (half).\n",
        "          Some ops, like linear layers and convolutions, are much faster in float16. \n",
        "          Other ops, like reductions, often require the dynamic range of float32. \n",
        "          Mixed precision tries to match each op to its appropriate datatype.\n",
        "          \"\"\"\n",
        "          #with torch.cuda.amp.autocast(enabled = amp)\n",
        "          out  = model(img)\n",
        "          #print(out.shape)\n",
        "          optimizer.zero_grad()\n",
        "          cross_entropy_loss = criterion (out,mask) \n",
        "          #dice_loss = dice_coef_binary_loss(mask,out)\n",
        "          dice= dice_loss(F.softmax(out, dim=1).float(), F.one_hot(mask, 4).permute(0, 3, 1, 2).float(),multiclass=True)\n",
        "          #loss = cross_entropy_loss + dice\n",
        "          loss = cross_entropy_loss\n",
        "    \n",
        "    # Then write your BACKWARD & OPTIMIZE below\n",
        "    # Note: Compute Loss and Optimize\n",
        "    #loss = criterion(out,mask)\n",
        "    #loss_value = loss.item()\n",
        "    #train_losses.append(loss_value)\n",
        "    #loss.backward()\n",
        "          \n",
        "\n",
        "         # optimizer.zero_grad(set_to_none=True)\n",
        "         # grad_scaler.scale(loss).backward()\n",
        "         # grad_scaler.step(optimizer)\n",
        "         # grad_scaler.update()\n",
        "\n",
        "          pbar.update(img.shape[0])\n",
        "          global_step += 1\n",
        "          epoch_loss += loss.item()\n",
        "          losses.append(loss.item())\n",
        "          steps.append(global_step)\n",
        "          loss.backward()\n",
        "          optimizer.step()\n",
        "          #experiment.log({\n",
        "           #         'train loss': loss.item(),\n",
        "            #        'step': global_step,\n",
        "             #       'epoch': epoch\n",
        "               # })\n",
        "          print('train loss',loss.item(),' step :',global_step,' epoch :',epoch)\n",
        "          pbar.set_postfix(**{'loss (batch)': loss.item()})\n",
        "  plt.plot(steps[1::2],losses[1::2],'.r-')\n",
        "  plt.xlabel(\"step\")\n",
        "  plt.ylabel(\"loss\")\n",
        "  x1,x2,y1,y2 = plt.axis()  \n",
        "  plt.axis((x1,x2,0,1))\n",
        "  fig = plt.gcf()\n",
        "  fig.set_size_inches(18.5, 10.5, forward=True)\n",
        "  fig.set_dpi(100)\n",
        "  plt.show()\n",
        "  return model\n",
        "model = train_net(model,device,10,4 ,0.0001)\n",
        "torch.save(model.state_dict(), checkpoint_path)\n",
        "\n",
        "    "
      ],
      "execution_count": 32,
      "outputs": [
        {
          "output_type": "stream",
          "name": "stderr",
          "text": [
            "/usr/local/lib/python3.7/dist-packages/torch/utils/data/dataloader.py:481: UserWarning: This DataLoader will create 4 worker processes in total. Our suggested max number of worker in current system is 2, which is smaller than what this DataLoader is going to create. Please be aware that excessive worker creation might get DataLoader running slow or even freeze, lower the worker number to avoid potential slowness/freeze if necessary.\n",
            "  cpuset_checked))\n",
            "Epoch 1/10: 4img [00:00, 15.04img/s]"
          ]
        },
        {
          "output_type": "stream",
          "name": "stdout",
          "text": [
            "mask size : torch.Size([4, 96, 96])\n",
            "\n",
            "image size : torch.Size([4, 1, 96, 96])\n"
          ]
        },
        {
          "output_type": "stream",
          "name": "stderr",
          "text": [
            "Epoch 1/10: 8img [00:00, 16.90img/s, loss (batch)=0.0676]"
          ]
        },
        {
          "output_type": "stream",
          "name": "stdout",
          "text": [
            "train loss 0.06759003549814224  step : 1  epoch : 0\n",
            "mask size : torch.Size([4, 96, 96])\n",
            "\n",
            "image size : torch.Size([4, 1, 96, 96])\n",
            "train loss 0.43948814272880554  step : 2  epoch : 0\n"
          ]
        },
        {
          "output_type": "stream",
          "name": "stderr",
          "text": [
            "Epoch 1/10: 12img [00:00, 18.64img/s, loss (batch)=0.152]"
          ]
        },
        {
          "output_type": "stream",
          "name": "stdout",
          "text": [
            "mask size : torch.Size([4, 96, 96])\n",
            "\n",
            "image size : torch.Size([4, 1, 96, 96])\n",
            "train loss 0.15188363194465637  step : 3  epoch : 0\n",
            "mask size : torch.Size([4, 96, 96])\n",
            "\n",
            "image size : torch.Size([4, 1, 96, 96])\n"
          ]
        },
        {
          "output_type": "stream",
          "name": "stderr",
          "text": [
            "Epoch 1/10: 20img [00:01, 22.00img/s, loss (batch)=0.179]"
          ]
        },
        {
          "output_type": "stream",
          "name": "stdout",
          "text": [
            "train loss 0.3283597528934479  step : 4  epoch : 0\n",
            "mask size : torch.Size([4, 96, 96])\n",
            "\n",
            "image size : torch.Size([4, 1, 96, 96])\n",
            "train loss 0.1788666695356369  step : 5  epoch : 0\n",
            "mask size : torch.Size([4, 96, 96])\n",
            "\n",
            "image size : torch.Size([4, 1, 96, 96])\n"
          ]
        },
        {
          "output_type": "stream",
          "name": "stderr",
          "text": [
            "Epoch 1/10: 28img [00:01, 24.25img/s, loss (batch)=0.157]"
          ]
        },
        {
          "output_type": "stream",
          "name": "stdout",
          "text": [
            "train loss 0.1485617458820343  step : 6  epoch : 0\n",
            "mask size : torch.Size([4, 96, 96])\n",
            "\n",
            "image size : torch.Size([4, 1, 96, 96])\n",
            "train loss 0.15704849362373352  step : 7  epoch : 0\n",
            "mask size : torch.Size([4, 96, 96])\n",
            "\n",
            "image size : torch.Size([4, 1, 96, 96])\n"
          ]
        },
        {
          "output_type": "stream",
          "name": "stderr",
          "text": [
            "Epoch 1/10: 36img [00:01, 25.50img/s, loss (batch)=0.182]"
          ]
        },
        {
          "output_type": "stream",
          "name": "stdout",
          "text": [
            "train loss 0.14166422188282013  step : 8  epoch : 0\n",
            "mask size : torch.Size([4, 96, 96])\n",
            "\n",
            "image size : torch.Size([4, 1, 96, 96])\n",
            "train loss 0.18161657452583313  step : 9  epoch : 0\n",
            "mask size : torch.Size([4, 96, 96])\n",
            "\n",
            "image size : torch.Size([4, 1, 96, 96])\n"
          ]
        },
        {
          "output_type": "stream",
          "name": "stderr",
          "text": [
            "Epoch 1/10: 44img [00:01, 25.65img/s, loss (batch)=0.139]"
          ]
        },
        {
          "output_type": "stream",
          "name": "stdout",
          "text": [
            "train loss 0.1342903971672058  step : 10  epoch : 0\n",
            "mask size : torch.Size([4, 96, 96])\n",
            "\n",
            "image size : torch.Size([4, 1, 96, 96])\n",
            "train loss 0.13911454379558563  step : 11  epoch : 0\n",
            "mask size : torch.Size([4, 96, 96])\n",
            "\n",
            "image size : torch.Size([4, 1, 96, 96])\n"
          ]
        },
        {
          "output_type": "stream",
          "name": "stderr",
          "text": [
            "Epoch 1/10: 52img [00:02, 25.94img/s, loss (batch)=0.0886]"
          ]
        },
        {
          "output_type": "stream",
          "name": "stdout",
          "text": [
            "train loss 0.1109025776386261  step : 12  epoch : 0\n",
            "mask size : torch.Size([4, 96, 96])\n",
            "\n",
            "image size : torch.Size([4, 1, 96, 96])\n",
            "train loss 0.088555246591568  step : 13  epoch : 0\n",
            "mask size : torch.Size([4, 96, 96])\n",
            "\n",
            "image size : torch.Size([4, 1, 96, 96])\n"
          ]
        },
        {
          "output_type": "stream",
          "name": "stderr",
          "text": [
            "Epoch 1/10: 60img [00:02, 25.99img/s, loss (batch)=0.119]"
          ]
        },
        {
          "output_type": "stream",
          "name": "stdout",
          "text": [
            "train loss 0.10896214842796326  step : 14  epoch : 0\n",
            "mask size : torch.Size([4, 96, 96])\n",
            "\n",
            "image size : torch.Size([4, 1, 96, 96])\n",
            "train loss 0.11904209107160568  step : 15  epoch : 0\n",
            "mask size : torch.Size([4, 96, 96])\n",
            "\n",
            "image size : torch.Size([4, 1, 96, 96])\n"
          ]
        },
        {
          "output_type": "stream",
          "name": "stderr",
          "text": [
            "Epoch 1/10: 68img [00:02, 26.17img/s, loss (batch)=0.156] "
          ]
        },
        {
          "output_type": "stream",
          "name": "stdout",
          "text": [
            "train loss 0.07333573698997498  step : 16  epoch : 0\n",
            "mask size : torch.Size([4, 96, 96])\n",
            "\n",
            "image size : torch.Size([4, 1, 96, 96])\n",
            "train loss 0.1562606245279312  step : 17  epoch : 0\n",
            "mask size : torch.Size([4, 96, 96])\n",
            "\n",
            "image size : torch.Size([4, 1, 96, 96])\n"
          ]
        },
        {
          "output_type": "stream",
          "name": "stderr",
          "text": [
            "Epoch 1/10: 76img [00:03, 26.63img/s, loss (batch)=0.0954]"
          ]
        },
        {
          "output_type": "stream",
          "name": "stdout",
          "text": [
            "train loss 0.10162746906280518  step : 18  epoch : 0\n",
            "mask size : torch.Size([4, 96, 96])\n",
            "\n",
            "image size : torch.Size([4, 1, 96, 96])\n",
            "train loss 0.09538331627845764  step : 19  epoch : 0\n",
            "mask size : torch.Size([4, 96, 96])\n",
            "\n",
            "image size : torch.Size([4, 1, 96, 96])\n"
          ]
        },
        {
          "output_type": "stream",
          "name": "stderr",
          "text": [
            "Epoch 1/10: 84img [00:03, 26.84img/s, loss (batch)=0.141]"
          ]
        },
        {
          "output_type": "stream",
          "name": "stdout",
          "text": [
            "train loss 0.15174725651741028  step : 20  epoch : 0\n",
            "mask size : torch.Size([4, 96, 96])\n",
            "\n",
            "image size : torch.Size([4, 1, 96, 96])\n",
            "train loss 0.1410871148109436  step : 21  epoch : 0\n",
            "mask size : torch.Size([4, 96, 96])\n",
            "\n",
            "image size : torch.Size([4, 1, 96, 96])\n"
          ]
        },
        {
          "output_type": "stream",
          "name": "stderr",
          "text": [
            "Epoch 1/10: 92img [00:03, 26.72img/s, loss (batch)=0.131] "
          ]
        },
        {
          "output_type": "stream",
          "name": "stdout",
          "text": [
            "train loss 0.09723469614982605  step : 22  epoch : 0\n",
            "mask size : torch.Size([4, 96, 96])\n",
            "\n",
            "image size : torch.Size([4, 1, 96, 96])\n",
            "train loss 0.13102450966835022  step : 23  epoch : 0\n",
            "mask size : torch.Size([4, 96, 96])\n",
            "\n",
            "image size : torch.Size([4, 1, 96, 96])\n"
          ]
        },
        {
          "output_type": "stream",
          "name": "stderr",
          "text": [
            "Epoch 1/10: 100img [00:04, 26.67img/s, loss (batch)=0.096]"
          ]
        },
        {
          "output_type": "stream",
          "name": "stdout",
          "text": [
            "train loss 0.1351575255393982  step : 24  epoch : 0\n",
            "mask size : torch.Size([4, 96, 96])\n",
            "\n",
            "image size : torch.Size([4, 1, 96, 96])\n",
            "train loss 0.09602919965982437  step : 25  epoch : 0\n"
          ]
        },
        {
          "output_type": "stream",
          "name": "stderr",
          "text": [
            "Epoch 1/10: 100img [00:04, 23.90img/s, loss (batch)=0.096]\n",
            "Epoch 2/10: 4img [00:00, 15.85img/s, loss (batch)=0.0987]"
          ]
        },
        {
          "output_type": "stream",
          "name": "stdout",
          "text": [
            "mask size : torch.Size([4, 96, 96])\n",
            "\n",
            "image size : torch.Size([4, 1, 96, 96])\n",
            "train loss 0.09870801866054535  step : 26  epoch : 1\n",
            "mask size : torch.Size([4, 96, 96])\n",
            "\n",
            "image size : torch.Size([4, 1, 96, 96])\n"
          ]
        },
        {
          "output_type": "stream",
          "name": "stderr",
          "text": [
            "Epoch 2/10: 12img [00:00, 22.56img/s, loss (batch)=0.105] "
          ]
        },
        {
          "output_type": "stream",
          "name": "stdout",
          "text": [
            "train loss 0.09677895903587341  step : 27  epoch : 1\n",
            "mask size : torch.Size([4, 96, 96])\n",
            "\n",
            "image size : torch.Size([4, 1, 96, 96])\n",
            "train loss 0.10500766336917877  step : 28  epoch : 1\n",
            "mask size : torch.Size([4, 96, 96])\n",
            "\n",
            "image size : torch.Size([4, 1, 96, 96])\n"
          ]
        },
        {
          "output_type": "stream",
          "name": "stderr",
          "text": [
            "Epoch 2/10: 20img [00:00, 24.30img/s, loss (batch)=0.116]"
          ]
        },
        {
          "output_type": "stream",
          "name": "stdout",
          "text": [
            "train loss 0.11351922154426575  step : 29  epoch : 1\n",
            "mask size : torch.Size([4, 96, 96])\n",
            "\n",
            "image size : torch.Size([4, 1, 96, 96])\n",
            "train loss 0.11617403477430344  step : 30  epoch : 1\n",
            "mask size : torch.Size([4, 96, 96])\n",
            "\n",
            "image size : torch.Size([4, 1, 96, 96])\n"
          ]
        },
        {
          "output_type": "stream",
          "name": "stderr",
          "text": [
            "Epoch 2/10: 28img [00:01, 25.79img/s, loss (batch)=0.0758]"
          ]
        },
        {
          "output_type": "stream",
          "name": "stdout",
          "text": [
            "train loss 0.09810725599527359  step : 31  epoch : 1\n",
            "mask size : torch.Size([4, 96, 96])\n",
            "\n",
            "image size : torch.Size([4, 1, 96, 96])\n",
            "train loss 0.07576146721839905  step : 32  epoch : 1\n",
            "mask size : torch.Size([4, 96, 96])\n",
            "\n",
            "image size : torch.Size([4, 1, 96, 96])\n"
          ]
        },
        {
          "output_type": "stream",
          "name": "stderr",
          "text": [
            "Epoch 2/10: 36img [00:01, 26.30img/s, loss (batch)=0.0816]"
          ]
        },
        {
          "output_type": "stream",
          "name": "stdout",
          "text": [
            "train loss 0.10535763204097748  step : 33  epoch : 1\n",
            "mask size : torch.Size([4, 96, 96])\n",
            "\n",
            "image size : torch.Size([4, 1, 96, 96])\n",
            "train loss 0.08156026899814606  step : 34  epoch : 1\n",
            "mask size : torch.Size([4, 96, 96])\n",
            "\n",
            "image size : torch.Size([4, 1, 96, 96])\n"
          ]
        },
        {
          "output_type": "stream",
          "name": "stderr",
          "text": [
            "Epoch 2/10: 44img [00:01, 26.31img/s, loss (batch)=0.0955]"
          ]
        },
        {
          "output_type": "stream",
          "name": "stdout",
          "text": [
            "train loss 0.14129267632961273  step : 35  epoch : 1\n",
            "mask size : torch.Size([4, 96, 96])\n",
            "\n",
            "image size : torch.Size([4, 1, 96, 96])\n",
            "train loss 0.09550584852695465  step : 36  epoch : 1\n",
            "mask size : torch.Size([4, 96, 96])\n",
            "\n",
            "image size : torch.Size([4, 1, 96, 96])\n"
          ]
        },
        {
          "output_type": "stream",
          "name": "stderr",
          "text": [
            "Epoch 2/10: 52img [00:02, 26.89img/s, loss (batch)=0.0628]"
          ]
        },
        {
          "output_type": "stream",
          "name": "stdout",
          "text": [
            "train loss 0.09407839179039001  step : 37  epoch : 1\n",
            "mask size : torch.Size([4, 96, 96])\n",
            "\n",
            "image size : torch.Size([4, 1, 96, 96])\n",
            "train loss 0.06275457888841629  step : 38  epoch : 1\n",
            "mask size : torch.Size([4, 96, 96])\n",
            "\n",
            "image size : torch.Size([4, 1, 96, 96])\n"
          ]
        },
        {
          "output_type": "stream",
          "name": "stderr",
          "text": [
            "Epoch 2/10: 60img [00:02, 26.90img/s, loss (batch)=0.0698]"
          ]
        },
        {
          "output_type": "stream",
          "name": "stdout",
          "text": [
            "train loss 0.07664735615253448  step : 39  epoch : 1\n",
            "mask size : torch.Size([4, 96, 96])\n",
            "\n",
            "image size : torch.Size([4, 1, 96, 96])\n",
            "train loss 0.06979476660490036  step : 40  epoch : 1\n",
            "mask size : torch.Size([4, 96, 96])\n",
            "\n",
            "image size : torch.Size([4, 1, 96, 96])\n"
          ]
        },
        {
          "output_type": "stream",
          "name": "stderr",
          "text": [
            "Epoch 2/10: 68img [00:02, 26.45img/s, loss (batch)=0.0816]"
          ]
        },
        {
          "output_type": "stream",
          "name": "stdout",
          "text": [
            "train loss 0.11329653859138489  step : 41  epoch : 1\n",
            "mask size : torch.Size([4, 96, 96])\n",
            "\n",
            "image size : torch.Size([4, 1, 96, 96])\n",
            "train loss 0.08158668130636215  step : 42  epoch : 1\n",
            "mask size : torch.Size([4, 96, 96])\n",
            "\n",
            "image size : torch.Size([4, 1, 96, 96])\n"
          ]
        },
        {
          "output_type": "stream",
          "name": "stderr",
          "text": [
            "Epoch 2/10: 76img [00:03, 26.83img/s, loss (batch)=0.0978]"
          ]
        },
        {
          "output_type": "stream",
          "name": "stdout",
          "text": [
            "train loss 0.08323902636766434  step : 43  epoch : 1\n",
            "mask size : torch.Size([4, 96, 96])\n",
            "\n",
            "image size : torch.Size([4, 1, 96, 96])\n",
            "train loss 0.09778907895088196  step : 44  epoch : 1\n",
            "mask size : torch.Size([4, 96, 96])\n",
            "\n",
            "image size : torch.Size([4, 1, 96, 96])\n"
          ]
        },
        {
          "output_type": "stream",
          "name": "stderr",
          "text": [
            "Epoch 2/10: 84img [00:03, 26.73img/s, loss (batch)=0.085] "
          ]
        },
        {
          "output_type": "stream",
          "name": "stdout",
          "text": [
            "train loss 0.06219731271266937  step : 45  epoch : 1\n",
            "mask size : torch.Size([4, 96, 96])\n",
            "\n",
            "image size : torch.Size([4, 1, 96, 96])\n",
            "train loss 0.08502581715583801  step : 46  epoch : 1\n",
            "mask size : torch.Size([4, 96, 96])\n",
            "\n",
            "image size : torch.Size([4, 1, 96, 96])\n"
          ]
        },
        {
          "output_type": "stream",
          "name": "stderr",
          "text": [
            "Epoch 2/10: 92img [00:03, 26.73img/s, loss (batch)=0.0836]"
          ]
        },
        {
          "output_type": "stream",
          "name": "stdout",
          "text": [
            "train loss 0.1087133064866066  step : 47  epoch : 1\n",
            "mask size : torch.Size([4, 96, 96])\n",
            "\n",
            "image size : torch.Size([4, 1, 96, 96])\n",
            "train loss 0.08355396240949631  step : 48  epoch : 1\n",
            "mask size : torch.Size([4, 96, 96])\n",
            "\n",
            "image size : torch.Size([4, 1, 96, 96])\n"
          ]
        },
        {
          "output_type": "stream",
          "name": "stderr",
          "text": [
            "Epoch 2/10: 100img [00:03, 26.91img/s, loss (batch)=0.0837]"
          ]
        },
        {
          "output_type": "stream",
          "name": "stdout",
          "text": [
            "train loss 0.08234312385320663  step : 49  epoch : 1\n",
            "mask size : torch.Size([4, 96, 96])\n",
            "\n",
            "image size : torch.Size([4, 1, 96, 96])\n",
            "train loss 0.08366251736879349  step : 50  epoch : 1\n"
          ]
        },
        {
          "output_type": "stream",
          "name": "stderr",
          "text": [
            "Epoch 2/10: 100img [00:04, 24.82img/s, loss (batch)=0.0837]\n",
            "Epoch 3/10: 4img [00:00, 16.13img/s, loss (batch)=0.132]"
          ]
        },
        {
          "output_type": "stream",
          "name": "stdout",
          "text": [
            "mask size : torch.Size([4, 96, 96])\n",
            "\n",
            "image size : torch.Size([4, 1, 96, 96])\n",
            "train loss 0.13190913200378418  step : 51  epoch : 2\n",
            "mask size : torch.Size([4, 96, 96])\n",
            "\n",
            "image size : torch.Size([4, 1, 96, 96])\n"
          ]
        },
        {
          "output_type": "stream",
          "name": "stderr",
          "text": [
            "Epoch 3/10: 12img [00:00, 23.16img/s, loss (batch)=0.0597]"
          ]
        },
        {
          "output_type": "stream",
          "name": "stdout",
          "text": [
            "train loss 0.05877355858683586  step : 52  epoch : 2\n",
            "mask size : torch.Size([4, 96, 96])\n",
            "\n",
            "image size : torch.Size([4, 1, 96, 96])\n",
            "train loss 0.05968533456325531  step : 53  epoch : 2\n",
            "mask size : torch.Size([4, 96, 96])\n",
            "\n",
            "image size : torch.Size([4, 1, 96, 96])\n"
          ]
        },
        {
          "output_type": "stream",
          "name": "stderr",
          "text": [
            "Epoch 3/10: 20img [00:00, 25.38img/s, loss (batch)=0.077] "
          ]
        },
        {
          "output_type": "stream",
          "name": "stdout",
          "text": [
            "train loss 0.06670563668012619  step : 54  epoch : 2\n",
            "mask size : torch.Size([4, 96, 96])\n",
            "\n",
            "image size : torch.Size([4, 1, 96, 96])\n",
            "train loss 0.07700145244598389  step : 55  epoch : 2\n",
            "mask size : torch.Size([4, 96, 96])\n",
            "\n",
            "image size : torch.Size([4, 1, 96, 96])\n"
          ]
        },
        {
          "output_type": "stream",
          "name": "stderr",
          "text": [
            "Epoch 3/10: 28img [00:01, 25.85img/s, loss (batch)=0.0803]"
          ]
        },
        {
          "output_type": "stream",
          "name": "stdout",
          "text": [
            "train loss 0.11327062547206879  step : 56  epoch : 2\n",
            "mask size : torch.Size([4, 96, 96])\n",
            "\n",
            "image size : torch.Size([4, 1, 96, 96])\n",
            "train loss 0.08029874414205551  step : 57  epoch : 2\n",
            "mask size : torch.Size([4, 96, 96])\n",
            "\n",
            "image size : torch.Size([4, 1, 96, 96])\n"
          ]
        },
        {
          "output_type": "stream",
          "name": "stderr",
          "text": [
            "Epoch 3/10: 36img [00:01, 26.05img/s, loss (batch)=0.0686]"
          ]
        },
        {
          "output_type": "stream",
          "name": "stdout",
          "text": [
            "train loss 0.13438184559345245  step : 58  epoch : 2\n",
            "mask size : torch.Size([4, 96, 96])\n",
            "\n",
            "image size : torch.Size([4, 1, 96, 96])\n",
            "train loss 0.0686199814081192  step : 59  epoch : 2\n",
            "mask size : torch.Size([4, 96, 96])\n",
            "\n",
            "image size : torch.Size([4, 1, 96, 96])\n"
          ]
        },
        {
          "output_type": "stream",
          "name": "stderr",
          "text": [
            "Epoch 3/10: 44img [00:01, 26.48img/s, loss (batch)=0.111] "
          ]
        },
        {
          "output_type": "stream",
          "name": "stdout",
          "text": [
            "train loss 0.08988498896360397  step : 60  epoch : 2\n",
            "mask size : torch.Size([4, 96, 96])\n",
            "\n",
            "image size : torch.Size([4, 1, 96, 96])\n",
            "train loss 0.11125878244638443  step : 61  epoch : 2\n",
            "mask size : torch.Size([4, 96, 96])\n",
            "\n",
            "image size : torch.Size([4, 1, 96, 96])\n"
          ]
        },
        {
          "output_type": "stream",
          "name": "stderr",
          "text": [
            "Epoch 3/10: 52img [00:02, 26.44img/s, loss (batch)=0.0852]"
          ]
        },
        {
          "output_type": "stream",
          "name": "stdout",
          "text": [
            "train loss 0.07559189200401306  step : 62  epoch : 2\n",
            "mask size : torch.Size([4, 96, 96])\n",
            "\n",
            "image size : torch.Size([4, 1, 96, 96])\n",
            "train loss 0.08523516356945038  step : 63  epoch : 2\n",
            "mask size : torch.Size([4, 96, 96])\n",
            "\n",
            "image size : torch.Size([4, 1, 96, 96])\n"
          ]
        },
        {
          "output_type": "stream",
          "name": "stderr",
          "text": [
            "Epoch 3/10: 60img [00:02, 26.45img/s, loss (batch)=0.106] "
          ]
        },
        {
          "output_type": "stream",
          "name": "stdout",
          "text": [
            "train loss 0.09367989003658295  step : 64  epoch : 2\n",
            "mask size : torch.Size([4, 96, 96])\n",
            "\n",
            "image size : torch.Size([4, 1, 96, 96])\n",
            "train loss 0.10624383389949799  step : 65  epoch : 2\n",
            "mask size : torch.Size([4, 96, 96])\n",
            "\n",
            "image size : torch.Size([4, 1, 96, 96])\n"
          ]
        },
        {
          "output_type": "stream",
          "name": "stderr",
          "text": [
            "Epoch 3/10: 68img [00:02, 26.13img/s, loss (batch)=0.0893]"
          ]
        },
        {
          "output_type": "stream",
          "name": "stdout",
          "text": [
            "train loss 0.09066936373710632  step : 66  epoch : 2\n",
            "mask size : torch.Size([4, 96, 96])\n",
            "\n",
            "image size : torch.Size([4, 1, 96, 96])\n",
            "train loss 0.0892535150051117  step : 67  epoch : 2\n",
            "mask size : torch.Size([4, 96, 96])\n",
            "\n",
            "image size : torch.Size([4, 1, 96, 96])\n"
          ]
        },
        {
          "output_type": "stream",
          "name": "stderr",
          "text": [
            "Epoch 3/10: 76img [00:03, 26.60img/s, loss (batch)=0.0683]"
          ]
        },
        {
          "output_type": "stream",
          "name": "stdout",
          "text": [
            "train loss 0.07996397465467453  step : 68  epoch : 2\n",
            "mask size : torch.Size([4, 96, 96])\n",
            "\n",
            "image size : torch.Size([4, 1, 96, 96])\n",
            "train loss 0.06831436604261398  step : 69  epoch : 2\n",
            "mask size : torch.Size([4, 96, 96])\n",
            "\n",
            "image size : torch.Size([4, 1, 96, 96])\n"
          ]
        },
        {
          "output_type": "stream",
          "name": "stderr",
          "text": [
            "Epoch 3/10: 84img [00:03, 26.87img/s, loss (batch)=0.0758]"
          ]
        },
        {
          "output_type": "stream",
          "name": "stdout",
          "text": [
            "train loss 0.06844387948513031  step : 70  epoch : 2\n",
            "mask size : torch.Size([4, 96, 96])\n",
            "\n",
            "image size : torch.Size([4, 1, 96, 96])\n",
            "train loss 0.075815349817276  step : 71  epoch : 2\n",
            "mask size : torch.Size([4, 96, 96])\n",
            "\n",
            "image size : torch.Size([4, 1, 96, 96])\n"
          ]
        },
        {
          "output_type": "stream",
          "name": "stderr",
          "text": [
            "Epoch 3/10: 92img [00:03, 26.97img/s, loss (batch)=0.0589]"
          ]
        },
        {
          "output_type": "stream",
          "name": "stdout",
          "text": [
            "train loss 0.07740256935358047  step : 72  epoch : 2\n",
            "mask size : torch.Size([4, 96, 96])\n",
            "\n",
            "image size : torch.Size([4, 1, 96, 96])\n",
            "train loss 0.05892013758420944  step : 73  epoch : 2\n",
            "mask size : torch.Size([4, 96, 96])\n",
            "\n",
            "image size : torch.Size([4, 1, 96, 96])\n"
          ]
        },
        {
          "output_type": "stream",
          "name": "stderr",
          "text": [
            "Epoch 3/10: 100img [00:03, 27.01img/s, loss (batch)=0.0592]"
          ]
        },
        {
          "output_type": "stream",
          "name": "stdout",
          "text": [
            "train loss 0.06933997571468353  step : 74  epoch : 2\n",
            "mask size : torch.Size([4, 96, 96])\n",
            "\n",
            "image size : torch.Size([4, 1, 96, 96])\n",
            "train loss 0.059150371700525284  step : 75  epoch : 2\n"
          ]
        },
        {
          "output_type": "stream",
          "name": "stderr",
          "text": [
            "Epoch 3/10: 100img [00:04, 24.84img/s, loss (batch)=0.0592]\n",
            "Epoch 4/10: 4img [00:00, 16.95img/s, loss (batch)=0.0903]"
          ]
        },
        {
          "output_type": "stream",
          "name": "stdout",
          "text": [
            "mask size : torch.Size([4, 96, 96])\n",
            "\n",
            "image size : torch.Size([4, 1, 96, 96])\n",
            "train loss 0.09029531478881836  step : 76  epoch : 3\n",
            "mask size : torch.Size([4, 96, 96])\n",
            "\n",
            "image size : torch.Size([4, 1, 96, 96])\n"
          ]
        },
        {
          "output_type": "stream",
          "name": "stderr",
          "text": [
            "Epoch 4/10: 12img [00:00, 23.10img/s, loss (batch)=0.11] "
          ]
        },
        {
          "output_type": "stream",
          "name": "stdout",
          "text": [
            "train loss 0.148514986038208  step : 77  epoch : 3\n",
            "mask size : torch.Size([4, 96, 96])\n",
            "\n",
            "image size : torch.Size([4, 1, 96, 96])\n",
            "train loss 0.10967622697353363  step : 78  epoch : 3\n",
            "mask size : torch.Size([4, 96, 96])\n",
            "\n",
            "image size : torch.Size([4, 1, 96, 96])\n"
          ]
        },
        {
          "output_type": "stream",
          "name": "stderr",
          "text": [
            "Epoch 4/10: 20img [00:00, 25.41img/s, loss (batch)=0.082] "
          ]
        },
        {
          "output_type": "stream",
          "name": "stdout",
          "text": [
            "train loss 0.07374811917543411  step : 79  epoch : 3\n",
            "mask size : torch.Size([4, 96, 96])\n",
            "\n",
            "image size : torch.Size([4, 1, 96, 96])\n",
            "train loss 0.08202138543128967  step : 80  epoch : 3\n",
            "mask size : torch.Size([4, 96, 96])\n",
            "\n",
            "image size : torch.Size([4, 1, 96, 96])\n"
          ]
        },
        {
          "output_type": "stream",
          "name": "stderr",
          "text": [
            "Epoch 4/10: 28img [00:01, 26.19img/s, loss (batch)=0.0793]"
          ]
        },
        {
          "output_type": "stream",
          "name": "stdout",
          "text": [
            "train loss 0.06613226979970932  step : 81  epoch : 3\n",
            "mask size : torch.Size([4, 96, 96])\n",
            "\n",
            "image size : torch.Size([4, 1, 96, 96])\n",
            "train loss 0.07928827404975891  step : 82  epoch : 3\n",
            "mask size : torch.Size([4, 96, 96])\n",
            "\n",
            "image size : torch.Size([4, 1, 96, 96])\n"
          ]
        },
        {
          "output_type": "stream",
          "name": "stderr",
          "text": [
            "Epoch 4/10: 36img [00:01, 26.48img/s, loss (batch)=0.0689]"
          ]
        },
        {
          "output_type": "stream",
          "name": "stdout",
          "text": [
            "train loss 0.08264176547527313  step : 83  epoch : 3\n",
            "mask size : torch.Size([4, 96, 96])\n",
            "\n",
            "image size : torch.Size([4, 1, 96, 96])\n",
            "train loss 0.06892308592796326  step : 84  epoch : 3\n",
            "mask size : torch.Size([4, 96, 96])\n",
            "\n",
            "image size : torch.Size([4, 1, 96, 96])\n"
          ]
        },
        {
          "output_type": "stream",
          "name": "stderr",
          "text": [
            "Epoch 4/10: 44img [00:01, 26.13img/s, loss (batch)=0.123] "
          ]
        },
        {
          "output_type": "stream",
          "name": "stdout",
          "text": [
            "train loss 0.06630998104810715  step : 85  epoch : 3\n",
            "mask size : torch.Size([4, 96, 96])\n",
            "\n",
            "image size : torch.Size([4, 1, 96, 96])\n",
            "train loss 0.12286283075809479  step : 86  epoch : 3\n",
            "mask size : torch.Size([4, 96, 96])\n",
            "\n",
            "image size : torch.Size([4, 1, 96, 96])\n"
          ]
        },
        {
          "output_type": "stream",
          "name": "stderr",
          "text": [
            "Epoch 4/10: 52img [00:02, 26.26img/s, loss (batch)=0.0811]"
          ]
        },
        {
          "output_type": "stream",
          "name": "stdout",
          "text": [
            "train loss 0.08916819840669632  step : 87  epoch : 3\n",
            "mask size : torch.Size([4, 96, 96])\n",
            "\n",
            "image size : torch.Size([4, 1, 96, 96])\n",
            "train loss 0.08113116770982742  step : 88  epoch : 3\n",
            "mask size : torch.Size([4, 96, 96])\n",
            "\n",
            "image size : torch.Size([4, 1, 96, 96])\n"
          ]
        },
        {
          "output_type": "stream",
          "name": "stderr",
          "text": [
            "Epoch 4/10: 60img [00:02, 26.31img/s, loss (batch)=0.0679]"
          ]
        },
        {
          "output_type": "stream",
          "name": "stdout",
          "text": [
            "train loss 0.06922582536935806  step : 89  epoch : 3\n",
            "mask size : torch.Size([4, 96, 96])\n",
            "\n",
            "image size : torch.Size([4, 1, 96, 96])\n",
            "train loss 0.06785699725151062  step : 90  epoch : 3\n",
            "mask size : torch.Size([4, 96, 96])\n",
            "\n",
            "image size : torch.Size([4, 1, 96, 96])\n"
          ]
        },
        {
          "output_type": "stream",
          "name": "stderr",
          "text": [
            "Epoch 4/10: 68img [00:02, 26.34img/s, loss (batch)=0.102] "
          ]
        },
        {
          "output_type": "stream",
          "name": "stdout",
          "text": [
            "train loss 0.09677108377218246  step : 91  epoch : 3\n",
            "mask size : torch.Size([4, 96, 96])\n",
            "\n",
            "image size : torch.Size([4, 1, 96, 96])\n",
            "train loss 0.1016371101140976  step : 92  epoch : 3\n",
            "mask size : torch.Size([4, 96, 96])\n",
            "\n",
            "image size : torch.Size([4, 1, 96, 96])\n"
          ]
        },
        {
          "output_type": "stream",
          "name": "stderr",
          "text": [
            "Epoch 4/10: 76img [00:03, 26.64img/s, loss (batch)=0.0854]"
          ]
        },
        {
          "output_type": "stream",
          "name": "stdout",
          "text": [
            "train loss 0.06905172765254974  step : 93  epoch : 3\n",
            "mask size : torch.Size([4, 96, 96])\n",
            "\n",
            "image size : torch.Size([4, 1, 96, 96])\n",
            "train loss 0.0854116827249527  step : 94  epoch : 3\n",
            "mask size : torch.Size([4, 96, 96])\n",
            "\n",
            "image size : torch.Size([4, 1, 96, 96])\n"
          ]
        },
        {
          "output_type": "stream",
          "name": "stderr",
          "text": [
            "Epoch 4/10: 84img [00:03, 26.47img/s, loss (batch)=0.0751]"
          ]
        },
        {
          "output_type": "stream",
          "name": "stdout",
          "text": [
            "train loss 0.07753929495811462  step : 95  epoch : 3\n",
            "mask size : torch.Size([4, 96, 96])\n",
            "\n",
            "image size : torch.Size([4, 1, 96, 96])\n",
            "train loss 0.07506172358989716  step : 96  epoch : 3\n",
            "mask size : torch.Size([4, 96, 96])\n",
            "\n",
            "image size : torch.Size([4, 1, 96, 96])\n"
          ]
        },
        {
          "output_type": "stream",
          "name": "stderr",
          "text": [
            "Epoch 4/10: 92img [00:03, 26.74img/s, loss (batch)=0.0667]"
          ]
        },
        {
          "output_type": "stream",
          "name": "stdout",
          "text": [
            "train loss 0.12201806902885437  step : 97  epoch : 3\n",
            "mask size : torch.Size([4, 96, 96])\n",
            "\n",
            "image size : torch.Size([4, 1, 96, 96])\n",
            "train loss 0.06668315082788467  step : 98  epoch : 3\n",
            "mask size : torch.Size([4, 96, 96])\n",
            "\n",
            "image size : torch.Size([4, 1, 96, 96])\n"
          ]
        },
        {
          "output_type": "stream",
          "name": "stderr",
          "text": [
            "Epoch 4/10: 100img [00:03, 26.62img/s, loss (batch)=0.0838]"
          ]
        },
        {
          "output_type": "stream",
          "name": "stdout",
          "text": [
            "train loss 0.07707302272319794  step : 99  epoch : 3\n",
            "mask size : torch.Size([4, 96, 96])\n",
            "\n",
            "image size : torch.Size([4, 1, 96, 96])\n",
            "train loss 0.08379998058080673  step : 100  epoch : 3\n"
          ]
        },
        {
          "output_type": "stream",
          "name": "stderr",
          "text": [
            "Epoch 4/10: 100img [00:04, 24.81img/s, loss (batch)=0.0838]\n",
            "Epoch 5/10: 4img [00:00, 15.88img/s, loss (batch)=0.088]"
          ]
        },
        {
          "output_type": "stream",
          "name": "stdout",
          "text": [
            "mask size : torch.Size([4, 96, 96])\n",
            "\n",
            "image size : torch.Size([4, 1, 96, 96])\n",
            "train loss 0.08804628252983093  step : 101  epoch : 4\n",
            "mask size : torch.Size([4, 96, 96])\n",
            "\n",
            "image size : torch.Size([4, 1, 96, 96])\n"
          ]
        },
        {
          "output_type": "stream",
          "name": "stderr",
          "text": [
            "Epoch 5/10: 12img [00:00, 23.18img/s, loss (batch)=0.0802]"
          ]
        },
        {
          "output_type": "stream",
          "name": "stdout",
          "text": [
            "train loss 0.07714536786079407  step : 102  epoch : 4\n",
            "mask size : torch.Size([4, 96, 96])\n",
            "\n",
            "image size : torch.Size([4, 1, 96, 96])\n",
            "train loss 0.08019626140594482  step : 103  epoch : 4\n",
            "mask size : torch.Size([4, 96, 96])\n",
            "\n",
            "image size : torch.Size([4, 1, 96, 96])\n"
          ]
        },
        {
          "output_type": "stream",
          "name": "stderr",
          "text": [
            "Epoch 5/10: 20img [00:00, 24.60img/s, loss (batch)=0.0786]"
          ]
        },
        {
          "output_type": "stream",
          "name": "stdout",
          "text": [
            "train loss 0.06949016451835632  step : 104  epoch : 4\n",
            "mask size : torch.Size([4, 96, 96])\n",
            "\n",
            "image size : torch.Size([4, 1, 96, 96])\n",
            "train loss 0.07859044522047043  step : 105  epoch : 4\n",
            "mask size : torch.Size([4, 96, 96])\n",
            "\n",
            "image size : torch.Size([4, 1, 96, 96])\n"
          ]
        },
        {
          "output_type": "stream",
          "name": "stderr",
          "text": [
            "Epoch 5/10: 28img [00:01, 25.46img/s, loss (batch)=0.0655]"
          ]
        },
        {
          "output_type": "stream",
          "name": "stdout",
          "text": [
            "train loss 0.0689602792263031  step : 106  epoch : 4\n",
            "mask size : torch.Size([4, 96, 96])\n",
            "\n",
            "image size : torch.Size([4, 1, 96, 96])\n",
            "train loss 0.06554031372070312  step : 107  epoch : 4\n",
            "mask size : torch.Size([4, 96, 96])\n",
            "\n",
            "image size : torch.Size([4, 1, 96, 96])\n"
          ]
        },
        {
          "output_type": "stream",
          "name": "stderr",
          "text": [
            "Epoch 5/10: 36img [00:01, 25.88img/s, loss (batch)=0.0876]"
          ]
        },
        {
          "output_type": "stream",
          "name": "stdout",
          "text": [
            "train loss 0.07006002962589264  step : 108  epoch : 4\n",
            "mask size : torch.Size([4, 96, 96])\n",
            "\n",
            "image size : torch.Size([4, 1, 96, 96])\n",
            "train loss 0.08762408792972565  step : 109  epoch : 4\n",
            "mask size : torch.Size([4, 96, 96])\n",
            "\n",
            "image size : torch.Size([4, 1, 96, 96])\n"
          ]
        },
        {
          "output_type": "stream",
          "name": "stderr",
          "text": [
            "Epoch 5/10: 44img [00:01, 25.73img/s, loss (batch)=0.118] "
          ]
        },
        {
          "output_type": "stream",
          "name": "stdout",
          "text": [
            "train loss 0.06084581837058067  step : 110  epoch : 4\n",
            "mask size : torch.Size([4, 96, 96])\n",
            "\n",
            "image size : torch.Size([4, 1, 96, 96])\n",
            "train loss 0.11845818907022476  step : 111  epoch : 4\n",
            "mask size : torch.Size([4, 96, 96])\n",
            "\n",
            "image size : torch.Size([4, 1, 96, 96])\n"
          ]
        },
        {
          "output_type": "stream",
          "name": "stderr",
          "text": [
            "Epoch 5/10: 52img [00:02, 25.62img/s, loss (batch)=0.0653]"
          ]
        },
        {
          "output_type": "stream",
          "name": "stdout",
          "text": [
            "train loss 0.05344685539603233  step : 112  epoch : 4\n",
            "mask size : torch.Size([4, 96, 96])\n",
            "\n",
            "image size : torch.Size([4, 1, 96, 96])\n",
            "train loss 0.06533639132976532  step : 113  epoch : 4\n",
            "mask size : torch.Size([4, 96, 96])\n",
            "\n",
            "image size : torch.Size([4, 1, 96, 96])\n"
          ]
        },
        {
          "output_type": "stream",
          "name": "stderr",
          "text": [
            "Epoch 5/10: 60img [00:02, 25.78img/s, loss (batch)=0.0659]"
          ]
        },
        {
          "output_type": "stream",
          "name": "stdout",
          "text": [
            "train loss 0.0830952376127243  step : 114  epoch : 4\n",
            "mask size : torch.Size([4, 96, 96])\n",
            "\n",
            "image size : torch.Size([4, 1, 96, 96])\n",
            "train loss 0.0659191906452179  step : 115  epoch : 4\n",
            "mask size : torch.Size([4, 96, 96])\n",
            "\n",
            "image size : torch.Size([4, 1, 96, 96])\n"
          ]
        },
        {
          "output_type": "stream",
          "name": "stderr",
          "text": [
            "Epoch 5/10: 68img [00:02, 26.33img/s, loss (batch)=0.0652]"
          ]
        },
        {
          "output_type": "stream",
          "name": "stdout",
          "text": [
            "train loss 0.07666058093309402  step : 116  epoch : 4\n",
            "mask size : torch.Size([4, 96, 96])\n",
            "\n",
            "image size : torch.Size([4, 1, 96, 96])\n",
            "train loss 0.06523299962282181  step : 117  epoch : 4\n",
            "mask size : torch.Size([4, 96, 96])\n",
            "\n",
            "image size : torch.Size([4, 1, 96, 96])\n"
          ]
        },
        {
          "output_type": "stream",
          "name": "stderr",
          "text": [
            "Epoch 5/10: 76img [00:03, 26.52img/s, loss (batch)=0.0679]"
          ]
        },
        {
          "output_type": "stream",
          "name": "stdout",
          "text": [
            "train loss 0.09379735589027405  step : 118  epoch : 4\n",
            "mask size : torch.Size([4, 96, 96])\n",
            "\n",
            "image size : torch.Size([4, 1, 96, 96])\n",
            "train loss 0.0679173618555069  step : 119  epoch : 4\n",
            "mask size : torch.Size([4, 96, 96])\n",
            "\n",
            "image size : torch.Size([4, 1, 96, 96])\n"
          ]
        },
        {
          "output_type": "stream",
          "name": "stderr",
          "text": [
            "Epoch 5/10: 84img [00:03, 26.50img/s, loss (batch)=0.056] "
          ]
        },
        {
          "output_type": "stream",
          "name": "stdout",
          "text": [
            "train loss 0.06263569742441177  step : 120  epoch : 4\n",
            "mask size : torch.Size([4, 96, 96])\n",
            "\n",
            "image size : torch.Size([4, 1, 96, 96])\n",
            "train loss 0.05595225840806961  step : 121  epoch : 4\n",
            "mask size : torch.Size([4, 96, 96])\n",
            "\n",
            "image size : torch.Size([4, 1, 96, 96])\n"
          ]
        },
        {
          "output_type": "stream",
          "name": "stderr",
          "text": [
            "Epoch 5/10: 92img [00:03, 26.64img/s, loss (batch)=0.0713]"
          ]
        },
        {
          "output_type": "stream",
          "name": "stdout",
          "text": [
            "train loss 0.0579291395843029  step : 122  epoch : 4\n",
            "mask size : torch.Size([4, 96, 96])\n",
            "\n",
            "image size : torch.Size([4, 1, 96, 96])\n",
            "train loss 0.071322500705719  step : 123  epoch : 4\n",
            "mask size : torch.Size([4, 96, 96])\n",
            "\n",
            "image size : torch.Size([4, 1, 96, 96])\n"
          ]
        },
        {
          "output_type": "stream",
          "name": "stderr",
          "text": [
            "Epoch 5/10: 100img [00:03, 26.67img/s, loss (batch)=0.0776]"
          ]
        },
        {
          "output_type": "stream",
          "name": "stdout",
          "text": [
            "train loss 0.0552760511636734  step : 124  epoch : 4\n",
            "mask size : torch.Size([4, 96, 96])\n",
            "\n",
            "image size : torch.Size([4, 1, 96, 96])\n",
            "train loss 0.07755161821842194  step : 125  epoch : 4\n"
          ]
        },
        {
          "output_type": "stream",
          "name": "stderr",
          "text": [
            "Epoch 5/10: 100img [00:04, 24.54img/s, loss (batch)=0.0776]\n",
            "Epoch 6/10: 4img [00:00, 16.39img/s, loss (batch)=0.0668]"
          ]
        },
        {
          "output_type": "stream",
          "name": "stdout",
          "text": [
            "mask size : torch.Size([4, 96, 96])\n",
            "\n",
            "image size : torch.Size([4, 1, 96, 96])\n",
            "train loss 0.06678318977355957  step : 126  epoch : 5\n",
            "mask size : torch.Size([4, 96, 96])\n",
            "\n",
            "image size : torch.Size([4, 1, 96, 96])\n"
          ]
        },
        {
          "output_type": "stream",
          "name": "stderr",
          "text": [
            "Epoch 6/10: 12img [00:00, 22.73img/s, loss (batch)=0.0706]"
          ]
        },
        {
          "output_type": "stream",
          "name": "stdout",
          "text": [
            "train loss 0.05905194580554962  step : 127  epoch : 5\n",
            "mask size : torch.Size([4, 96, 96])\n",
            "\n",
            "image size : torch.Size([4, 1, 96, 96])\n",
            "train loss 0.07060032337903976  step : 128  epoch : 5\n",
            "mask size : torch.Size([4, 96, 96])\n",
            "\n",
            "image size : torch.Size([4, 1, 96, 96])\n"
          ]
        },
        {
          "output_type": "stream",
          "name": "stderr",
          "text": [
            "Epoch 6/10: 20img [00:00, 25.16img/s, loss (batch)=0.0558]"
          ]
        },
        {
          "output_type": "stream",
          "name": "stdout",
          "text": [
            "train loss 0.06547711044549942  step : 129  epoch : 5\n",
            "mask size : torch.Size([4, 96, 96])\n",
            "\n",
            "image size : torch.Size([4, 1, 96, 96])\n",
            "train loss 0.05583786964416504  step : 130  epoch : 5\n",
            "mask size : torch.Size([4, 96, 96])\n",
            "\n",
            "image size : torch.Size([4, 1, 96, 96])\n"
          ]
        },
        {
          "output_type": "stream",
          "name": "stderr",
          "text": [
            "Epoch 6/10: 28img [00:01, 25.87img/s, loss (batch)=0.0626]"
          ]
        },
        {
          "output_type": "stream",
          "name": "stdout",
          "text": [
            "train loss 0.06756146252155304  step : 131  epoch : 5\n",
            "mask size : torch.Size([4, 96, 96])\n",
            "\n",
            "image size : torch.Size([4, 1, 96, 96])\n",
            "train loss 0.06260368973016739  step : 132  epoch : 5\n",
            "mask size : torch.Size([4, 96, 96])\n",
            "\n",
            "image size : torch.Size([4, 1, 96, 96])\n"
          ]
        },
        {
          "output_type": "stream",
          "name": "stderr",
          "text": [
            "Epoch 6/10: 36img [00:01, 26.27img/s, loss (batch)=0.0607]"
          ]
        },
        {
          "output_type": "stream",
          "name": "stdout",
          "text": [
            "train loss 0.06227828562259674  step : 133  epoch : 5\n",
            "mask size : torch.Size([4, 96, 96])\n",
            "\n",
            "image size : torch.Size([4, 1, 96, 96])\n",
            "train loss 0.060726504772901535  step : 134  epoch : 5\n",
            "mask size : torch.Size([4, 96, 96])\n",
            "\n",
            "image size : torch.Size([4, 1, 96, 96])\n"
          ]
        },
        {
          "output_type": "stream",
          "name": "stderr",
          "text": [
            "Epoch 6/10: 44img [00:01, 26.39img/s, loss (batch)=0.0589]"
          ]
        },
        {
          "output_type": "stream",
          "name": "stdout",
          "text": [
            "train loss 0.06212540343403816  step : 135  epoch : 5\n",
            "mask size : torch.Size([4, 96, 96])\n",
            "\n",
            "image size : torch.Size([4, 1, 96, 96])\n",
            "train loss 0.05888644978404045  step : 136  epoch : 5\n",
            "mask size : torch.Size([4, 96, 96])\n",
            "\n",
            "image size : torch.Size([4, 1, 96, 96])\n"
          ]
        },
        {
          "output_type": "stream",
          "name": "stderr",
          "text": [
            "Epoch 6/10: 52img [00:02, 26.10img/s, loss (batch)=0.0658]"
          ]
        },
        {
          "output_type": "stream",
          "name": "stdout",
          "text": [
            "train loss 0.07299033552408218  step : 137  epoch : 5\n",
            "mask size : torch.Size([4, 96, 96])\n",
            "\n",
            "image size : torch.Size([4, 1, 96, 96])\n",
            "train loss 0.06576956808567047  step : 138  epoch : 5\n",
            "mask size : torch.Size([4, 96, 96])\n",
            "\n",
            "image size : torch.Size([4, 1, 96, 96])\n"
          ]
        },
        {
          "output_type": "stream",
          "name": "stderr",
          "text": [
            "Epoch 6/10: 60img [00:02, 25.97img/s, loss (batch)=0.0609]"
          ]
        },
        {
          "output_type": "stream",
          "name": "stdout",
          "text": [
            "train loss 0.05415276065468788  step : 139  epoch : 5\n",
            "mask size : torch.Size([4, 96, 96])\n",
            "\n",
            "image size : torch.Size([4, 1, 96, 96])\n",
            "train loss 0.060888662934303284  step : 140  epoch : 5\n",
            "mask size : torch.Size([4, 96, 96])\n",
            "\n",
            "image size : torch.Size([4, 1, 96, 96])\n"
          ]
        },
        {
          "output_type": "stream",
          "name": "stderr",
          "text": [
            "Epoch 6/10: 68img [00:02, 25.61img/s, loss (batch)=0.0561]"
          ]
        },
        {
          "output_type": "stream",
          "name": "stdout",
          "text": [
            "train loss 0.04436759650707245  step : 141  epoch : 5\n",
            "mask size : torch.Size([4, 96, 96])\n",
            "\n",
            "image size : torch.Size([4, 1, 96, 96])\n",
            "train loss 0.05610741674900055  step : 142  epoch : 5\n",
            "mask size : torch.Size([4, 96, 96])\n",
            "\n",
            "image size : torch.Size([4, 1, 96, 96])\n"
          ]
        },
        {
          "output_type": "stream",
          "name": "stderr",
          "text": [
            "Epoch 6/10: 76img [00:03, 26.35img/s, loss (batch)=0.0388]"
          ]
        },
        {
          "output_type": "stream",
          "name": "stdout",
          "text": [
            "train loss 0.05127738043665886  step : 143  epoch : 5\n",
            "mask size : torch.Size([4, 96, 96])\n",
            "\n",
            "image size : torch.Size([4, 1, 96, 96])\n",
            "train loss 0.03877226635813713  step : 144  epoch : 5\n",
            "mask size : torch.Size([4, 96, 96])\n",
            "\n",
            "image size : torch.Size([4, 1, 96, 96])\n"
          ]
        },
        {
          "output_type": "stream",
          "name": "stderr",
          "text": [
            "Epoch 6/10: 84img [00:03, 26.38img/s, loss (batch)=0.0594]"
          ]
        },
        {
          "output_type": "stream",
          "name": "stdout",
          "text": [
            "train loss 0.060951411724090576  step : 145  epoch : 5\n",
            "mask size : torch.Size([4, 96, 96])\n",
            "\n",
            "image size : torch.Size([4, 1, 96, 96])\n",
            "train loss 0.059405963867902756  step : 146  epoch : 5\n",
            "mask size : torch.Size([4, 96, 96])\n",
            "\n",
            "image size : torch.Size([4, 1, 96, 96])\n"
          ]
        },
        {
          "output_type": "stream",
          "name": "stderr",
          "text": [
            "Epoch 6/10: 92img [00:03, 26.62img/s, loss (batch)=0.0553]"
          ]
        },
        {
          "output_type": "stream",
          "name": "stdout",
          "text": [
            "train loss 0.062745600938797  step : 147  epoch : 5\n",
            "mask size : torch.Size([4, 96, 96])\n",
            "\n",
            "image size : torch.Size([4, 1, 96, 96])\n",
            "train loss 0.055330295115709305  step : 148  epoch : 5\n",
            "mask size : torch.Size([4, 96, 96])\n",
            "\n",
            "image size : torch.Size([4, 1, 96, 96])\n"
          ]
        },
        {
          "output_type": "stream",
          "name": "stderr",
          "text": [
            "Epoch 6/10: 100img [00:03, 26.68img/s, loss (batch)=0.0571]"
          ]
        },
        {
          "output_type": "stream",
          "name": "stdout",
          "text": [
            "train loss 0.052965737879276276  step : 149  epoch : 5\n",
            "mask size : torch.Size([4, 96, 96])\n",
            "\n",
            "image size : torch.Size([4, 1, 96, 96])\n",
            "train loss 0.05706046521663666  step : 150  epoch : 5\n"
          ]
        },
        {
          "output_type": "stream",
          "name": "stderr",
          "text": [
            "Epoch 6/10: 100img [00:04, 24.59img/s, loss (batch)=0.0571]\n",
            "Epoch 7/10: 4img [00:00, 16.02img/s, loss (batch)=0.0674]"
          ]
        },
        {
          "output_type": "stream",
          "name": "stdout",
          "text": [
            "mask size : torch.Size([4, 96, 96])\n",
            "\n",
            "image size : torch.Size([4, 1, 96, 96])\n",
            "train loss 0.06735151261091232  step : 151  epoch : 6\n",
            "mask size : torch.Size([4, 96, 96])\n",
            "\n",
            "image size : torch.Size([4, 1, 96, 96])\n"
          ]
        },
        {
          "output_type": "stream",
          "name": "stderr",
          "text": [
            "Epoch 7/10: 12img [00:00, 23.67img/s, loss (batch)=0.0499]"
          ]
        },
        {
          "output_type": "stream",
          "name": "stdout",
          "text": [
            "train loss 0.051819708198308945  step : 152  epoch : 6\n",
            "mask size : torch.Size([4, 96, 96])\n",
            "\n",
            "image size : torch.Size([4, 1, 96, 96])\n",
            "train loss 0.049873966723680496  step : 153  epoch : 6\n",
            "mask size : torch.Size([4, 96, 96])\n",
            "\n",
            "image size : torch.Size([4, 1, 96, 96])\n"
          ]
        },
        {
          "output_type": "stream",
          "name": "stderr",
          "text": [
            "Epoch 7/10: 20img [00:00, 25.35img/s, loss (batch)=0.0577]"
          ]
        },
        {
          "output_type": "stream",
          "name": "stdout",
          "text": [
            "train loss 0.0671299397945404  step : 154  epoch : 6\n",
            "mask size : torch.Size([4, 96, 96])\n",
            "\n",
            "image size : torch.Size([4, 1, 96, 96])\n",
            "train loss 0.057700157165527344  step : 155  epoch : 6\n",
            "mask size : torch.Size([4, 96, 96])\n",
            "\n",
            "image size : torch.Size([4, 1, 96, 96])\n"
          ]
        },
        {
          "output_type": "stream",
          "name": "stderr",
          "text": [
            "Epoch 7/10: 28img [00:01, 25.49img/s, loss (batch)=0.0647]"
          ]
        },
        {
          "output_type": "stream",
          "name": "stdout",
          "text": [
            "train loss 0.05603500083088875  step : 156  epoch : 6\n",
            "mask size : torch.Size([4, 96, 96])\n",
            "\n",
            "image size : torch.Size([4, 1, 96, 96])\n",
            "train loss 0.06474678218364716  step : 157  epoch : 6\n",
            "mask size : torch.Size([4, 96, 96])\n",
            "\n",
            "image size : torch.Size([4, 1, 96, 96])\n"
          ]
        },
        {
          "output_type": "stream",
          "name": "stderr",
          "text": [
            "Epoch 7/10: 36img [00:01, 25.74img/s, loss (batch)=0.0471]"
          ]
        },
        {
          "output_type": "stream",
          "name": "stdout",
          "text": [
            "train loss 0.0747523233294487  step : 158  epoch : 6\n",
            "mask size : torch.Size([4, 96, 96])\n",
            "\n",
            "image size : torch.Size([4, 1, 96, 96])\n",
            "train loss 0.04710578918457031  step : 159  epoch : 6\n",
            "mask size : torch.Size([4, 96, 96])\n",
            "\n",
            "image size : torch.Size([4, 1, 96, 96])\n"
          ]
        },
        {
          "output_type": "stream",
          "name": "stderr",
          "text": [
            "Epoch 7/10: 44img [00:01, 25.63img/s, loss (batch)=0.0417]"
          ]
        },
        {
          "output_type": "stream",
          "name": "stdout",
          "text": [
            "train loss 0.056035060435533524  step : 160  epoch : 6\n",
            "mask size : torch.Size([4, 96, 96])\n",
            "\n",
            "image size : torch.Size([4, 1, 96, 96])\n",
            "train loss 0.04166078194975853  step : 161  epoch : 6\n",
            "mask size : torch.Size([4, 96, 96])\n",
            "\n",
            "image size : torch.Size([4, 1, 96, 96])\n"
          ]
        },
        {
          "output_type": "stream",
          "name": "stderr",
          "text": [
            "Epoch 7/10: 52img [00:02, 25.76img/s, loss (batch)=0.0543]"
          ]
        },
        {
          "output_type": "stream",
          "name": "stdout",
          "text": [
            "train loss 0.05484955012798309  step : 162  epoch : 6\n",
            "mask size : torch.Size([4, 96, 96])\n",
            "\n",
            "image size : torch.Size([4, 1, 96, 96])\n",
            "train loss 0.05431683734059334  step : 163  epoch : 6\n",
            "mask size : torch.Size([4, 96, 96])\n",
            "\n",
            "image size : torch.Size([4, 1, 96, 96])\n"
          ]
        },
        {
          "output_type": "stream",
          "name": "stderr",
          "text": [
            "Epoch 7/10: 60img [00:02, 26.03img/s, loss (batch)=0.0425]"
          ]
        },
        {
          "output_type": "stream",
          "name": "stdout",
          "text": [
            "train loss 0.04940912872552872  step : 164  epoch : 6\n",
            "mask size : torch.Size([4, 96, 96])\n",
            "\n",
            "image size : torch.Size([4, 1, 96, 96])\n",
            "train loss 0.042524807155132294  step : 165  epoch : 6\n",
            "mask size : torch.Size([4, 96, 96])\n",
            "\n",
            "image size : torch.Size([4, 1, 96, 96])\n"
          ]
        },
        {
          "output_type": "stream",
          "name": "stderr",
          "text": [
            "Epoch 7/10: 68img [00:02, 26.17img/s, loss (batch)=0.0443]"
          ]
        },
        {
          "output_type": "stream",
          "name": "stdout",
          "text": [
            "train loss 0.05440276488661766  step : 166  epoch : 6\n",
            "mask size : torch.Size([4, 96, 96])\n",
            "\n",
            "image size : torch.Size([4, 1, 96, 96])\n",
            "train loss 0.04429487884044647  step : 167  epoch : 6\n",
            "mask size : torch.Size([4, 96, 96])\n",
            "\n",
            "image size : torch.Size([4, 1, 96, 96])\n"
          ]
        },
        {
          "output_type": "stream",
          "name": "stderr",
          "text": [
            "Epoch 7/10: 76img [00:03, 26.58img/s, loss (batch)=0.0525]"
          ]
        },
        {
          "output_type": "stream",
          "name": "stdout",
          "text": [
            "train loss 0.06585604697465897  step : 168  epoch : 6\n",
            "mask size : torch.Size([4, 96, 96])\n",
            "\n",
            "image size : torch.Size([4, 1, 96, 96])\n",
            "train loss 0.052514806389808655  step : 169  epoch : 6\n",
            "mask size : torch.Size([4, 96, 96])\n",
            "\n",
            "image size : torch.Size([4, 1, 96, 96])\n"
          ]
        },
        {
          "output_type": "stream",
          "name": "stderr",
          "text": [
            "Epoch 7/10: 84img [00:03, 26.65img/s, loss (batch)=0.0585]"
          ]
        },
        {
          "output_type": "stream",
          "name": "stdout",
          "text": [
            "train loss 0.04304071143269539  step : 170  epoch : 6\n",
            "mask size : torch.Size([4, 96, 96])\n",
            "\n",
            "image size : torch.Size([4, 1, 96, 96])\n",
            "train loss 0.058491069823503494  step : 171  epoch : 6\n",
            "mask size : torch.Size([4, 96, 96])\n",
            "\n",
            "image size : torch.Size([4, 1, 96, 96])\n"
          ]
        },
        {
          "output_type": "stream",
          "name": "stderr",
          "text": [
            "Epoch 7/10: 92img [00:03, 26.75img/s, loss (batch)=0.0648]"
          ]
        },
        {
          "output_type": "stream",
          "name": "stdout",
          "text": [
            "train loss 0.05500892922282219  step : 172  epoch : 6\n",
            "mask size : torch.Size([4, 96, 96])\n",
            "\n",
            "image size : torch.Size([4, 1, 96, 96])\n",
            "train loss 0.06476586312055588  step : 173  epoch : 6\n",
            "mask size : torch.Size([4, 96, 96])\n",
            "\n",
            "image size : torch.Size([4, 1, 96, 96])\n"
          ]
        },
        {
          "output_type": "stream",
          "name": "stderr",
          "text": [
            "Epoch 7/10: 100img [00:03, 26.86img/s, loss (batch)=0.0475]"
          ]
        },
        {
          "output_type": "stream",
          "name": "stdout",
          "text": [
            "train loss 0.04571310058236122  step : 174  epoch : 6\n",
            "mask size : torch.Size([4, 96, 96])\n",
            "\n",
            "image size : torch.Size([4, 1, 96, 96])\n",
            "train loss 0.04747919738292694  step : 175  epoch : 6\n"
          ]
        },
        {
          "output_type": "stream",
          "name": "stderr",
          "text": [
            "Epoch 7/10: 100img [00:04, 24.66img/s, loss (batch)=0.0475]\n",
            "Epoch 8/10: 4img [00:00, 17.49img/s, loss (batch)=0.0486]"
          ]
        },
        {
          "output_type": "stream",
          "name": "stdout",
          "text": [
            "mask size : torch.Size([4, 96, 96])\n",
            "\n",
            "image size : torch.Size([4, 1, 96, 96])\n",
            "train loss 0.048626624047756195  step : 176  epoch : 7\n",
            "mask size : torch.Size([4, 96, 96])\n",
            "\n",
            "image size : torch.Size([4, 1, 96, 96])\n"
          ]
        },
        {
          "output_type": "stream",
          "name": "stderr",
          "text": [
            "Epoch 8/10: 16img [00:00, 25.38img/s, loss (batch)=0.047]"
          ]
        },
        {
          "output_type": "stream",
          "name": "stdout",
          "text": [
            "train loss 0.041729629039764404  step : 177  epoch : 7\n",
            "mask size : torch.Size([4, 96, 96])\n",
            "\n",
            "image size : torch.Size([4, 1, 96, 96])\n",
            "train loss 0.0469651073217392  step : 178  epoch : 7\n",
            "mask size : torch.Size([4, 96, 96])\n",
            "\n",
            "image size : torch.Size([4, 1, 96, 96])\n"
          ]
        },
        {
          "output_type": "stream",
          "name": "stderr",
          "text": [
            "Epoch 8/10: 20img [00:00, 26.27img/s, loss (batch)=0.0544]"
          ]
        },
        {
          "output_type": "stream",
          "name": "stdout",
          "text": [
            "train loss 0.052727777510881424  step : 179  epoch : 7\n",
            "mask size : torch.Size([4, 96, 96])\n",
            "\n",
            "image size : torch.Size([4, 1, 96, 96])\n",
            "train loss 0.054385263472795486  step : 180  epoch : 7\n",
            "mask size : torch.Size([4, 96, 96])\n",
            "\n",
            "image size : torch.Size([4, 1, 96, 96])\n"
          ]
        },
        {
          "output_type": "stream",
          "name": "stderr",
          "text": [
            "Epoch 8/10: 28img [00:01, 26.49img/s, loss (batch)=0.063] "
          ]
        },
        {
          "output_type": "stream",
          "name": "stdout",
          "text": [
            "train loss 0.044620998203754425  step : 181  epoch : 7\n",
            "mask size : torch.Size([4, 96, 96])\n",
            "\n",
            "image size : torch.Size([4, 1, 96, 96])\n",
            "train loss 0.06302367150783539  step : 182  epoch : 7\n",
            "mask size : torch.Size([4, 96, 96])\n",
            "\n",
            "image size : torch.Size([4, 1, 96, 96])\n"
          ]
        },
        {
          "output_type": "stream",
          "name": "stderr",
          "text": [
            "Epoch 8/10: 36img [00:01, 25.91img/s, loss (batch)=0.0629]"
          ]
        },
        {
          "output_type": "stream",
          "name": "stdout",
          "text": [
            "train loss 0.04728701710700989  step : 183  epoch : 7\n",
            "mask size : torch.Size([4, 96, 96])\n",
            "\n",
            "image size : torch.Size([4, 1, 96, 96])\n",
            "train loss 0.0629422515630722  step : 184  epoch : 7\n",
            "mask size : torch.Size([4, 96, 96])\n",
            "\n",
            "image size : torch.Size([4, 1, 96, 96])\n"
          ]
        },
        {
          "output_type": "stream",
          "name": "stderr",
          "text": [
            "Epoch 8/10: 44img [00:01, 26.74img/s, loss (batch)=0.0723]"
          ]
        },
        {
          "output_type": "stream",
          "name": "stdout",
          "text": [
            "train loss 0.05338633805513382  step : 185  epoch : 7\n",
            "mask size : torch.Size([4, 96, 96])\n",
            "\n",
            "image size : torch.Size([4, 1, 96, 96])\n",
            "train loss 0.07232736051082611  step : 186  epoch : 7\n",
            "mask size : torch.Size([4, 96, 96])\n",
            "\n",
            "image size : torch.Size([4, 1, 96, 96])\n"
          ]
        },
        {
          "output_type": "stream",
          "name": "stderr",
          "text": [
            "Epoch 8/10: 52img [00:02, 26.30img/s, loss (batch)=0.056] "
          ]
        },
        {
          "output_type": "stream",
          "name": "stdout",
          "text": [
            "train loss 0.05987751483917236  step : 187  epoch : 7\n",
            "mask size : torch.Size([4, 96, 96])\n",
            "\n",
            "image size : torch.Size([4, 1, 96, 96])\n",
            "train loss 0.056033194065093994  step : 188  epoch : 7\n",
            "mask size : torch.Size([4, 96, 96])\n",
            "\n",
            "image size : torch.Size([4, 1, 96, 96])\n"
          ]
        },
        {
          "output_type": "stream",
          "name": "stderr",
          "text": [
            "Epoch 8/10: 60img [00:02, 26.15img/s, loss (batch)=0.0522]"
          ]
        },
        {
          "output_type": "stream",
          "name": "stdout",
          "text": [
            "train loss 0.052019305527210236  step : 189  epoch : 7\n",
            "mask size : torch.Size([4, 96, 96])\n",
            "\n",
            "image size : torch.Size([4, 1, 96, 96])\n",
            "train loss 0.052158936858177185  step : 190  epoch : 7\n",
            "mask size : torch.Size([4, 96, 96])\n",
            "\n",
            "image size : torch.Size([4, 1, 96, 96])\n"
          ]
        },
        {
          "output_type": "stream",
          "name": "stderr",
          "text": [
            "Epoch 8/10: 68img [00:02, 25.92img/s, loss (batch)=0.0614]"
          ]
        },
        {
          "output_type": "stream",
          "name": "stdout",
          "text": [
            "train loss 0.04291839152574539  step : 191  epoch : 7\n",
            "mask size : torch.Size([4, 96, 96])\n",
            "\n",
            "image size : torch.Size([4, 1, 96, 96])\n",
            "train loss 0.06139683723449707  step : 192  epoch : 7\n",
            "mask size : torch.Size([4, 96, 96])\n",
            "\n",
            "image size : torch.Size([4, 1, 96, 96])\n"
          ]
        },
        {
          "output_type": "stream",
          "name": "stderr",
          "text": [
            "Epoch 8/10: 76img [00:03, 26.37img/s, loss (batch)=0.0593]"
          ]
        },
        {
          "output_type": "stream",
          "name": "stdout",
          "text": [
            "train loss 0.059861037880182266  step : 193  epoch : 7\n",
            "mask size : torch.Size([4, 96, 96])\n",
            "\n",
            "image size : torch.Size([4, 1, 96, 96])\n",
            "train loss 0.05930984020233154  step : 194  epoch : 7\n",
            "mask size : torch.Size([4, 96, 96])\n",
            "\n",
            "image size : torch.Size([4, 1, 96, 96])\n"
          ]
        },
        {
          "output_type": "stream",
          "name": "stderr",
          "text": [
            "Epoch 8/10: 84img [00:03, 26.83img/s, loss (batch)=0.0996]"
          ]
        },
        {
          "output_type": "stream",
          "name": "stdout",
          "text": [
            "train loss 0.05170958489179611  step : 195  epoch : 7\n",
            "mask size : torch.Size([4, 96, 96])\n",
            "\n",
            "image size : torch.Size([4, 1, 96, 96])\n",
            "train loss 0.09955640137195587  step : 196  epoch : 7\n",
            "mask size : torch.Size([4, 96, 96])\n",
            "\n",
            "image size : torch.Size([4, 1, 96, 96])\n"
          ]
        },
        {
          "output_type": "stream",
          "name": "stderr",
          "text": [
            "Epoch 8/10: 92img [00:03, 26.58img/s, loss (batch)=0.0622]"
          ]
        },
        {
          "output_type": "stream",
          "name": "stdout",
          "text": [
            "train loss 0.043679703027009964  step : 197  epoch : 7\n",
            "mask size : torch.Size([4, 96, 96])\n",
            "\n",
            "image size : torch.Size([4, 1, 96, 96])\n",
            "train loss 0.062218427658081055  step : 198  epoch : 7\n",
            "mask size : torch.Size([4, 96, 96])\n",
            "\n",
            "image size : torch.Size([4, 1, 96, 96])\n"
          ]
        },
        {
          "output_type": "stream",
          "name": "stderr",
          "text": [
            "Epoch 8/10: 100img [00:03, 26.49img/s, loss (batch)=0.0848]"
          ]
        },
        {
          "output_type": "stream",
          "name": "stdout",
          "text": [
            "train loss 0.06475004553794861  step : 199  epoch : 7\n",
            "mask size : torch.Size([4, 96, 96])\n",
            "\n",
            "image size : torch.Size([4, 1, 96, 96])\n",
            "train loss 0.08479534834623337  step : 200  epoch : 7\n"
          ]
        },
        {
          "output_type": "stream",
          "name": "stderr",
          "text": [
            "Epoch 8/10: 100img [00:04, 24.84img/s, loss (batch)=0.0848]\n",
            "Epoch 9/10: 4img [00:00, 15.37img/s, loss (batch)=0.0535]"
          ]
        },
        {
          "output_type": "stream",
          "name": "stdout",
          "text": [
            "mask size : torch.Size([4, 96, 96])\n",
            "\n",
            "image size : torch.Size([4, 1, 96, 96])\n",
            "train loss 0.053509198129177094  step : 201  epoch : 8\n",
            "mask size : torch.Size([4, 96, 96])\n",
            "\n",
            "image size : torch.Size([4, 1, 96, 96])\n"
          ]
        },
        {
          "output_type": "stream",
          "name": "stderr",
          "text": [
            "Epoch 9/10: 12img [00:00, 23.04img/s, loss (batch)=0.0433]"
          ]
        },
        {
          "output_type": "stream",
          "name": "stdout",
          "text": [
            "train loss 0.05466298758983612  step : 202  epoch : 8\n",
            "mask size : torch.Size([4, 96, 96])\n",
            "\n",
            "image size : torch.Size([4, 1, 96, 96])\n",
            "train loss 0.0432756282389164  step : 203  epoch : 8\n",
            "mask size : torch.Size([4, 96, 96])\n",
            "\n",
            "image size : torch.Size([4, 1, 96, 96])\n"
          ]
        },
        {
          "output_type": "stream",
          "name": "stderr",
          "text": [
            "Epoch 9/10: 20img [00:00, 24.29img/s, loss (batch)=0.0582]"
          ]
        },
        {
          "output_type": "stream",
          "name": "stdout",
          "text": [
            "train loss 0.05074060708284378  step : 204  epoch : 8\n",
            "mask size : torch.Size([4, 96, 96])\n",
            "\n",
            "image size : torch.Size([4, 1, 96, 96])\n",
            "train loss 0.05818365514278412  step : 205  epoch : 8\n",
            "mask size : torch.Size([4, 96, 96])\n",
            "\n",
            "image size : torch.Size([4, 1, 96, 96])\n"
          ]
        },
        {
          "output_type": "stream",
          "name": "stderr",
          "text": [
            "Epoch 9/10: 28img [00:01, 24.98img/s, loss (batch)=0.0652]"
          ]
        },
        {
          "output_type": "stream",
          "name": "stdout",
          "text": [
            "train loss 0.0782838687300682  step : 206  epoch : 8\n",
            "mask size : torch.Size([4, 96, 96])\n",
            "\n",
            "image size : torch.Size([4, 1, 96, 96])\n",
            "train loss 0.06515757739543915  step : 207  epoch : 8\n",
            "mask size : torch.Size([4, 96, 96])\n",
            "\n",
            "image size : torch.Size([4, 1, 96, 96])\n"
          ]
        },
        {
          "output_type": "stream",
          "name": "stderr",
          "text": [
            "Epoch 9/10: 36img [00:01, 25.72img/s, loss (batch)=0.0718]"
          ]
        },
        {
          "output_type": "stream",
          "name": "stdout",
          "text": [
            "train loss 0.04702005162835121  step : 208  epoch : 8\n",
            "mask size : torch.Size([4, 96, 96])\n",
            "\n",
            "image size : torch.Size([4, 1, 96, 96])\n",
            "train loss 0.07181620597839355  step : 209  epoch : 8\n",
            "mask size : torch.Size([4, 96, 96])\n",
            "\n",
            "image size : torch.Size([4, 1, 96, 96])\n"
          ]
        },
        {
          "output_type": "stream",
          "name": "stderr",
          "text": [
            "Epoch 9/10: 44img [00:01, 26.71img/s, loss (batch)=0.0563]"
          ]
        },
        {
          "output_type": "stream",
          "name": "stdout",
          "text": [
            "train loss 0.09505908936262131  step : 210  epoch : 8\n",
            "mask size : torch.Size([4, 96, 96])\n",
            "\n",
            "image size : torch.Size([4, 1, 96, 96])\n",
            "train loss 0.05633554980158806  step : 211  epoch : 8\n",
            "mask size : torch.Size([4, 96, 96])\n",
            "\n",
            "image size : torch.Size([4, 1, 96, 96])\n"
          ]
        },
        {
          "output_type": "stream",
          "name": "stderr",
          "text": [
            "Epoch 9/10: 52img [00:02, 26.36img/s, loss (batch)=0.0659]"
          ]
        },
        {
          "output_type": "stream",
          "name": "stdout",
          "text": [
            "train loss 0.0618070550262928  step : 212  epoch : 8\n",
            "mask size : torch.Size([4, 96, 96])\n",
            "\n",
            "image size : torch.Size([4, 1, 96, 96])\n",
            "train loss 0.06587708741426468  step : 213  epoch : 8\n",
            "mask size : torch.Size([4, 96, 96])\n",
            "\n",
            "image size : torch.Size([4, 1, 96, 96])\n"
          ]
        },
        {
          "output_type": "stream",
          "name": "stderr",
          "text": [
            "Epoch 9/10: 60img [00:02, 26.11img/s, loss (batch)=0.0924]"
          ]
        },
        {
          "output_type": "stream",
          "name": "stdout",
          "text": [
            "train loss 0.0771624743938446  step : 214  epoch : 8\n",
            "mask size : torch.Size([4, 96, 96])\n",
            "\n",
            "image size : torch.Size([4, 1, 96, 96])\n",
            "train loss 0.09238431602716446  step : 215  epoch : 8\n",
            "mask size : torch.Size([4, 96, 96])\n",
            "\n",
            "image size : torch.Size([4, 1, 96, 96])\n"
          ]
        },
        {
          "output_type": "stream",
          "name": "stderr",
          "text": [
            "Epoch 9/10: 68img [00:02, 26.70img/s, loss (batch)=0.0594]"
          ]
        },
        {
          "output_type": "stream",
          "name": "stdout",
          "text": [
            "train loss 0.05415105074644089  step : 216  epoch : 8\n",
            "mask size : torch.Size([4, 96, 96])\n",
            "\n",
            "image size : torch.Size([4, 1, 96, 96])\n",
            "train loss 0.059371642768383026  step : 217  epoch : 8\n",
            "mask size : torch.Size([4, 96, 96])\n",
            "\n",
            "image size : torch.Size([4, 1, 96, 96])\n"
          ]
        },
        {
          "output_type": "stream",
          "name": "stderr",
          "text": [
            "Epoch 9/10: 76img [00:03, 26.55img/s, loss (batch)=0.0649]"
          ]
        },
        {
          "output_type": "stream",
          "name": "stdout",
          "text": [
            "train loss 0.11827198415994644  step : 218  epoch : 8\n",
            "mask size : torch.Size([4, 96, 96])\n",
            "\n",
            "image size : torch.Size([4, 1, 96, 96])\n",
            "train loss 0.06485389173030853  step : 219  epoch : 8\n",
            "mask size : torch.Size([4, 96, 96])\n",
            "\n",
            "image size : torch.Size([4, 1, 96, 96])\n"
          ]
        },
        {
          "output_type": "stream",
          "name": "stderr",
          "text": [
            "Epoch 9/10: 84img [00:03, 26.54img/s, loss (batch)=0.0707]"
          ]
        },
        {
          "output_type": "stream",
          "name": "stdout",
          "text": [
            "train loss 0.05828206241130829  step : 220  epoch : 8\n",
            "mask size : torch.Size([4, 96, 96])\n",
            "\n",
            "image size : torch.Size([4, 1, 96, 96])\n",
            "train loss 0.07069306075572968  step : 221  epoch : 8\n",
            "mask size : torch.Size([4, 96, 96])\n",
            "\n",
            "image size : torch.Size([4, 1, 96, 96])\n"
          ]
        },
        {
          "output_type": "stream",
          "name": "stderr",
          "text": [
            "Epoch 9/10: 92img [00:03, 26.48img/s, loss (batch)=0.0695]"
          ]
        },
        {
          "output_type": "stream",
          "name": "stdout",
          "text": [
            "train loss 0.05345115065574646  step : 222  epoch : 8\n",
            "mask size : torch.Size([4, 96, 96])\n",
            "\n",
            "image size : torch.Size([4, 1, 96, 96])\n",
            "train loss 0.06948304176330566  step : 223  epoch : 8\n",
            "mask size : torch.Size([4, 96, 96])\n",
            "\n",
            "image size : torch.Size([4, 1, 96, 96])\n"
          ]
        },
        {
          "output_type": "stream",
          "name": "stderr",
          "text": [
            "Epoch 9/10: 100img [00:03, 26.58img/s, loss (batch)=0.0551]"
          ]
        },
        {
          "output_type": "stream",
          "name": "stdout",
          "text": [
            "train loss 0.057223930954933167  step : 224  epoch : 8\n",
            "mask size : torch.Size([4, 96, 96])\n",
            "\n",
            "image size : torch.Size([4, 1, 96, 96])\n",
            "train loss 0.055083196610212326  step : 225  epoch : 8\n"
          ]
        },
        {
          "output_type": "stream",
          "name": "stderr",
          "text": [
            "Epoch 9/10: 100img [00:04, 24.55img/s, loss (batch)=0.0551]\n",
            "Epoch 10/10: 4img [00:00, 15.73img/s, loss (batch)=0.0554]"
          ]
        },
        {
          "output_type": "stream",
          "name": "stdout",
          "text": [
            "mask size : torch.Size([4, 96, 96])\n",
            "\n",
            "image size : torch.Size([4, 1, 96, 96])\n",
            "train loss 0.055444978177547455  step : 226  epoch : 9\n",
            "mask size : torch.Size([4, 96, 96])\n",
            "\n",
            "image size : torch.Size([4, 1, 96, 96])\n"
          ]
        },
        {
          "output_type": "stream",
          "name": "stderr",
          "text": [
            "Epoch 10/10: 12img [00:00, 23.39img/s, loss (batch)=0.0509]"
          ]
        },
        {
          "output_type": "stream",
          "name": "stdout",
          "text": [
            "train loss 0.06302426010370255  step : 227  epoch : 9\n",
            "mask size : torch.Size([4, 96, 96])\n",
            "\n",
            "image size : torch.Size([4, 1, 96, 96])\n",
            "train loss 0.05093301832675934  step : 228  epoch : 9\n",
            "mask size : torch.Size([4, 96, 96])\n",
            "\n",
            "image size : torch.Size([4, 1, 96, 96])\n"
          ]
        },
        {
          "output_type": "stream",
          "name": "stderr",
          "text": [
            "Epoch 10/10: 20img [00:00, 24.76img/s, loss (batch)=0.0562]"
          ]
        },
        {
          "output_type": "stream",
          "name": "stdout",
          "text": [
            "train loss 0.061655495315790176  step : 229  epoch : 9\n",
            "mask size : torch.Size([4, 96, 96])\n",
            "\n",
            "image size : torch.Size([4, 1, 96, 96])\n",
            "train loss 0.05620057135820389  step : 230  epoch : 9\n",
            "mask size : torch.Size([4, 96, 96])\n",
            "\n",
            "image size : torch.Size([4, 1, 96, 96])\n"
          ]
        },
        {
          "output_type": "stream",
          "name": "stderr",
          "text": [
            "Epoch 10/10: 28img [00:01, 25.48img/s, loss (batch)=0.0557]"
          ]
        },
        {
          "output_type": "stream",
          "name": "stdout",
          "text": [
            "train loss 0.057170867919921875  step : 231  epoch : 9\n",
            "mask size : torch.Size([4, 96, 96])\n",
            "\n",
            "image size : torch.Size([4, 1, 96, 96])\n",
            "train loss 0.055697374045848846  step : 232  epoch : 9\n",
            "mask size : torch.Size([4, 96, 96])\n",
            "\n",
            "image size : torch.Size([4, 1, 96, 96])\n"
          ]
        },
        {
          "output_type": "stream",
          "name": "stderr",
          "text": [
            "Epoch 10/10: 36img [00:01, 25.97img/s, loss (batch)=0.0556]"
          ]
        },
        {
          "output_type": "stream",
          "name": "stdout",
          "text": [
            "train loss 0.048296231776475906  step : 233  epoch : 9\n",
            "mask size : torch.Size([4, 96, 96])\n",
            "\n",
            "image size : torch.Size([4, 1, 96, 96])\n",
            "train loss 0.05555244907736778  step : 234  epoch : 9\n",
            "mask size : torch.Size([4, 96, 96])\n",
            "\n",
            "image size : torch.Size([4, 1, 96, 96])\n"
          ]
        },
        {
          "output_type": "stream",
          "name": "stderr",
          "text": [
            "Epoch 10/10: 44img [00:01, 26.43img/s, loss (batch)=0.0518]"
          ]
        },
        {
          "output_type": "stream",
          "name": "stdout",
          "text": [
            "train loss 0.06079619377851486  step : 235  epoch : 9\n",
            "mask size : torch.Size([4, 96, 96])\n",
            "\n",
            "image size : torch.Size([4, 1, 96, 96])\n",
            "train loss 0.0517517514526844  step : 236  epoch : 9\n",
            "mask size : torch.Size([4, 96, 96])\n",
            "\n",
            "image size : torch.Size([4, 1, 96, 96])\n"
          ]
        },
        {
          "output_type": "stream",
          "name": "stderr",
          "text": [
            "Epoch 10/10: 52img [00:02, 26.18img/s, loss (batch)=0.0587]"
          ]
        },
        {
          "output_type": "stream",
          "name": "stdout",
          "text": [
            "train loss 0.06036458909511566  step : 237  epoch : 9\n",
            "mask size : torch.Size([4, 96, 96])\n",
            "\n",
            "image size : torch.Size([4, 1, 96, 96])\n",
            "train loss 0.05874653533101082  step : 238  epoch : 9\n",
            "mask size : torch.Size([4, 96, 96])\n",
            "\n",
            "image size : torch.Size([4, 1, 96, 96])\n"
          ]
        },
        {
          "output_type": "stream",
          "name": "stderr",
          "text": [
            "Epoch 10/10: 60img [00:02, 25.63img/s, loss (batch)=0.0541]"
          ]
        },
        {
          "output_type": "stream",
          "name": "stdout",
          "text": [
            "train loss 0.04531280696392059  step : 239  epoch : 9\n",
            "mask size : torch.Size([4, 96, 96])\n",
            "\n",
            "image size : torch.Size([4, 1, 96, 96])\n",
            "train loss 0.05412273481488228  step : 240  epoch : 9\n",
            "mask size : torch.Size([4, 96, 96])\n",
            "\n",
            "image size : torch.Size([4, 1, 96, 96])\n"
          ]
        },
        {
          "output_type": "stream",
          "name": "stderr",
          "text": [
            "Epoch 10/10: 68img [00:02, 25.59img/s, loss (batch)=0.05]  "
          ]
        },
        {
          "output_type": "stream",
          "name": "stdout",
          "text": [
            "train loss 0.046519409865140915  step : 241  epoch : 9\n",
            "mask size : torch.Size([4, 96, 96])\n",
            "\n",
            "image size : torch.Size([4, 1, 96, 96])\n",
            "train loss 0.05003984272480011  step : 242  epoch : 9\n",
            "mask size : torch.Size([4, 96, 96])\n",
            "\n",
            "image size : torch.Size([4, 1, 96, 96])\n"
          ]
        },
        {
          "output_type": "stream",
          "name": "stderr",
          "text": [
            "Epoch 10/10: 76img [00:03, 26.24img/s, loss (batch)=0.0671]"
          ]
        },
        {
          "output_type": "stream",
          "name": "stdout",
          "text": [
            "train loss 0.05258258804678917  step : 243  epoch : 9\n",
            "mask size : torch.Size([4, 96, 96])\n",
            "\n",
            "image size : torch.Size([4, 1, 96, 96])\n",
            "train loss 0.06709408760070801  step : 244  epoch : 9\n",
            "mask size : torch.Size([4, 96, 96])\n",
            "\n",
            "image size : torch.Size([4, 1, 96, 96])\n"
          ]
        },
        {
          "output_type": "stream",
          "name": "stderr",
          "text": [
            "Epoch 10/10: 84img [00:03, 26.35img/s, loss (batch)=0.0619]"
          ]
        },
        {
          "output_type": "stream",
          "name": "stdout",
          "text": [
            "train loss 0.04280700907111168  step : 245  epoch : 9\n",
            "mask size : torch.Size([4, 96, 96])\n",
            "\n",
            "image size : torch.Size([4, 1, 96, 96])\n",
            "train loss 0.06189362704753876  step : 246  epoch : 9\n",
            "mask size : torch.Size([4, 96, 96])\n",
            "\n",
            "image size : torch.Size([4, 1, 96, 96])\n"
          ]
        },
        {
          "output_type": "stream",
          "name": "stderr",
          "text": [
            "Epoch 10/10: 92img [00:03, 26.29img/s, loss (batch)=0.0407]"
          ]
        },
        {
          "output_type": "stream",
          "name": "stdout",
          "text": [
            "train loss 0.04698747768998146  step : 247  epoch : 9\n",
            "mask size : torch.Size([4, 96, 96])\n",
            "\n",
            "image size : torch.Size([4, 1, 96, 96])\n",
            "train loss 0.04067837819457054  step : 248  epoch : 9\n",
            "mask size : torch.Size([4, 96, 96])\n",
            "\n",
            "image size : torch.Size([4, 1, 96, 96])\n"
          ]
        },
        {
          "output_type": "stream",
          "name": "stderr",
          "text": [
            "Epoch 10/10: 100img [00:04, 26.47img/s, loss (batch)=0.0581]"
          ]
        },
        {
          "output_type": "stream",
          "name": "stdout",
          "text": [
            "train loss 0.05489310622215271  step : 249  epoch : 9\n",
            "mask size : torch.Size([4, 96, 96])\n",
            "\n",
            "image size : torch.Size([4, 1, 96, 96])\n",
            "train loss 0.05809186398983002  step : 250  epoch : 9\n"
          ]
        },
        {
          "output_type": "stream",
          "name": "stderr",
          "text": [
            "\rEpoch 10/10: 100img [00:04, 24.42img/s, loss (batch)=0.0581]\n"
          ]
        },
        {
          "output_type": "display_data",
          "data": {
            "image/png": "[encoded data removed]",
            "text/plain": [
              "<Figure size 1850x1050 with 1 Axes>"
            ]
          },
          "metadata": {
            "needs_background": "light"
          }
        }
      ]
    },
    {
      "cell_type": "markdown",
      "metadata": {
        "id": "ghl4sMHbALUP"
      },
      "source": [
        "# Validation"
      ]
    },
    {
      "cell_type": "code",
      "metadata": {
        "colab": {
          "base_uri": "https://localhost:8080/"
        },
        "id": "Li4hMIa7AQnR",
        "outputId": "194872c8-bbb6-47f5-ffed-bfcff1dcdf53"
      },
      "source": [
        "import numpy as np\n",
        "from torch.autograd import Variable\n",
        "print(os.getcwd())"
      ],
      "execution_count": 34,
      "outputs": [
        {
          "output_type": "stream",
          "name": "stdout",
          "text": [
            "/content\n"
          ]
        }
      ]
    },
    {
      "cell_type": "code",
      "metadata": {
        "colab": {
          "base_uri": "https://localhost:8080/",
          "height": 1000
        },
        "id": "lykP0dIoATA3",
        "outputId": "b34b33df-76cd-4101-b6b5-27cd184dcb86"
      },
      "source": [
        "# In this block you are expected to write code to load saved model and deploy it to all data in test set to \n",
        "# produce segmentation masks in png images valued 0,1,2,3, which will be used for the submission to Kaggle.\n",
        "Learned_model = model\n",
        "data_path = '/content/drive/MyDrive/data/val'\n",
        "num_workers = 4\n",
        "batch_size = 2\n",
        "loss_list = []\n",
        "Learned_model.to(device)  #Change\n",
        "val_set = TrainDataset(data_path)  #Change\n",
        "test_data_loader = DataLoader(dataset=val_set, num_workers=num_workers,batch_size=batch_size, shuffle=False)\n",
        "criterion = nn.CrossEntropyLoss()\n",
        "Learned_model.eval()  #Change\n",
        "\n",
        "for image,mask in test_data_loader:\n",
        "        #print(image.shape,mask.shape)\n",
        "        image = image.to(device)\n",
        "        image = image.unsqueeze(1)\n",
        "        mask = mask.to(device)\n",
        "        \n",
        "        #####PLEASE COMPLETE THE FOLLOWING CODE#####\n",
        "        #insert the neccessary lines of code to complete the training loop here \n",
        "        #(approx 5 lines of code)\n",
        "        ############################################\n",
        "        out = Learned_model(image)\n",
        "        loss = criterion(out,mask.long())\n",
        "        print('loss score for image : ',loss.item())\n",
        "        loss_list.append(loss.item())\n",
        "        out_np = torch.max(out,1).indices.cpu().detach().numpy()\n",
        "        mask_np = mask.cpu().detach().numpy()\n",
        "        image_np = image.cpu().detach().numpy()\n",
        "        print(out_np[0].shape,mask_np.shape)\n",
        "        print(image_np[0].shape,mask_np.shape)\n",
        "        for i in range(1):\n",
        "            show_image_mask(image_np[i,0], out_np[i], cmap='gray')\n",
        "            plt.pause(1)\n",
        "print(loss_list)\n",
        "#for iteration, sample in enumerate(test_data_loader):\n",
        "#   img = sample\n",
        "#   print(img.shape)\n",
        "    \n",
        "#    plt.imshow(img[0,...].squeeze(), cmap='gray') #visualise all images in test set\n",
        "#    plt.pause(1)\n",
        "#model.eval()"
      ],
      "execution_count": 36,
      "outputs": [
        {
          "output_type": "stream",
          "name": "stderr",
          "text": [
            "/usr/local/lib/python3.7/dist-packages/torch/utils/data/dataloader.py:481: UserWarning: This DataLoader will create 4 worker processes in total. Our suggested max number of worker in current system is 2, which is smaller than what this DataLoader is going to create. Please be aware that excessive worker creation might get DataLoader running slow or even freeze, lower the worker number to avoid potential slowness/freeze if necessary.\n",
            "  cpuset_checked))\n"
          ]
        },
        {
          "output_type": "stream",
          "name": "stdout",
          "text": [
            "loss score for image :  0.03914152830839157\n",
            "(96, 96) (2, 96, 96)\n",
            "(1, 96, 96) (2, 96, 96)\n"
          ]
        },
        {
          "output_type": "display_data",
          "data": {
            "image/png": "[encoded data removed]",
            "text/plain": [
              "<Figure size 360x360 with 2 Axes>"
            ]
          },
          "metadata": {
            "needs_background": "light"
          }
        },
        {
          "output_type": "stream",
          "name": "stdout",
          "text": [
            "loss score for image :  0.05449143424630165\n",
            "(96, 96) (2, 96, 96)\n",
            "(1, 96, 96) (2, 96, 96)\n"
          ]
        },
        {
          "output_type": "display_data",
          "data": {
            "image/png": "[encoded data removed]",
            "text/plain": [
              "<Figure size 360x360 with 2 Axes>"
            ]
          },
          "metadata": {
            "needs_background": "light"
          }
        },
        {
          "output_type": "stream",
          "name": "stdout",
          "text": [
            "loss score for image :  0.051788538694381714\n",
            "(96, 96) (2, 96, 96)\n",
            "(1, 96, 96) (2, 96, 96)\n"
          ]
        },
        {
          "output_type": "display_data",
          "data": {
            "image/png": "[encoded data removed]",
            "text/plain": [
              "<Figure size 360x360 with 2 Axes>"
            ]
          },
          "metadata": {
            "needs_background": "light"
          }
        },
        {
          "output_type": "stream",
          "name": "stdout",
          "text": [
            "loss score for image :  0.06157998740673065\n",
            "(96, 96) (2, 96, 96)\n",
            "(1, 96, 96) (2, 96, 96)\n"
          ]
        },
        {
          "output_type": "display_data",
          "data": {
            "image/png": "[encoded data removed]",
            "text/plain": [
              "<Figure size 360x360 with 2 Axes>"
            ]
          },
          "metadata": {
            "needs_background": "light"
          }
        },
        {
          "output_type": "stream",
          "name": "stdout",
          "text": [
            "loss score for image :  0.08703318983316422\n",
            "(96, 96) (2, 96, 96)\n",
            "(1, 96, 96) (2, 96, 96)\n"
          ]
        },
        {
          "output_type": "display_data",
          "data": {
            "image/png": "[encoded data removed]",
            "text/plain": [
              "<Figure size 360x360 with 2 Axes>"
            ]
          },
          "metadata": {
            "needs_background": "light"
          }
        },
        {
          "output_type": "stream",
          "name": "stdout",
          "text": [
            "loss score for image :  0.0905551016330719\n",
            "(96, 96) (2, 96, 96)\n",
            "(1, 96, 96) (2, 96, 96)\n"
          ]
        },
        {
          "output_type": "display_data",
          "data": {
            "image/png": "[encoded data removed]",
            "text/plain": [
              "<Figure size 360x360 with 2 Axes>"
            ]
          },
          "metadata": {
            "needs_background": "light"
          }
        },
        {
          "output_type": "stream",
          "name": "stdout",
          "text": [
            "loss score for image :  0.1292477399110794\n",
            "(96, 96) (2, 96, 96)\n",
            "(1, 96, 96) (2, 96, 96)\n"
          ]
        },
        {
          "output_type": "display_data",
          "data": {
            "image/png": "[encoded data removed]",
            "text/plain": [
              "<Figure size 360x360 with 2 Axes>"
            ]
          },
          "metadata": {
            "needs_background": "light"
          }
        },
        {
          "output_type": "stream",
          "name": "stdout",
          "text": [
            "loss score for image :  0.0549631267786026\n",
            "(96, 96) (2, 96, 96)\n",
            "(1, 96, 96) (2, 96, 96)\n"
          ]
        },
        {
          "output_type": "display_data",
          "data": {
            "image/png": "[encoded data removed]",
            "text/plain": [
              "<Figure size 360x360 with 2 Axes>"
            ]
          },
          "metadata": {
            "needs_background": "light"
          }
        },
        {
          "output_type": "stream",
          "name": "stdout",
          "text": [
            "loss score for image :  0.091006800532341\n",
            "(96, 96) (2, 96, 96)\n",
            "(1, 96, 96) (2, 96, 96)\n"
          ]
        },
        {
          "output_type": "display_data",
          "data": {
            "image/png": "[encoded data removed]",
            "text/plain": [
              "<Figure size 360x360 with 2 Axes>"
            ]
          },
          "metadata": {
            "needs_background": "light"
          }
        },
        {
          "output_type": "stream",
          "name": "stdout",
          "text": [
            "loss score for image :  0.05697108805179596\n",
            "(96, 96) (2, 96, 96)\n",
            "(1, 96, 96) (2, 96, 96)\n"
          ]
        },
        {
          "output_type": "display_data",
          "data": {
            "image/png": "[encoded data removed]",
            "text/plain": [
              "<Figure size 360x360 with 2 Axes>"
            ]
          },
          "metadata": {
            "needs_background": "light"
          }
        },
        {
          "output_type": "stream",
          "name": "stdout",
          "text": [
            "[0.03914152830839157, 0.05449143424630165, 0.051788538694381714, 0.06157998740673065, 0.08703318983316422, 0.0905551016330719, 0.1292477399110794, 0.0549631267786026, 0.091006800532341, 0.05697108805179596]\n"
          ]
        }
      ]
    },
    {
      "cell_type": "markdown",
      "metadata": {
        "id": "tCZP-xof-Sst"
      },
      "source": [
        "### 2.5 Testing\n",
        "\n",
        "When validating the trained checkpoints (models), remember to change the model status as **Evaluation Mode**"
      ]
    },
    {
      "cell_type": "code",
      "metadata": {
        "id": "lGmhTdkciDt0",
        "colab": {
          "base_uri": "https://localhost:8080/"
        },
        "outputId": "863fc208-c4d3-47d6-ce16-e1cdd4b3ff8f"
      },
      "source": [
        "import numpy as np\n",
        "from torch.autograd import Variable\n",
        "print(os.getcwd())"
      ],
      "execution_count": 33,
      "outputs": [
        {
          "output_type": "stream",
          "name": "stdout",
          "text": [
            "/content\n"
          ]
        }
      ]
    },
    {
      "cell_type": "code",
      "metadata": {
        "id": "LVS22lrjqW_V",
        "colab": {
          "base_uri": "https://localhost:8080/",
          "height": 623
        },
        "outputId": "1e553568-1ee9-4bc2-ef04-2219b62bd3e0"
      },
      "source": [
        "# In this block you are expected to write code to load saved model and deploy it to all data in test set to \n",
        "# produce segmentation masks in png images valued 0,1,2,3, which will be used for the submission to Kaggle.\n",
        "data_path = '/content/drive/MyDrive/data/test/'\n",
        "num_workers = 4\n",
        "batch_size = 2\n",
        "\n",
        "test_set = TestDataset(data_path)\n",
        "test_data_loader = DataLoader(dataset=test_set, num_workers=num_workers,batch_size=batch_size, shuffle=False)\n",
        "\n",
        "for iteration, sample in enumerate(test_data_loader):\n",
        "    img = sample\n",
        "    #print(img.shape)\n",
        "    x = torch.nn.Conv2d(2, 1, 1) \n",
        "    img = img.unsqueeze(0)\n",
        "    img = x(img)\n",
        "\n",
        "    img = img.to(device)\n",
        "    out = model(img)\n",
        "    #plt.imshow(img[0,...].squeeze(), cmap='gray') #visualise all images in test set\n",
        "    #plt.pause(1)\n",
        "    plt.subplot(1, 2, 1)\n",
        "    plt.imshow(img[0,...].squeeze().detach().cpu().numpy(), cmap='gray')\n",
        "    plt.axis('off')\n",
        "    plt.subplot(1, 2, 2)\n",
        "    plt.imshow(out.detach().cpu().numpy(), cmap='gray')\n",
        "    plt.axis('off')\n",
        "    plt.pause(1)"
      ],
      "execution_count": null,
      "outputs": [
        {
          "output_type": "stream",
          "name": "stderr",
          "text": [
            "/usr/local/lib/python3.7/dist-packages/torch/utils/data/dataloader.py:481: UserWarning: This DataLoader will create 4 worker processes in total. Our suggested max number of worker in current system is 2, which is smaller than what this DataLoader is going to create. Please be aware that excessive worker creation might get DataLoader running slow or even freeze, lower the worker number to avoid potential slowness/freeze if necessary.\n",
            "  cpuset_checked))\n"
          ]
        },
        {
          "output_type": "error",
          "ename": "TypeError",
          "evalue": "ignored",
          "traceback": [
            "\u001b[0;31m---------------------------------------------------------------------------\u001b[0m",
            "\u001b[0;31mTypeError\u001b[0m                                 Traceback (most recent call last)",
            "\u001b[0;32m<ipython-input-29-d13915ad2610>\u001b[0m in \u001b[0;36m<module>\u001b[0;34m()\u001b[0m\n\u001b[1;32m     23\u001b[0m     \u001b[0mplt\u001b[0m\u001b[0;34m.\u001b[0m\u001b[0maxis\u001b[0m\u001b[0;34m(\u001b[0m\u001b[0;34m'off'\u001b[0m\u001b[0;34m)\u001b[0m\u001b[0;34m\u001b[0m\u001b[0;34m\u001b[0m\u001b[0m\n\u001b[1;32m     24\u001b[0m     \u001b[0mplt\u001b[0m\u001b[0;34m.\u001b[0m\u001b[0msubplot\u001b[0m\u001b[0;34m(\u001b[0m\u001b[0;36m1\u001b[0m\u001b[0;34m,\u001b[0m \u001b[0;36m2\u001b[0m\u001b[0;34m,\u001b[0m \u001b[0;36m2\u001b[0m\u001b[0;34m)\u001b[0m\u001b[0;34m\u001b[0m\u001b[0;34m\u001b[0m\u001b[0m\n\u001b[0;32m---> 25\u001b[0;31m     \u001b[0mplt\u001b[0m\u001b[0;34m.\u001b[0m\u001b[0mimshow\u001b[0m\u001b[0;34m(\u001b[0m\u001b[0mout\u001b[0m\u001b[0;34m.\u001b[0m\u001b[0mdetach\u001b[0m\u001b[0;34m(\u001b[0m\u001b[0;34m)\u001b[0m\u001b[0;34m.\u001b[0m\u001b[0mcpu\u001b[0m\u001b[0;34m(\u001b[0m\u001b[0;34m)\u001b[0m\u001b[0;34m.\u001b[0m\u001b[0mnumpy\u001b[0m\u001b[0;34m(\u001b[0m\u001b[0;34m)\u001b[0m\u001b[0;34m,\u001b[0m \u001b[0mcmap\u001b[0m\u001b[0;34m=\u001b[0m\u001b[0;34m'gray'\u001b[0m\u001b[0;34m)\u001b[0m\u001b[0;34m\u001b[0m\u001b[0;34m\u001b[0m\u001b[0m\n\u001b[0m\u001b[1;32m     26\u001b[0m     \u001b[0mplt\u001b[0m\u001b[0;34m.\u001b[0m\u001b[0maxis\u001b[0m\u001b[0;34m(\u001b[0m\u001b[0;34m'off'\u001b[0m\u001b[0;34m)\u001b[0m\u001b[0;34m\u001b[0m\u001b[0;34m\u001b[0m\u001b[0m\n\u001b[1;32m     27\u001b[0m     \u001b[0mplt\u001b[0m\u001b[0;34m.\u001b[0m\u001b[0mpause\u001b[0m\u001b[0;34m(\u001b[0m\u001b[0;36m1\u001b[0m\u001b[0;34m)\u001b[0m\u001b[0;34m\u001b[0m\u001b[0;34m\u001b[0m\u001b[0m\n",
            "\u001b[0;32m/usr/local/lib/python3.7/dist-packages/matplotlib/pyplot.py\u001b[0m in \u001b[0;36mimshow\u001b[0;34m(X, cmap, norm, aspect, interpolation, alpha, vmin, vmax, origin, extent, shape, filternorm, filterrad, imlim, resample, url, data, **kwargs)\u001b[0m\n\u001b[1;32m   2649\u001b[0m         \u001b[0mfilternorm\u001b[0m\u001b[0;34m=\u001b[0m\u001b[0mfilternorm\u001b[0m\u001b[0;34m,\u001b[0m \u001b[0mfilterrad\u001b[0m\u001b[0;34m=\u001b[0m\u001b[0mfilterrad\u001b[0m\u001b[0;34m,\u001b[0m \u001b[0mimlim\u001b[0m\u001b[0;34m=\u001b[0m\u001b[0mimlim\u001b[0m\u001b[0;34m,\u001b[0m\u001b[0;34m\u001b[0m\u001b[0;34m\u001b[0m\u001b[0m\n\u001b[1;32m   2650\u001b[0m         resample=resample, url=url, **({\"data\": data} if data is not\n\u001b[0;32m-> 2651\u001b[0;31m         None else {}), **kwargs)\n\u001b[0m\u001b[1;32m   2652\u001b[0m     \u001b[0msci\u001b[0m\u001b[0;34m(\u001b[0m\u001b[0m__ret\u001b[0m\u001b[0;34m)\u001b[0m\u001b[0;34m\u001b[0m\u001b[0;34m\u001b[0m\u001b[0m\n\u001b[1;32m   2653\u001b[0m     \u001b[0;32mreturn\u001b[0m \u001b[0m__ret\u001b[0m\u001b[0;34m\u001b[0m\u001b[0;34m\u001b[0m\u001b[0m\n",
            "\u001b[0;32m/usr/local/lib/python3.7/dist-packages/matplotlib/__init__.py\u001b[0m in \u001b[0;36minner\u001b[0;34m(ax, data, *args, **kwargs)\u001b[0m\n\u001b[1;32m   1563\u001b[0m     \u001b[0;32mdef\u001b[0m \u001b[0minner\u001b[0m\u001b[0;34m(\u001b[0m\u001b[0max\u001b[0m\u001b[0;34m,\u001b[0m \u001b[0;34m*\u001b[0m\u001b[0margs\u001b[0m\u001b[0;34m,\u001b[0m \u001b[0mdata\u001b[0m\u001b[0;34m=\u001b[0m\u001b[0;32mNone\u001b[0m\u001b[0;34m,\u001b[0m \u001b[0;34m**\u001b[0m\u001b[0mkwargs\u001b[0m\u001b[0;34m)\u001b[0m\u001b[0;34m:\u001b[0m\u001b[0;34m\u001b[0m\u001b[0;34m\u001b[0m\u001b[0m\n\u001b[1;32m   1564\u001b[0m         \u001b[0;32mif\u001b[0m \u001b[0mdata\u001b[0m \u001b[0;32mis\u001b[0m \u001b[0;32mNone\u001b[0m\u001b[0;34m:\u001b[0m\u001b[0;34m\u001b[0m\u001b[0;34m\u001b[0m\u001b[0m\n\u001b[0;32m-> 1565\u001b[0;31m             \u001b[0;32mreturn\u001b[0m \u001b[0mfunc\u001b[0m\u001b[0;34m(\u001b[0m\u001b[0max\u001b[0m\u001b[0;34m,\u001b[0m \u001b[0;34m*\u001b[0m\u001b[0mmap\u001b[0m\u001b[0;34m(\u001b[0m\u001b[0msanitize_sequence\u001b[0m\u001b[0;34m,\u001b[0m \u001b[0margs\u001b[0m\u001b[0;34m)\u001b[0m\u001b[0;34m,\u001b[0m \u001b[0;34m**\u001b[0m\u001b[0mkwargs\u001b[0m\u001b[0;34m)\u001b[0m\u001b[0;34m\u001b[0m\u001b[0;34m\u001b[0m\u001b[0m\n\u001b[0m\u001b[1;32m   1566\u001b[0m \u001b[0;34m\u001b[0m\u001b[0m\n\u001b[1;32m   1567\u001b[0m         \u001b[0mbound\u001b[0m \u001b[0;34m=\u001b[0m \u001b[0mnew_sig\u001b[0m\u001b[0;34m.\u001b[0m\u001b[0mbind\u001b[0m\u001b[0;34m(\u001b[0m\u001b[0max\u001b[0m\u001b[0;34m,\u001b[0m \u001b[0;34m*\u001b[0m\u001b[0margs\u001b[0m\u001b[0;34m,\u001b[0m \u001b[0;34m**\u001b[0m\u001b[0mkwargs\u001b[0m\u001b[0;34m)\u001b[0m\u001b[0;34m\u001b[0m\u001b[0;34m\u001b[0m\u001b[0m\n",
            "\u001b[0;32m/usr/local/lib/python3.7/dist-packages/matplotlib/cbook/deprecation.py\u001b[0m in \u001b[0;36mwrapper\u001b[0;34m(*args, **kwargs)\u001b[0m\n\u001b[1;32m    356\u001b[0m                 \u001b[0;34mf\"%(removal)s.  If any parameter follows {name!r}, they \"\u001b[0m\u001b[0;34m\u001b[0m\u001b[0;34m\u001b[0m\u001b[0m\n\u001b[1;32m    357\u001b[0m                 f\"should be pass as keyword, not positionally.\")\n\u001b[0;32m--> 358\u001b[0;31m         \u001b[0;32mreturn\u001b[0m \u001b[0mfunc\u001b[0m\u001b[0;34m(\u001b[0m\u001b[0;34m*\u001b[0m\u001b[0margs\u001b[0m\u001b[0;34m,\u001b[0m \u001b[0;34m**\u001b[0m\u001b[0mkwargs\u001b[0m\u001b[0;34m)\u001b[0m\u001b[0;34m\u001b[0m\u001b[0;34m\u001b[0m\u001b[0m\n\u001b[0m\u001b[1;32m    359\u001b[0m \u001b[0;34m\u001b[0m\u001b[0m\n\u001b[1;32m    360\u001b[0m     \u001b[0;32mreturn\u001b[0m \u001b[0mwrapper\u001b[0m\u001b[0;34m\u001b[0m\u001b[0;34m\u001b[0m\u001b[0m\n",
            "\u001b[0;32m/usr/local/lib/python3.7/dist-packages/matplotlib/cbook/deprecation.py\u001b[0m in \u001b[0;36mwrapper\u001b[0;34m(*args, **kwargs)\u001b[0m\n\u001b[1;32m    356\u001b[0m                 \u001b[0;34mf\"%(removal)s.  If any parameter follows {name!r}, they \"\u001b[0m\u001b[0;34m\u001b[0m\u001b[0;34m\u001b[0m\u001b[0m\n\u001b[1;32m    357\u001b[0m                 f\"should be pass as keyword, not positionally.\")\n\u001b[0;32m--> 358\u001b[0;31m         \u001b[0;32mreturn\u001b[0m \u001b[0mfunc\u001b[0m\u001b[0;34m(\u001b[0m\u001b[0;34m*\u001b[0m\u001b[0margs\u001b[0m\u001b[0;34m,\u001b[0m \u001b[0;34m**\u001b[0m\u001b[0mkwargs\u001b[0m\u001b[0;34m)\u001b[0m\u001b[0;34m\u001b[0m\u001b[0;34m\u001b[0m\u001b[0m\n\u001b[0m\u001b[1;32m    359\u001b[0m \u001b[0;34m\u001b[0m\u001b[0m\n\u001b[1;32m    360\u001b[0m     \u001b[0;32mreturn\u001b[0m \u001b[0mwrapper\u001b[0m\u001b[0;34m\u001b[0m\u001b[0;34m\u001b[0m\u001b[0m\n",
            "\u001b[0;32m/usr/local/lib/python3.7/dist-packages/matplotlib/axes/_axes.py\u001b[0m in \u001b[0;36mimshow\u001b[0;34m(self, X, cmap, norm, aspect, interpolation, alpha, vmin, vmax, origin, extent, shape, filternorm, filterrad, imlim, resample, url, **kwargs)\u001b[0m\n\u001b[1;32m   5624\u001b[0m                               resample=resample, **kwargs)\n\u001b[1;32m   5625\u001b[0m \u001b[0;34m\u001b[0m\u001b[0m\n\u001b[0;32m-> 5626\u001b[0;31m         \u001b[0mim\u001b[0m\u001b[0;34m.\u001b[0m\u001b[0mset_data\u001b[0m\u001b[0;34m(\u001b[0m\u001b[0mX\u001b[0m\u001b[0;34m)\u001b[0m\u001b[0;34m\u001b[0m\u001b[0;34m\u001b[0m\u001b[0m\n\u001b[0m\u001b[1;32m   5627\u001b[0m         \u001b[0mim\u001b[0m\u001b[0;34m.\u001b[0m\u001b[0mset_alpha\u001b[0m\u001b[0;34m(\u001b[0m\u001b[0malpha\u001b[0m\u001b[0;34m)\u001b[0m\u001b[0;34m\u001b[0m\u001b[0;34m\u001b[0m\u001b[0m\n\u001b[1;32m   5628\u001b[0m         \u001b[0;32mif\u001b[0m \u001b[0mim\u001b[0m\u001b[0;34m.\u001b[0m\u001b[0mget_clip_path\u001b[0m\u001b[0;34m(\u001b[0m\u001b[0;34m)\u001b[0m \u001b[0;32mis\u001b[0m \u001b[0;32mNone\u001b[0m\u001b[0;34m:\u001b[0m\u001b[0;34m\u001b[0m\u001b[0;34m\u001b[0m\u001b[0m\n",
            "\u001b[0;32m/usr/local/lib/python3.7/dist-packages/matplotlib/image.py\u001b[0m in \u001b[0;36mset_data\u001b[0;34m(self, A)\u001b[0m\n\u001b[1;32m    697\u001b[0m                 or self._A.ndim == 3 and self._A.shape[-1] in [3, 4]):\n\u001b[1;32m    698\u001b[0m             raise TypeError(\"Invalid shape {} for image data\"\n\u001b[0;32m--> 699\u001b[0;31m                             .format(self._A.shape))\n\u001b[0m\u001b[1;32m    700\u001b[0m \u001b[0;34m\u001b[0m\u001b[0m\n\u001b[1;32m    701\u001b[0m         \u001b[0;32mif\u001b[0m \u001b[0mself\u001b[0m\u001b[0;34m.\u001b[0m\u001b[0m_A\u001b[0m\u001b[0;34m.\u001b[0m\u001b[0mndim\u001b[0m \u001b[0;34m==\u001b[0m \u001b[0;36m3\u001b[0m\u001b[0;34m:\u001b[0m\u001b[0;34m\u001b[0m\u001b[0;34m\u001b[0m\u001b[0m\n",
            "\u001b[0;31mTypeError\u001b[0m: Invalid shape (1, 4, 96, 96) for image data"
          ]
        },
        {
          "output_type": "display_data",
          "data": {
            "image/png": "[encoded data removed]",
            "text/plain": [
              "<Figure size 432x288 with 2 Axes>"
            ]
          },
          "metadata": {
            "needs_background": "light"
          }
        }
      ]
    },
    {
      "cell_type": "markdown",
      "metadata": {
        "id": "wsycVbIuUov3"
      },
      "source": [
        "## 3 Evaluation\n",
        "\n",
        "As we will automatically evaluate your predicted test makes on Kaggle, in this section we expect you to learn:\n",
        "* what is the Dice score used on Kaggle to measure your models performance\n",
        "* how to submit your predicted masks to Kaggle"
      ]
    },
    {
      "cell_type": "markdown",
      "metadata": {
        "id": "NicQyj47jsD1"
      },
      "source": [
        "### 3.1 Dice Score\n",
        "\n",
        "To evaluate the quality of the predicted masks, the Dice score is adopted. Dice score on two masks A and B is defined as the intersection ratio between the overlap area and the average area of two masks. A higher Dice suggests a better registration.\n",
        "\n",
        "$Dice (A, B)= \\frac{2|A \\cap B|}{|A| + |B|} $\n",
        "\n",
        "However, in our coursework, we have three labels in each mask, we will compute the Dice score for each label and then average the three of them as the final score. Below we have given you `categorical_dice` for free so you can test your results before submission to Kaggle."
      ]
    },
    {
      "cell_type": "code",
      "metadata": {
        "id": "RzOY4GROqW_V"
      },
      "source": [
        "def categorical_dice(mask1, mask2, label_class=1):\n",
        "    \"\"\"\n",
        "    Dice score of a specified class between two volumes of label masks.\n",
        "    (classes are encoded but by label class number not one-hot )\n",
        "    Note: stacks of 2D slices are considered volumes.\n",
        "\n",
        "    Args:\n",
        "        mask1: N label masks, numpy array shaped (H, W, N)\n",
        "        mask2: N label masks, numpy array shaped (H, W, N)\n",
        "        label_class: the class over which to calculate dice scores\n",
        "\n",
        "    Returns:\n",
        "        volume_dice\n",
        "    \"\"\"\n",
        "    mask1_pos = (mask1 == label_class).astype(np.float32)\n",
        "    mask2_pos = (mask2 == label_class).astype(np.float32)\n",
        "    dice = 2 * np.sum(mask1_pos * mask2_pos) / (np.sum(mask1_pos) + np.sum(mask2_pos))\n",
        "    return dice"
      ],
      "execution_count": null,
      "outputs": []
    },
    {
      "cell_type": "markdown",
      "metadata": {
        "id": "JZcsrwmVjy5k"
      },
      "source": [
        "### 3.2 Submission\n",
        "\n",
        "Kaggle requires your submission to be in a specific CSV format. To help ensure your submissions are in the correct format, we have provided some helper functions to do this for you. For those interested, the png images are run-length encoded and saved in a CSV to the specifications required by our competition.\n",
        "\n",
        "It is sufficient to use this helper function. To do so, save your 80 predicted masks into a directory. ONLY the 80 predicted masks should be in this directory. Call the submission_converter function with the first argument as the directory containing your masks, and the second the directory in which you wish to save your submission."
      ]
    },
    {
      "cell_type": "code",
      "metadata": {
        "id": "uHDVbgu0qW_V"
      },
      "source": [
        "import numpy as np\n",
        "import os\n",
        "import cv2\n",
        "\n",
        "def rle_encoding(x):\n",
        "    '''\n",
        "    *** Credit to https://www.kaggle.com/rakhlin/fast-run-length-encoding-python ***\n",
        "    x: numpy array of shape (height, width), 1 - mask, 0 - background\n",
        "    Returns run length as list\n",
        "    '''\n",
        "    dots = np.where(x.T.flatten() == 1)[0]\n",
        "    run_lengths = []\n",
        "    prev = -2\n",
        "    for b in dots:\n",
        "        if (b > prev + 1): run_lengths.extend((b + 1, 0))\n",
        "        run_lengths[-1] += 1\n",
        "        prev = b\n",
        "    return run_lengths\n",
        "\n",
        "\n",
        "def submission_converter(mask_directory, path_to_save):\n",
        "    writer = open(os.path.join(path_to_save, \"submission.csv\"), 'w')\n",
        "    writer.write('id,encoding\\n')\n",
        "\n",
        "    files = os.listdir(mask_directory)\n",
        "\n",
        "    for file in files:\n",
        "        name = file[:-4]\n",
        "        mask = cv2.imread(os.path.join(mask_directory, file), cv2.IMREAD_UNCHANGED)\n",
        "\n",
        "        mask1 = (mask == 1)\n",
        "        mask2 = (mask == 2)\n",
        "        mask3 = (mask == 3)\n",
        "\n",
        "        encoded_mask1 = rle_encoding(mask1)\n",
        "        encoded_mask1 = ' '.join(str(e) for e in encoded_mask1)\n",
        "        encoded_mask2 = rle_encoding(mask2)\n",
        "        encoded_mask2 = ' '.join(str(e) for e in encoded_mask2)\n",
        "        encoded_mask3 = rle_encoding(mask3)\n",
        "        encoded_mask3 = ' '.join(str(e) for e in encoded_mask3)\n",
        "\n",
        "        writer.write(name + '1,' + encoded_mask1 + \"\\n\")\n",
        "        writer.write(name + '2,' + encoded_mask2 + \"\\n\")\n",
        "        writer.write(name + '3,' + encoded_mask3 + \"\\n\")\n",
        "\n",
        "    writer.close()"
      ],
      "execution_count": null,
      "outputs": []
    },
    {
      "cell_type": "code",
      "metadata": {
        "id": "-bOn_j_FqW_V"
      },
      "source": [
        ""
      ],
      "execution_count": null,
      "outputs": []
    },
    {
      "cell_type": "code",
      "metadata": {
        "id": "1g_jvJUntGwh"
      },
      "source": [
        ""
      ],
      "execution_count": null,
      "outputs": []
    }
  ]
}